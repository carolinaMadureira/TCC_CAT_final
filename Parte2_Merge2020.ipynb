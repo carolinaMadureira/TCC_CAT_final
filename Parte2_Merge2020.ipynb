{
 "cells": [
  {
   "cell_type": "code",
   "execution_count": 1,
   "metadata": {},
   "outputs": [],
   "source": [
    "import numpy as np\n",
    "import pandas as pd\n",
    "from scipy import special\n",
    "from random import sample\n",
    "import itertools\n",
    "from datetime import timedelta\n",
    "from IPython.display import display\n",
    "import matplotlib.pyplot as plt\n",
    "import seaborn as sns\n",
    "%matplotlib inline\n",
    "import math\n",
    "import re"
   ]
  },
  {
   "cell_type": "code",
   "execution_count": 2,
   "metadata": {},
   "outputs": [],
   "source": [
    "arquivoOrigem = 'datasets/result/dados_cat_2020.csv'\n",
    "\n",
    "nomeArquivoCid = 'datasets/result/2020/dados_cid_2020.csv'\n",
    "nomeArquivoUF = 'datasets/result/2020/dados_uf_2020.csv'\n",
    "nomeArquivoCBO = 'datasets/result/2020/dados_cbo_2020.csv'\n",
    "nomeArquivoAnoMes = 'datasets/result/2020/dados_anoMes_2020.csv'\n",
    "nomeArquivoCNAE = 'datasets/result/2020/dados_cnae_2020.csv'\n",
    "nomeArquivoParte = 'datasets/result/2020/dados_parte_2020.csv'\n",
    "nomeArquivoSexo = 'datasets/result/2020/dados_sexo_2020.csv'\n",
    "nomeArquivoIdade = 'datasets/result/2020/dados_idade_2020.csv'\n",
    "nomeArquivoObitos = 'datasets/result/2020/dados_obitos_2020.csv'\n",
    "nomeArquivoTipoAcidente = 'datasets/result/2020/dados_tipoAcidente_2020.csv'\n",
    "nomeArquivoNatureza = 'datasets/result/2020/dados_natureza_2020.csv'"
   ]
  },
  {
   "cell_type": "code",
   "execution_count": 3,
   "metadata": {},
   "outputs": [],
   "source": [
    "columns_types = {'cbo': int, 'cid': str, 'cnae': int, 'obito': str, 'parte': str, 'sexo': str, \n",
    "                 'tipo_acidente': str, 'uf_emp': str, 'idade': int, 'anoMes': str}\n",
    "\n",
    "nomes  = ['cbo', 'cid', 'cnae', 'obito', 'parte', 'sexo', 'tipo_acidente', 'uf_emp', 'idade', 'anoMes']\n",
    "\n",
    "dados_originais = pd.read_csv(arquivoOrigem, sep = ';', header=0, names=nomes, dtype=columns_types, encoding='utf8')\n",
    "\n",
    "df_original = pd.DataFrame(data = dados_originais)"
   ]
  },
  {
   "cell_type": "code",
   "execution_count": 4,
   "metadata": {},
   "outputs": [
    {
     "data": {
      "text/plain": [
       "274414"
      ]
     },
     "execution_count": 4,
     "metadata": {},
     "output_type": "execute_result"
    }
   ],
   "source": [
    "df_original.index = range(df_original.shape[0])\n",
    "df_original.shape[0]   #274414-> qtde total de acidentes analisados de 2020"
   ]
  },
  {
   "cell_type": "code",
   "execution_count": 5,
   "metadata": {},
   "outputs": [
    {
     "name": "stdout",
     "output_type": "stream",
     "text": [
      "<class 'pandas.core.frame.DataFrame'>\n",
      "Index: 10 entries, S610 to S619\n",
      "Data columns (total 1 columns):\n",
      " #   Column  Non-Null Count  Dtype\n",
      "---  ------  --------------  -----\n",
      " 0   qtde    10 non-null     int64\n",
      "dtypes: int64(1)\n",
      "memory usage: 160.0+ bytes\n"
     ]
    }
   ],
   "source": [
    "#Análise dos 20 CIDs de maior incidência em 2020:\n",
    "df_cid = pd.DataFrame(df_original['cid'].value_counts())\n",
    "df_cid.rename(columns={\"id\": \"cid\", \"cid\": \"qtde\"}, inplace=True)\n",
    "df_cid_mais = df_cid.head(10).copy()\n",
    "df_cid_mais.index.name='cid'\n",
    "\n",
    "df_cid_mais.info()"
   ]
  },
  {
   "cell_type": "code",
   "execution_count": 6,
   "metadata": {},
   "outputs": [
    {
     "data": {
      "text/html": [
       "<div>\n",
       "<style scoped>\n",
       "    .dataframe tbody tr th:only-of-type {\n",
       "        vertical-align: middle;\n",
       "    }\n",
       "\n",
       "    .dataframe tbody tr th {\n",
       "        vertical-align: top;\n",
       "    }\n",
       "\n",
       "    .dataframe thead th {\n",
       "        text-align: right;\n",
       "    }\n",
       "</style>\n",
       "<table border=\"1\" class=\"dataframe\">\n",
       "  <thead>\n",
       "    <tr style=\"text-align: right;\">\n",
       "      <th></th>\n",
       "      <th>qtde</th>\n",
       "    </tr>\n",
       "    <tr>\n",
       "      <th>cid</th>\n",
       "      <th></th>\n",
       "    </tr>\n",
       "  </thead>\n",
       "  <tbody>\n",
       "    <tr>\n",
       "      <th>S610</th>\n",
       "      <td>17192</td>\n",
       "    </tr>\n",
       "    <tr>\n",
       "      <th>B342</th>\n",
       "      <td>12529</td>\n",
       "    </tr>\n",
       "    <tr>\n",
       "      <th>S611</th>\n",
       "      <td>9764</td>\n",
       "    </tr>\n",
       "    <tr>\n",
       "      <th>Z209</th>\n",
       "      <td>9535</td>\n",
       "    </tr>\n",
       "    <tr>\n",
       "      <th>S626</th>\n",
       "      <td>8547</td>\n",
       "    </tr>\n",
       "    <tr>\n",
       "      <th>S934</th>\n",
       "      <td>8089</td>\n",
       "    </tr>\n",
       "    <tr>\n",
       "      <th>S600</th>\n",
       "      <td>6497</td>\n",
       "    </tr>\n",
       "    <tr>\n",
       "      <th>S800</th>\n",
       "      <td>5198</td>\n",
       "    </tr>\n",
       "    <tr>\n",
       "      <th>S900</th>\n",
       "      <td>3657</td>\n",
       "    </tr>\n",
       "    <tr>\n",
       "      <th>S619</th>\n",
       "      <td>3540</td>\n",
       "    </tr>\n",
       "  </tbody>\n",
       "</table>\n",
       "</div>"
      ],
      "text/plain": [
       "       qtde\n",
       "cid        \n",
       "S610  17192\n",
       "B342  12529\n",
       "S611   9764\n",
       "Z209   9535\n",
       "S626   8547\n",
       "S934   8089\n",
       "S600   6497\n",
       "S800   5198\n",
       "S900   3657\n",
       "S619   3540"
      ]
     },
     "execution_count": 6,
     "metadata": {},
     "output_type": "execute_result"
    }
   ],
   "source": [
    "df_cid_mais.head(10)"
   ]
  },
  {
   "cell_type": "code",
   "execution_count": 7,
   "metadata": {},
   "outputs": [],
   "source": [
    "df_cid_mais.to_csv(nomeArquivoCid, sep = ';', encoding='UTF-8')"
   ]
  },
  {
   "cell_type": "code",
   "execution_count": 9,
   "metadata": {},
   "outputs": [
    {
     "data": {
      "text/plain": [
       "84548"
      ]
     },
     "execution_count": 9,
     "metadata": {},
     "output_type": "execute_result"
    }
   ],
   "source": [
    "#qtde total de casos de ocorrência no dataFrame com os 10 maiores CIDs por ordem de ocorrência em 2020:\n",
    "df_cid_mais['qtde'].sum()  #84548"
   ]
  },
  {
   "cell_type": "code",
   "execution_count": 10,
   "metadata": {},
   "outputs": [
    {
     "name": "stdout",
     "output_type": "stream",
     "text": [
      "<class 'pandas.core.frame.DataFrame'>\n",
      "Index: 27 entries, São Paulo to Acre\n",
      "Data columns (total 1 columns):\n",
      " #   Column  Non-Null Count  Dtype\n",
      "---  ------  --------------  -----\n",
      " 0   qtde    27 non-null     int64\n",
      "dtypes: int64(1)\n",
      "memory usage: 432.0+ bytes\n"
     ]
    }
   ],
   "source": [
    "#Análise das 10 UFs de maior incidência de CAT em 2020:\n",
    "df_uf = pd.DataFrame(df_original['uf_emp'].value_counts())\n",
    "df_uf.rename(columns={\"uf_emp\": \"qtde\"}, inplace=True)\n",
    "df_uf_mais = df_uf.head(30).copy()\n",
    "df_uf_mais.index.name='uf_emp'\n",
    "df_uf_mais.info()"
   ]
  },
  {
   "cell_type": "code",
   "execution_count": 11,
   "metadata": {},
   "outputs": [
    {
     "data": {
      "text/html": [
       "<div>\n",
       "<style scoped>\n",
       "    .dataframe tbody tr th:only-of-type {\n",
       "        vertical-align: middle;\n",
       "    }\n",
       "\n",
       "    .dataframe tbody tr th {\n",
       "        vertical-align: top;\n",
       "    }\n",
       "\n",
       "    .dataframe thead th {\n",
       "        text-align: right;\n",
       "    }\n",
       "</style>\n",
       "<table border=\"1\" class=\"dataframe\">\n",
       "  <thead>\n",
       "    <tr style=\"text-align: right;\">\n",
       "      <th></th>\n",
       "      <th>qtde</th>\n",
       "    </tr>\n",
       "    <tr>\n",
       "      <th>uf_emp</th>\n",
       "      <th></th>\n",
       "    </tr>\n",
       "  </thead>\n",
       "  <tbody>\n",
       "    <tr>\n",
       "      <th>São Paulo</th>\n",
       "      <td>96573</td>\n",
       "    </tr>\n",
       "    <tr>\n",
       "      <th>Minas Gerais</th>\n",
       "      <td>30470</td>\n",
       "    </tr>\n",
       "    <tr>\n",
       "      <th>Rio Grande do Sul</th>\n",
       "      <td>23945</td>\n",
       "    </tr>\n",
       "    <tr>\n",
       "      <th>Paraná</th>\n",
       "      <td>22019</td>\n",
       "    </tr>\n",
       "    <tr>\n",
       "      <th>Santa Catarina</th>\n",
       "      <td>17648</td>\n",
       "    </tr>\n",
       "    <tr>\n",
       "      <th>Rio de Janeiro</th>\n",
       "      <td>16291</td>\n",
       "    </tr>\n",
       "    <tr>\n",
       "      <th>Goiás</th>\n",
       "      <td>8126</td>\n",
       "    </tr>\n",
       "    <tr>\n",
       "      <th>Bahia</th>\n",
       "      <td>7276</td>\n",
       "    </tr>\n",
       "    <tr>\n",
       "      <th>Mato Grosso</th>\n",
       "      <td>7227</td>\n",
       "    </tr>\n",
       "    <tr>\n",
       "      <th>Espírito Santo</th>\n",
       "      <td>6991</td>\n",
       "    </tr>\n",
       "    <tr>\n",
       "      <th>Pernambuco</th>\n",
       "      <td>5301</td>\n",
       "    </tr>\n",
       "    <tr>\n",
       "      <th>Ceará</th>\n",
       "      <td>4981</td>\n",
       "    </tr>\n",
       "    <tr>\n",
       "      <th>Mato Grosso do Sul</th>\n",
       "      <td>4883</td>\n",
       "    </tr>\n",
       "    <tr>\n",
       "      <th>Pará</th>\n",
       "      <td>4572</td>\n",
       "    </tr>\n",
       "    <tr>\n",
       "      <th>Distrito Federal</th>\n",
       "      <td>3367</td>\n",
       "    </tr>\n",
       "    <tr>\n",
       "      <th>Amazonas</th>\n",
       "      <td>2657</td>\n",
       "    </tr>\n",
       "    <tr>\n",
       "      <th>Rio Grande do Norte</th>\n",
       "      <td>1885</td>\n",
       "    </tr>\n",
       "    <tr>\n",
       "      <th>Rondônia</th>\n",
       "      <td>1764</td>\n",
       "    </tr>\n",
       "    <tr>\n",
       "      <th>Maranhão</th>\n",
       "      <td>1663</td>\n",
       "    </tr>\n",
       "    <tr>\n",
       "      <th>Alagoas</th>\n",
       "      <td>1418</td>\n",
       "    </tr>\n",
       "  </tbody>\n",
       "</table>\n",
       "</div>"
      ],
      "text/plain": [
       "                      qtde\n",
       "uf_emp                    \n",
       "São Paulo            96573\n",
       "Minas Gerais         30470\n",
       "Rio Grande do Sul    23945\n",
       "Paraná               22019\n",
       "Santa Catarina       17648\n",
       "Rio de Janeiro       16291\n",
       "Goiás                 8126\n",
       "Bahia                 7276\n",
       "Mato Grosso           7227\n",
       "Espírito Santo        6991\n",
       "Pernambuco            5301\n",
       "Ceará                 4981\n",
       "Mato Grosso do Sul    4883\n",
       "Pará                  4572\n",
       "Distrito Federal      3367\n",
       "Amazonas              2657\n",
       "Rio Grande do Norte   1885\n",
       "Rondônia              1764\n",
       "Maranhão              1663\n",
       "Alagoas               1418"
      ]
     },
     "execution_count": 11,
     "metadata": {},
     "output_type": "execute_result"
    }
   ],
   "source": [
    "df_uf_mais.head(20)"
   ]
  },
  {
   "cell_type": "code",
   "execution_count": 13,
   "metadata": {},
   "outputs": [
    {
     "data": {
      "text/plain": [
       "274414"
      ]
     },
     "execution_count": 13,
     "metadata": {},
     "output_type": "execute_result"
    }
   ],
   "source": [
    "#qtde total de casos de ocorrência no dataFrame com os 10 maiores UFs por ordem de ocorrência em 2020:\n",
    "df_uf_mais['qtde'].sum() #274414"
   ]
  },
  {
   "cell_type": "code",
   "execution_count": 14,
   "metadata": {},
   "outputs": [],
   "source": [
    "df_uf_mais.to_csv(nomeArquivoUF, sep = ';', encoding='UTF-8')"
   ]
  },
  {
   "cell_type": "code",
   "execution_count": 15,
   "metadata": {},
   "outputs": [
    {
     "name": "stdout",
     "output_type": "stream",
     "text": [
      "<class 'pandas.core.frame.DataFrame'>\n",
      "Int64Index: 10 entries, 322205 to 521125\n",
      "Data columns (total 1 columns):\n",
      " #   Column  Non-Null Count  Dtype\n",
      "---  ------  --------------  -----\n",
      " 0   qtde    10 non-null     int64\n",
      "dtypes: int64(1)\n",
      "memory usage: 160.0 bytes\n"
     ]
    }
   ],
   "source": [
    "#Análise das 20 CBOs de maior incidência de CAT em 2020:\n",
    "df_cbo = pd.DataFrame(df_original['cbo'].value_counts())\n",
    "df_cbo.rename(columns={\"cbo\": \"qtde\"}, inplace=True)\n",
    "df_cbo_mais = df_cbo.head(10).copy()\n",
    "df_cbo_mais.index.name='cbo'\n",
    "df_cbo_mais.info()"
   ]
  },
  {
   "cell_type": "code",
   "execution_count": 16,
   "metadata": {},
   "outputs": [
    {
     "data": {
      "text/html": [
       "<div>\n",
       "<style scoped>\n",
       "    .dataframe tbody tr th:only-of-type {\n",
       "        vertical-align: middle;\n",
       "    }\n",
       "\n",
       "    .dataframe tbody tr th {\n",
       "        vertical-align: top;\n",
       "    }\n",
       "\n",
       "    .dataframe thead th {\n",
       "        text-align: right;\n",
       "    }\n",
       "</style>\n",
       "<table border=\"1\" class=\"dataframe\">\n",
       "  <thead>\n",
       "    <tr style=\"text-align: right;\">\n",
       "      <th></th>\n",
       "      <th>qtde</th>\n",
       "    </tr>\n",
       "    <tr>\n",
       "      <th>cbo</th>\n",
       "      <th></th>\n",
       "    </tr>\n",
       "  </thead>\n",
       "  <tbody>\n",
       "    <tr>\n",
       "      <th>322205</th>\n",
       "      <td>24617</td>\n",
       "    </tr>\n",
       "    <tr>\n",
       "      <th>784205</th>\n",
       "      <td>16518</td>\n",
       "    </tr>\n",
       "    <tr>\n",
       "      <th>514320</th>\n",
       "      <td>10067</td>\n",
       "    </tr>\n",
       "    <tr>\n",
       "      <th>782510</th>\n",
       "      <td>6992</td>\n",
       "    </tr>\n",
       "    <tr>\n",
       "      <th>223505</th>\n",
       "      <td>6322</td>\n",
       "    </tr>\n",
       "    <tr>\n",
       "      <th>717020</th>\n",
       "      <td>6081</td>\n",
       "    </tr>\n",
       "    <tr>\n",
       "      <th>514205</th>\n",
       "      <td>4512</td>\n",
       "    </tr>\n",
       "    <tr>\n",
       "      <th>322230</th>\n",
       "      <td>4356</td>\n",
       "    </tr>\n",
       "    <tr>\n",
       "      <th>848520</th>\n",
       "      <td>3841</td>\n",
       "    </tr>\n",
       "    <tr>\n",
       "      <th>521125</th>\n",
       "      <td>3628</td>\n",
       "    </tr>\n",
       "  </tbody>\n",
       "</table>\n",
       "</div>"
      ],
      "text/plain": [
       "         qtde\n",
       "cbo          \n",
       "322205  24617\n",
       "784205  16518\n",
       "514320  10067\n",
       "782510   6992\n",
       "223505   6322\n",
       "717020   6081\n",
       "514205   4512\n",
       "322230   4356\n",
       "848520   3841\n",
       "521125   3628"
      ]
     },
     "execution_count": 16,
     "metadata": {},
     "output_type": "execute_result"
    }
   ],
   "source": [
    "df_cbo_mais.head(10)"
   ]
  },
  {
   "cell_type": "code",
   "execution_count": 18,
   "metadata": {},
   "outputs": [
    {
     "data": {
      "text/plain": [
       "86934"
      ]
     },
     "execution_count": 18,
     "metadata": {},
     "output_type": "execute_result"
    }
   ],
   "source": [
    "#qtde total de casos de ocorrência no dataFrame com os 20 maiores CBOs por ordem de ocorrência em 2020:\n",
    "df_cbo_mais['qtde'].sum() #86934"
   ]
  },
  {
   "cell_type": "code",
   "execution_count": 19,
   "metadata": {},
   "outputs": [],
   "source": [
    "df_cbo_mais.to_csv(nomeArquivoCBO, sep = ';', encoding='UTF-8')"
   ]
  },
  {
   "cell_type": "code",
   "execution_count": 20,
   "metadata": {},
   "outputs": [
    {
     "data": {
      "text/html": [
       "<div>\n",
       "<style scoped>\n",
       "    .dataframe tbody tr th:only-of-type {\n",
       "        vertical-align: middle;\n",
       "    }\n",
       "\n",
       "    .dataframe tbody tr th {\n",
       "        vertical-align: top;\n",
       "    }\n",
       "\n",
       "    .dataframe thead th {\n",
       "        text-align: right;\n",
       "    }\n",
       "</style>\n",
       "<table border=\"1\" class=\"dataframe\">\n",
       "  <thead>\n",
       "    <tr style=\"text-align: right;\">\n",
       "      <th></th>\n",
       "      <th>qtde</th>\n",
       "    </tr>\n",
       "    <tr>\n",
       "      <th>anoMes</th>\n",
       "      <th></th>\n",
       "    </tr>\n",
       "  </thead>\n",
       "  <tbody>\n",
       "    <tr>\n",
       "      <th>202007</th>\n",
       "      <td>38194</td>\n",
       "    </tr>\n",
       "    <tr>\n",
       "      <th>202008</th>\n",
       "      <td>37053</td>\n",
       "    </tr>\n",
       "    <tr>\n",
       "      <th>202006</th>\n",
       "      <td>33982</td>\n",
       "    </tr>\n",
       "    <tr>\n",
       "      <th>202009</th>\n",
       "      <td>30302</td>\n",
       "    </tr>\n",
       "    <tr>\n",
       "      <th>202002</th>\n",
       "      <td>29908</td>\n",
       "    </tr>\n",
       "    <tr>\n",
       "      <th>202005</th>\n",
       "      <td>29639</td>\n",
       "    </tr>\n",
       "    <tr>\n",
       "      <th>202001</th>\n",
       "      <td>28353</td>\n",
       "    </tr>\n",
       "    <tr>\n",
       "      <th>202003</th>\n",
       "      <td>27779</td>\n",
       "    </tr>\n",
       "    <tr>\n",
       "      <th>202004</th>\n",
       "      <td>19203</td>\n",
       "    </tr>\n",
       "    <tr>\n",
       "      <th>202010</th>\n",
       "      <td>1</td>\n",
       "    </tr>\n",
       "  </tbody>\n",
       "</table>\n",
       "</div>"
      ],
      "text/plain": [
       "         qtde\n",
       "anoMes       \n",
       "202007  38194\n",
       "202008  37053\n",
       "202006  33982\n",
       "202009  30302\n",
       "202002  29908\n",
       "202005  29639\n",
       "202001  28353\n",
       "202003  27779\n",
       "202004  19203\n",
       "202010      1"
      ]
     },
     "execution_count": 20,
     "metadata": {},
     "output_type": "execute_result"
    }
   ],
   "source": [
    "#Análise da incidência dos acidentes em meses de 2020:\n",
    "df_mes = pd.DataFrame(df_original['anoMes'].value_counts())\n",
    "df_mes.rename(columns={\"anoMes\": \"qtde\"}, inplace=True)\n",
    "df_mes_mais = df_mes.head(12).copy()\n",
    "df_mes_mais.index.name='anoMes'\n",
    "\n",
    "df_mes_mais.head(12)"
   ]
  },
  {
   "cell_type": "code",
   "execution_count": 21,
   "metadata": {},
   "outputs": [],
   "source": [
    "df_mes_mais.to_csv(nomeArquivoAnoMes, sep = ';', encoding='UTF-8')"
   ]
  },
  {
   "cell_type": "code",
   "execution_count": 22,
   "metadata": {},
   "outputs": [
    {
     "name": "stdout",
     "output_type": "stream",
     "text": [
      "<class 'pandas.core.frame.DataFrame'>\n",
      "Int64Index: 10 entries, 8610 to 5611\n",
      "Data columns (total 1 columns):\n",
      " #   Column  Non-Null Count  Dtype\n",
      "---  ------  --------------  -----\n",
      " 0   qtde    10 non-null     int64\n",
      "dtypes: int64(1)\n",
      "memory usage: 160.0 bytes\n"
     ]
    }
   ],
   "source": [
    "#Análise da incidência dos acidentes por CNAE:\n",
    "df_cnae = pd.DataFrame(df_original['cnae'].value_counts())\n",
    "df_cnae.rename(columns={\"cnae\": \"qtde\"}, inplace=True)\n",
    "\n",
    "df_cnae_mais = df_cnae.head(10).copy()\n",
    "df_cnae_mais.index.name='cnae'\n",
    "\n",
    "df_cnae_mais.info()"
   ]
  },
  {
   "cell_type": "code",
   "execution_count": 23,
   "metadata": {},
   "outputs": [
    {
     "data": {
      "text/html": [
       "<div>\n",
       "<style scoped>\n",
       "    .dataframe tbody tr th:only-of-type {\n",
       "        vertical-align: middle;\n",
       "    }\n",
       "\n",
       "    .dataframe tbody tr th {\n",
       "        vertical-align: top;\n",
       "    }\n",
       "\n",
       "    .dataframe thead th {\n",
       "        text-align: right;\n",
       "    }\n",
       "</style>\n",
       "<table border=\"1\" class=\"dataframe\">\n",
       "  <thead>\n",
       "    <tr style=\"text-align: right;\">\n",
       "      <th></th>\n",
       "      <th>qtde</th>\n",
       "    </tr>\n",
       "    <tr>\n",
       "      <th>cnae</th>\n",
       "      <th></th>\n",
       "    </tr>\n",
       "  </thead>\n",
       "  <tbody>\n",
       "    <tr>\n",
       "      <th>8610</th>\n",
       "      <td>39135</td>\n",
       "    </tr>\n",
       "    <tr>\n",
       "      <th>4711</th>\n",
       "      <td>11004</td>\n",
       "    </tr>\n",
       "    <tr>\n",
       "      <th>1012</th>\n",
       "      <td>8851</td>\n",
       "    </tr>\n",
       "    <tr>\n",
       "      <th>4930</th>\n",
       "      <td>7493</td>\n",
       "    </tr>\n",
       "    <tr>\n",
       "      <th>8411</th>\n",
       "      <td>6755</td>\n",
       "    </tr>\n",
       "    <tr>\n",
       "      <th>4120</th>\n",
       "      <td>5257</td>\n",
       "    </tr>\n",
       "    <tr>\n",
       "      <th>3811</th>\n",
       "      <td>4478</td>\n",
       "    </tr>\n",
       "    <tr>\n",
       "      <th>1011</th>\n",
       "      <td>3945</td>\n",
       "    </tr>\n",
       "    <tr>\n",
       "      <th>0</th>\n",
       "      <td>3822</td>\n",
       "    </tr>\n",
       "    <tr>\n",
       "      <th>5611</th>\n",
       "      <td>3710</td>\n",
       "    </tr>\n",
       "  </tbody>\n",
       "</table>\n",
       "</div>"
      ],
      "text/plain": [
       "       qtde\n",
       "cnae       \n",
       "8610  39135\n",
       "4711  11004\n",
       "1012   8851\n",
       "4930   7493\n",
       "8411   6755\n",
       "4120   5257\n",
       "3811   4478\n",
       "1011   3945\n",
       "0      3822\n",
       "5611   3710"
      ]
     },
     "execution_count": 23,
     "metadata": {},
     "output_type": "execute_result"
    }
   ],
   "source": [
    "df_cnae_mais.head(10)"
   ]
  },
  {
   "cell_type": "code",
   "execution_count": 25,
   "metadata": {},
   "outputs": [
    {
     "data": {
      "text/plain": [
       "94450"
      ]
     },
     "execution_count": 25,
     "metadata": {},
     "output_type": "execute_result"
    }
   ],
   "source": [
    "#qtde total de casos de ocorrência no dataFrame com os 20 maiores CNAEs por ordem de ocorrência em 2020:\n",
    "df_cnae_mais['qtde'].sum() #94450"
   ]
  },
  {
   "cell_type": "code",
   "execution_count": 26,
   "metadata": {},
   "outputs": [],
   "source": [
    "df_cnae_mais.to_csv(nomeArquivoCNAE, sep = ';', encoding='UTF-8')"
   ]
  },
  {
   "cell_type": "code",
   "execution_count": 27,
   "metadata": {},
   "outputs": [
    {
     "name": "stdout",
     "output_type": "stream",
     "text": [
      "<class 'pandas.core.frame.DataFrame'>\n",
      "Index: 10 entries, Dedo to Ombro\n",
      "Data columns (total 1 columns):\n",
      " #   Column  Non-Null Count  Dtype\n",
      "---  ------  --------------  -----\n",
      " 0   qtde    10 non-null     int64\n",
      "dtypes: int64(1)\n",
      "memory usage: 160.0+ bytes\n"
     ]
    }
   ],
   "source": [
    "#Análise da incidência dos acidentes por parte do corpo atingida:\n",
    "df_parte = pd.DataFrame(df_original['parte'].value_counts())\n",
    "df_parte.rename(columns={\"parte\": \"qtde\"}, inplace=True)\n",
    "\n",
    "df_parte_mais = df_parte.head(10).copy()\n",
    "df_parte_mais.index.name='parte'\n",
    "\n",
    "df_parte_mais.info()"
   ]
  },
  {
   "cell_type": "code",
   "execution_count": 28,
   "metadata": {},
   "outputs": [
    {
     "data": {
      "text/html": [
       "<div>\n",
       "<style scoped>\n",
       "    .dataframe tbody tr th:only-of-type {\n",
       "        vertical-align: middle;\n",
       "    }\n",
       "\n",
       "    .dataframe tbody tr th {\n",
       "        vertical-align: top;\n",
       "    }\n",
       "\n",
       "    .dataframe thead th {\n",
       "        text-align: right;\n",
       "    }\n",
       "</style>\n",
       "<table border=\"1\" class=\"dataframe\">\n",
       "  <thead>\n",
       "    <tr style=\"text-align: right;\">\n",
       "      <th></th>\n",
       "      <th>qtde</th>\n",
       "    </tr>\n",
       "    <tr>\n",
       "      <th>parte</th>\n",
       "      <th></th>\n",
       "    </tr>\n",
       "  </thead>\n",
       "  <tbody>\n",
       "    <tr>\n",
       "      <th>Dedo</th>\n",
       "      <td>68146</td>\n",
       "    </tr>\n",
       "    <tr>\n",
       "      <th>Pe (Exceto Artelhos)</th>\n",
       "      <td>21889</td>\n",
       "    </tr>\n",
       "    <tr>\n",
       "      <th>Mao (Exceto Punho ou</th>\n",
       "      <td>18810</td>\n",
       "    </tr>\n",
       "    <tr>\n",
       "      <th>Aparelho Respiratori</th>\n",
       "      <td>14391</td>\n",
       "    </tr>\n",
       "    <tr>\n",
       "      <th>Joelho</th>\n",
       "      <td>11931</td>\n",
       "    </tr>\n",
       "    <tr>\n",
       "      <th>Partes Multiplas - A</th>\n",
       "      <td>11016</td>\n",
       "    </tr>\n",
       "    <tr>\n",
       "      <th>Perna (Do Tornozelo,</th>\n",
       "      <td>10125</td>\n",
       "    </tr>\n",
       "    <tr>\n",
       "      <th>Olho (Inclusive Nerv</th>\n",
       "      <td>8657</td>\n",
       "    </tr>\n",
       "    <tr>\n",
       "      <th>Perna (Entre O Torno</th>\n",
       "      <td>8657</td>\n",
       "    </tr>\n",
       "    <tr>\n",
       "      <th>Ombro</th>\n",
       "      <td>8218</td>\n",
       "    </tr>\n",
       "  </tbody>\n",
       "</table>\n",
       "</div>"
      ],
      "text/plain": [
       "                       qtde\n",
       "parte                      \n",
       "Dedo                  68146\n",
       "Pe (Exceto Artelhos)  21889\n",
       "Mao (Exceto Punho ou  18810\n",
       "Aparelho Respiratori  14391\n",
       "Joelho                11931\n",
       "Partes Multiplas - A  11016\n",
       "Perna (Do Tornozelo,  10125\n",
       "Olho (Inclusive Nerv   8657\n",
       "Perna (Entre O Torno   8657\n",
       "Ombro                  8218"
      ]
     },
     "execution_count": 28,
     "metadata": {},
     "output_type": "execute_result"
    }
   ],
   "source": [
    "df_parte_mais.head(10)"
   ]
  },
  {
   "cell_type": "code",
   "execution_count": 29,
   "metadata": {},
   "outputs": [
    {
     "data": {
      "text/plain": [
       "181840"
      ]
     },
     "execution_count": 29,
     "metadata": {},
     "output_type": "execute_result"
    }
   ],
   "source": [
    "#qtde total de casos de ocorrência no dataFrame com os 20 maiores CNAEs por ordem de ocorrência em 2020:\n",
    "df_parte_mais['qtde'].sum() #181840"
   ]
  },
  {
   "cell_type": "code",
   "execution_count": 30,
   "metadata": {},
   "outputs": [],
   "source": [
    "df_parte_mais.to_csv(nomeArquivoParte, sep = ';', encoding='UTF-8')"
   ]
  },
  {
   "cell_type": "code",
   "execution_count": 31,
   "metadata": {},
   "outputs": [
    {
     "name": "stdout",
     "output_type": "stream",
     "text": [
      "<class 'pandas.core.frame.DataFrame'>\n",
      "Index: 4 entries, Masculino to Indeterminado\n",
      "Data columns (total 1 columns):\n",
      " #   Column  Non-Null Count  Dtype\n",
      "---  ------  --------------  -----\n",
      " 0   qtde    4 non-null      int64\n",
      "dtypes: int64(1)\n",
      "memory usage: 64.0+ bytes\n"
     ]
    }
   ],
   "source": [
    "#Análise da incidência dos acidentes, separados por sexo (M ou F):\n",
    "df_sexo = pd.DataFrame(df_original['sexo'].value_counts())\n",
    "df_sexo.rename(columns={\"sexo\": \"qtde\"}, inplace=True)\n",
    "\n",
    "df_sexo_mais = df_sexo.head(5).copy()  # pode haver alguma opção para 'não informado'\n",
    "df_sexo_mais.index.name='sexo'\n",
    "\n",
    "df_sexo_mais.info()"
   ]
  },
  {
   "cell_type": "code",
   "execution_count": 32,
   "metadata": {},
   "outputs": [
    {
     "data": {
      "text/html": [
       "<div>\n",
       "<style scoped>\n",
       "    .dataframe tbody tr th:only-of-type {\n",
       "        vertical-align: middle;\n",
       "    }\n",
       "\n",
       "    .dataframe tbody tr th {\n",
       "        vertical-align: top;\n",
       "    }\n",
       "\n",
       "    .dataframe thead th {\n",
       "        text-align: right;\n",
       "    }\n",
       "</style>\n",
       "<table border=\"1\" class=\"dataframe\">\n",
       "  <thead>\n",
       "    <tr style=\"text-align: right;\">\n",
       "      <th></th>\n",
       "      <th>qtde</th>\n",
       "    </tr>\n",
       "    <tr>\n",
       "      <th>sexo</th>\n",
       "      <th></th>\n",
       "    </tr>\n",
       "  </thead>\n",
       "  <tbody>\n",
       "    <tr>\n",
       "      <th>Masculino</th>\n",
       "      <td>183684</td>\n",
       "    </tr>\n",
       "    <tr>\n",
       "      <th>Feminino</th>\n",
       "      <td>89896</td>\n",
       "    </tr>\n",
       "    <tr>\n",
       "      <th>Não Informado</th>\n",
       "      <td>824</td>\n",
       "    </tr>\n",
       "    <tr>\n",
       "      <th>Indeterminado</th>\n",
       "      <td>10</td>\n",
       "    </tr>\n",
       "  </tbody>\n",
       "</table>\n",
       "</div>"
      ],
      "text/plain": [
       "                 qtde\n",
       "sexo                 \n",
       "Masculino      183684\n",
       "Feminino        89896\n",
       "Não Informado     824\n",
       "Indeterminado      10"
      ]
     },
     "execution_count": 32,
     "metadata": {},
     "output_type": "execute_result"
    }
   ],
   "source": [
    "df_sexo_mais.head()"
   ]
  },
  {
   "cell_type": "code",
   "execution_count": 34,
   "metadata": {},
   "outputs": [
    {
     "data": {
      "text/plain": [
       "274414"
      ]
     },
     "execution_count": 34,
     "metadata": {},
     "output_type": "execute_result"
    }
   ],
   "source": [
    "#qtde total de casos de ocorrência no dataFrame com os 20 maiores CNAEs por ordem de ocorrência em 2020:\n",
    "df_sexo_mais['qtde'].sum() #274414"
   ]
  },
  {
   "cell_type": "code",
   "execution_count": 35,
   "metadata": {},
   "outputs": [],
   "source": [
    "df_sexo_mais.to_csv(nomeArquivoSexo, sep = ';', encoding='UTF-8')"
   ]
  },
  {
   "cell_type": "code",
   "execution_count": 37,
   "metadata": {},
   "outputs": [
    {
     "data": {
      "text/plain": [
       "10"
      ]
     },
     "execution_count": 37,
     "metadata": {},
     "output_type": "execute_result"
    }
   ],
   "source": [
    "df_original['idade'].min() #10"
   ]
  },
  {
   "cell_type": "code",
   "execution_count": 39,
   "metadata": {},
   "outputs": [
    {
     "data": {
      "text/plain": [
       "2"
      ]
     },
     "execution_count": 39,
     "metadata": {},
     "output_type": "execute_result"
    }
   ],
   "source": [
    "selecao = df_original['idade'] < 14 \n",
    "df_min = df_original[selecao]\n",
    "df_min.head(10)\n",
    "df_min.shape[0]   #2"
   ]
  },
  {
   "cell_type": "code",
   "execution_count": 40,
   "metadata": {},
   "outputs": [
    {
     "data": {
      "text/plain": [
       "85"
      ]
     },
     "execution_count": 40,
     "metadata": {},
     "output_type": "execute_result"
    }
   ],
   "source": [
    "df_original['idade'].max()  #85"
   ]
  },
  {
   "cell_type": "code",
   "execution_count": 41,
   "metadata": {},
   "outputs": [],
   "source": [
    "classes = [13, 19, 24, 29, 34, 39, 44, 49, 54, 59, 64, 69, 100]\n",
    "faixas = pd.cut(df_original.idade, classes)"
   ]
  },
  {
   "cell_type": "code",
   "execution_count": 42,
   "metadata": {},
   "outputs": [
    {
     "data": {
      "text/plain": [
       "(29, 34]     44257\n",
       "(24, 29]     43462\n",
       "(34, 39]     42686\n",
       "(19, 24]     40627\n",
       "(39, 44]     34628\n",
       "(44, 49]     25194\n",
       "(49, 54]     18685\n",
       "(54, 59]     11356\n",
       "(13, 19]      8362\n",
       "(59, 64]      3823\n",
       "(64, 69]      1052\n",
       "(69, 100]      280\n",
       "Name: idade, dtype: int64"
      ]
     },
     "execution_count": 42,
     "metadata": {},
     "output_type": "execute_result"
    }
   ],
   "source": [
    "pd.value_counts(faixas)"
   ]
  },
  {
   "cell_type": "code",
   "execution_count": 43,
   "metadata": {},
   "outputs": [
    {
     "data": {
      "text/plain": [
       "30 a 34 anos:     44257\n",
       "25 a 29 anos:     43462\n",
       "35 a 39 anos:     42686\n",
       "20 a 24 anos:     40627\n",
       "40 a 44 anos:     34628\n",
       "45 a 49 anos:     25194\n",
       "50 a 54 anos:     18685\n",
       "55 a 59 anos:     11356\n",
       "14 a 19 anos:      8362\n",
       "60 a 64 anos:      3823\n",
       "65 a 69 anos:      1052\n",
       "70 a 100 anos:      280\n",
       "Name: idade, dtype: int64"
      ]
     },
     "execution_count": 43,
     "metadata": {},
     "output_type": "execute_result"
    }
   ],
   "source": [
    "labels = ['14 a 19 anos: ', '20 a 24 anos:', '25 a 29 anos:', '30 a 34 anos:', '35 a 39 anos:', '40 a 44 anos:', \n",
    "          '45 a 49 anos:', '50 a 54 anos:', '55 a 59 anos:', '60 a 64 anos:', '65 a 69 anos:', '70 a 100 anos:']\n",
    "faixas_labels = pd.cut(df_original.idade, classes, labels = labels)\n",
    "pd.value_counts(faixas_labels)"
   ]
  },
  {
   "cell_type": "code",
   "execution_count": 44,
   "metadata": {},
   "outputs": [],
   "source": [
    "df_faixasEtarias = pd.DataFrame(pd.value_counts(faixas_labels))"
   ]
  },
  {
   "cell_type": "code",
   "execution_count": 45,
   "metadata": {},
   "outputs": [
    {
     "data": {
      "text/html": [
       "<div>\n",
       "<style scoped>\n",
       "    .dataframe tbody tr th:only-of-type {\n",
       "        vertical-align: middle;\n",
       "    }\n",
       "\n",
       "    .dataframe tbody tr th {\n",
       "        vertical-align: top;\n",
       "    }\n",
       "\n",
       "    .dataframe thead th {\n",
       "        text-align: right;\n",
       "    }\n",
       "</style>\n",
       "<table border=\"1\" class=\"dataframe\">\n",
       "  <thead>\n",
       "    <tr style=\"text-align: right;\">\n",
       "      <th></th>\n",
       "      <th>idade</th>\n",
       "    </tr>\n",
       "  </thead>\n",
       "  <tbody>\n",
       "    <tr>\n",
       "      <th>30 a 34 anos:</th>\n",
       "      <td>44257</td>\n",
       "    </tr>\n",
       "    <tr>\n",
       "      <th>25 a 29 anos:</th>\n",
       "      <td>43462</td>\n",
       "    </tr>\n",
       "    <tr>\n",
       "      <th>35 a 39 anos:</th>\n",
       "      <td>42686</td>\n",
       "    </tr>\n",
       "    <tr>\n",
       "      <th>20 a 24 anos:</th>\n",
       "      <td>40627</td>\n",
       "    </tr>\n",
       "    <tr>\n",
       "      <th>40 a 44 anos:</th>\n",
       "      <td>34628</td>\n",
       "    </tr>\n",
       "    <tr>\n",
       "      <th>45 a 49 anos:</th>\n",
       "      <td>25194</td>\n",
       "    </tr>\n",
       "    <tr>\n",
       "      <th>50 a 54 anos:</th>\n",
       "      <td>18685</td>\n",
       "    </tr>\n",
       "    <tr>\n",
       "      <th>55 a 59 anos:</th>\n",
       "      <td>11356</td>\n",
       "    </tr>\n",
       "    <tr>\n",
       "      <th>14 a 19 anos:</th>\n",
       "      <td>8362</td>\n",
       "    </tr>\n",
       "    <tr>\n",
       "      <th>60 a 64 anos:</th>\n",
       "      <td>3823</td>\n",
       "    </tr>\n",
       "  </tbody>\n",
       "</table>\n",
       "</div>"
      ],
      "text/plain": [
       "                idade\n",
       "30 a 34 anos:   44257\n",
       "25 a 29 anos:   43462\n",
       "35 a 39 anos:   42686\n",
       "20 a 24 anos:   40627\n",
       "40 a 44 anos:   34628\n",
       "45 a 49 anos:   25194\n",
       "50 a 54 anos:   18685\n",
       "55 a 59 anos:   11356\n",
       "14 a 19 anos:    8362\n",
       "60 a 64 anos:    3823"
      ]
     },
     "execution_count": 45,
     "metadata": {},
     "output_type": "execute_result"
    }
   ],
   "source": [
    "df_faixasEtarias.head(10)"
   ]
  },
  {
   "cell_type": "code",
   "execution_count": 46,
   "metadata": {},
   "outputs": [],
   "source": [
    "df_faixasEtarias['desc_faixa'] = df_faixasEtarias.index"
   ]
  },
  {
   "cell_type": "code",
   "execution_count": 47,
   "metadata": {},
   "outputs": [
    {
     "data": {
      "text/html": [
       "<div>\n",
       "<style scoped>\n",
       "    .dataframe tbody tr th:only-of-type {\n",
       "        vertical-align: middle;\n",
       "    }\n",
       "\n",
       "    .dataframe tbody tr th {\n",
       "        vertical-align: top;\n",
       "    }\n",
       "\n",
       "    .dataframe thead th {\n",
       "        text-align: right;\n",
       "    }\n",
       "</style>\n",
       "<table border=\"1\" class=\"dataframe\">\n",
       "  <thead>\n",
       "    <tr style=\"text-align: right;\">\n",
       "      <th></th>\n",
       "      <th>idade</th>\n",
       "      <th>desc_faixa</th>\n",
       "    </tr>\n",
       "  </thead>\n",
       "  <tbody>\n",
       "    <tr>\n",
       "      <th>30 a 34 anos:</th>\n",
       "      <td>44257</td>\n",
       "      <td>30 a 34 anos:</td>\n",
       "    </tr>\n",
       "    <tr>\n",
       "      <th>25 a 29 anos:</th>\n",
       "      <td>43462</td>\n",
       "      <td>25 a 29 anos:</td>\n",
       "    </tr>\n",
       "    <tr>\n",
       "      <th>35 a 39 anos:</th>\n",
       "      <td>42686</td>\n",
       "      <td>35 a 39 anos:</td>\n",
       "    </tr>\n",
       "    <tr>\n",
       "      <th>20 a 24 anos:</th>\n",
       "      <td>40627</td>\n",
       "      <td>20 a 24 anos:</td>\n",
       "    </tr>\n",
       "    <tr>\n",
       "      <th>40 a 44 anos:</th>\n",
       "      <td>34628</td>\n",
       "      <td>40 a 44 anos:</td>\n",
       "    </tr>\n",
       "    <tr>\n",
       "      <th>45 a 49 anos:</th>\n",
       "      <td>25194</td>\n",
       "      <td>45 a 49 anos:</td>\n",
       "    </tr>\n",
       "    <tr>\n",
       "      <th>50 a 54 anos:</th>\n",
       "      <td>18685</td>\n",
       "      <td>50 a 54 anos:</td>\n",
       "    </tr>\n",
       "    <tr>\n",
       "      <th>55 a 59 anos:</th>\n",
       "      <td>11356</td>\n",
       "      <td>55 a 59 anos:</td>\n",
       "    </tr>\n",
       "    <tr>\n",
       "      <th>14 a 19 anos:</th>\n",
       "      <td>8362</td>\n",
       "      <td>14 a 19 anos:</td>\n",
       "    </tr>\n",
       "    <tr>\n",
       "      <th>60 a 64 anos:</th>\n",
       "      <td>3823</td>\n",
       "      <td>60 a 64 anos:</td>\n",
       "    </tr>\n",
       "  </tbody>\n",
       "</table>\n",
       "</div>"
      ],
      "text/plain": [
       "                idade      desc_faixa\n",
       "30 a 34 anos:   44257   30 a 34 anos:\n",
       "25 a 29 anos:   43462   25 a 29 anos:\n",
       "35 a 39 anos:   42686   35 a 39 anos:\n",
       "20 a 24 anos:   40627   20 a 24 anos:\n",
       "40 a 44 anos:   34628   40 a 44 anos:\n",
       "45 a 49 anos:   25194   45 a 49 anos:\n",
       "50 a 54 anos:   18685   50 a 54 anos:\n",
       "55 a 59 anos:   11356   55 a 59 anos:\n",
       "14 a 19 anos:    8362  14 a 19 anos: \n",
       "60 a 64 anos:    3823   60 a 64 anos:"
      ]
     },
     "execution_count": 47,
     "metadata": {},
     "output_type": "execute_result"
    }
   ],
   "source": [
    "df_faixasEtarias.head(10)"
   ]
  },
  {
   "cell_type": "code",
   "execution_count": 48,
   "metadata": {},
   "outputs": [
    {
     "data": {
      "text/html": [
       "<div>\n",
       "<style scoped>\n",
       "    .dataframe tbody tr th:only-of-type {\n",
       "        vertical-align: middle;\n",
       "    }\n",
       "\n",
       "    .dataframe tbody tr th {\n",
       "        vertical-align: top;\n",
       "    }\n",
       "\n",
       "    .dataframe thead th {\n",
       "        text-align: right;\n",
       "    }\n",
       "</style>\n",
       "<table border=\"1\" class=\"dataframe\">\n",
       "  <thead>\n",
       "    <tr style=\"text-align: right;\">\n",
       "      <th></th>\n",
       "      <th>qtde</th>\n",
       "      <th>desc_faixa</th>\n",
       "    </tr>\n",
       "    <tr>\n",
       "      <th>id</th>\n",
       "      <th></th>\n",
       "      <th></th>\n",
       "    </tr>\n",
       "  </thead>\n",
       "  <tbody>\n",
       "    <tr>\n",
       "      <th>0</th>\n",
       "      <td>44257</td>\n",
       "      <td>30 a 34 anos:</td>\n",
       "    </tr>\n",
       "    <tr>\n",
       "      <th>1</th>\n",
       "      <td>43462</td>\n",
       "      <td>25 a 29 anos:</td>\n",
       "    </tr>\n",
       "    <tr>\n",
       "      <th>2</th>\n",
       "      <td>42686</td>\n",
       "      <td>35 a 39 anos:</td>\n",
       "    </tr>\n",
       "    <tr>\n",
       "      <th>3</th>\n",
       "      <td>40627</td>\n",
       "      <td>20 a 24 anos:</td>\n",
       "    </tr>\n",
       "    <tr>\n",
       "      <th>4</th>\n",
       "      <td>34628</td>\n",
       "      <td>40 a 44 anos:</td>\n",
       "    </tr>\n",
       "    <tr>\n",
       "      <th>5</th>\n",
       "      <td>25194</td>\n",
       "      <td>45 a 49 anos:</td>\n",
       "    </tr>\n",
       "    <tr>\n",
       "      <th>6</th>\n",
       "      <td>18685</td>\n",
       "      <td>50 a 54 anos:</td>\n",
       "    </tr>\n",
       "    <tr>\n",
       "      <th>7</th>\n",
       "      <td>11356</td>\n",
       "      <td>55 a 59 anos:</td>\n",
       "    </tr>\n",
       "    <tr>\n",
       "      <th>8</th>\n",
       "      <td>8362</td>\n",
       "      <td>14 a 19 anos:</td>\n",
       "    </tr>\n",
       "    <tr>\n",
       "      <th>9</th>\n",
       "      <td>3823</td>\n",
       "      <td>60 a 64 anos:</td>\n",
       "    </tr>\n",
       "  </tbody>\n",
       "</table>\n",
       "</div>"
      ],
      "text/plain": [
       "     qtde      desc_faixa\n",
       "id                       \n",
       "0   44257   30 a 34 anos:\n",
       "1   43462   25 a 29 anos:\n",
       "2   42686   35 a 39 anos:\n",
       "3   40627   20 a 24 anos:\n",
       "4   34628   40 a 44 anos:\n",
       "5   25194   45 a 49 anos:\n",
       "6   18685   50 a 54 anos:\n",
       "7   11356   55 a 59 anos:\n",
       "8    8362  14 a 19 anos: \n",
       "9    3823   60 a 64 anos:"
      ]
     },
     "execution_count": 48,
     "metadata": {},
     "output_type": "execute_result"
    }
   ],
   "source": [
    "df_faixasEtarias.index = range(df_faixasEtarias.shape[0])\n",
    "df_faixasEtarias.index.name = 'id'\n",
    "df_faixasEtarias.rename(columns={\"idade\": \"qtde\"}, inplace=True)\n",
    "df_faixasEtarias.head(10)"
   ]
  },
  {
   "cell_type": "code",
   "execution_count": 50,
   "metadata": {},
   "outputs": [
    {
     "data": {
      "text/plain": [
       "274412"
      ]
     },
     "execution_count": 50,
     "metadata": {},
     "output_type": "execute_result"
    }
   ],
   "source": [
    "df_faixasEtarias.to_csv(nomeArquivoIdade, sep = ';', encoding='UTF-8')\n",
    "df_faixasEtarias['qtde'].sum() #274412"
   ]
  },
  {
   "cell_type": "code",
   "execution_count": 51,
   "metadata": {},
   "outputs": [
    {
     "name": "stdout",
     "output_type": "stream",
     "text": [
      "<class 'pandas.core.frame.DataFrame'>\n",
      "Index: 2 entries, Não to Sim\n",
      "Data columns (total 1 columns):\n",
      " #   Column  Non-Null Count  Dtype\n",
      "---  ------  --------------  -----\n",
      " 0   qtde    2 non-null      int64\n",
      "dtypes: int64(1)\n",
      "memory usage: 32.0+ bytes\n"
     ]
    }
   ],
   "source": [
    "#Análise da incidência de óbitos decorrentes dos acidente:\n",
    "df_obitos = pd.DataFrame(df_original['obito'].value_counts())\n",
    "df_obitos.rename(columns={\"obito\": \"qtde\"}, inplace=True)\n",
    "\n",
    "df_obitos_mais = df_obitos.head(5).copy()  # pode haver alguma opção para 'não informado'\n",
    "df_obitos_mais.index.name='obito'\n",
    "\n",
    "df_obitos_mais.info()"
   ]
  },
  {
   "cell_type": "code",
   "execution_count": 52,
   "metadata": {},
   "outputs": [
    {
     "data": {
      "text/html": [
       "<div>\n",
       "<style scoped>\n",
       "    .dataframe tbody tr th:only-of-type {\n",
       "        vertical-align: middle;\n",
       "    }\n",
       "\n",
       "    .dataframe tbody tr th {\n",
       "        vertical-align: top;\n",
       "    }\n",
       "\n",
       "    .dataframe thead th {\n",
       "        text-align: right;\n",
       "    }\n",
       "</style>\n",
       "<table border=\"1\" class=\"dataframe\">\n",
       "  <thead>\n",
       "    <tr style=\"text-align: right;\">\n",
       "      <th></th>\n",
       "      <th>qtde</th>\n",
       "    </tr>\n",
       "    <tr>\n",
       "      <th>obito</th>\n",
       "      <th></th>\n",
       "    </tr>\n",
       "  </thead>\n",
       "  <tbody>\n",
       "    <tr>\n",
       "      <th>Não</th>\n",
       "      <td>273146</td>\n",
       "    </tr>\n",
       "    <tr>\n",
       "      <th>Sim</th>\n",
       "      <td>1268</td>\n",
       "    </tr>\n",
       "  </tbody>\n",
       "</table>\n",
       "</div>"
      ],
      "text/plain": [
       "         qtde\n",
       "obito        \n",
       "Não    273146\n",
       "Sim      1268"
      ]
     },
     "execution_count": 52,
     "metadata": {},
     "output_type": "execute_result"
    }
   ],
   "source": [
    "df_obitos_mais.head()"
   ]
  },
  {
   "cell_type": "code",
   "execution_count": 54,
   "metadata": {},
   "outputs": [
    {
     "data": {
      "text/plain": [
       "274414"
      ]
     },
     "execution_count": 54,
     "metadata": {},
     "output_type": "execute_result"
    }
   ],
   "source": [
    "#qtde total de casos de ocorrência no dataFrame:\n",
    "df_obitos_mais['qtde'].sum() #274414"
   ]
  },
  {
   "cell_type": "code",
   "execution_count": 55,
   "metadata": {},
   "outputs": [],
   "source": [
    "df_obitos_mais.to_csv(nomeArquivoObitos, sep = ';', encoding='UTF-8')"
   ]
  },
  {
   "cell_type": "code",
   "execution_count": 56,
   "metadata": {},
   "outputs": [
    {
     "name": "stdout",
     "output_type": "stream",
     "text": [
      "<class 'pandas.core.frame.DataFrame'>\n",
      "Index: 3 entries, Típico to Doença\n",
      "Data columns (total 1 columns):\n",
      " #   Column  Non-Null Count  Dtype\n",
      "---  ------  --------------  -----\n",
      " 0   qtde    3 non-null      int64\n",
      "dtypes: int64(1)\n",
      "memory usage: 48.0+ bytes\n"
     ]
    }
   ],
   "source": [
    "#Análise da incidência de tipos de acidentes:\n",
    "df_tipos = pd.DataFrame(df_original['tipo_acidente'].value_counts())\n",
    "df_tipos.rename(columns={\"tipo_acidente\": \"qtde\"}, inplace=True)\n",
    "\n",
    "df_tipos_mais = df_tipos.head(10).copy()  # pode haver alguma opção para 'não informado'\n",
    "df_tipos_mais.index.name='tipo_acidente'\n",
    "\n",
    "df_tipos_mais.info()"
   ]
  },
  {
   "cell_type": "code",
   "execution_count": 57,
   "metadata": {},
   "outputs": [
    {
     "data": {
      "text/html": [
       "<div>\n",
       "<style scoped>\n",
       "    .dataframe tbody tr th:only-of-type {\n",
       "        vertical-align: middle;\n",
       "    }\n",
       "\n",
       "    .dataframe tbody tr th {\n",
       "        vertical-align: top;\n",
       "    }\n",
       "\n",
       "    .dataframe thead th {\n",
       "        text-align: right;\n",
       "    }\n",
       "</style>\n",
       "<table border=\"1\" class=\"dataframe\">\n",
       "  <thead>\n",
       "    <tr style=\"text-align: right;\">\n",
       "      <th></th>\n",
       "      <th>qtde</th>\n",
       "    </tr>\n",
       "    <tr>\n",
       "      <th>tipo_acidente</th>\n",
       "      <th></th>\n",
       "    </tr>\n",
       "  </thead>\n",
       "  <tbody>\n",
       "    <tr>\n",
       "      <th>Típico</th>\n",
       "      <td>220450</td>\n",
       "    </tr>\n",
       "    <tr>\n",
       "      <th>Trajeto</th>\n",
       "      <td>35369</td>\n",
       "    </tr>\n",
       "    <tr>\n",
       "      <th>Doença</th>\n",
       "      <td>18595</td>\n",
       "    </tr>\n",
       "  </tbody>\n",
       "</table>\n",
       "</div>"
      ],
      "text/plain": [
       "                 qtde\n",
       "tipo_acidente        \n",
       "Típico         220450\n",
       "Trajeto         35369\n",
       "Doença          18595"
      ]
     },
     "execution_count": 57,
     "metadata": {},
     "output_type": "execute_result"
    }
   ],
   "source": [
    "df_tipos_mais.head(20)"
   ]
  },
  {
   "cell_type": "code",
   "execution_count": 59,
   "metadata": {},
   "outputs": [
    {
     "data": {
      "text/plain": [
       "274414"
      ]
     },
     "execution_count": 59,
     "metadata": {},
     "output_type": "execute_result"
    }
   ],
   "source": [
    "#qtde total de casos de ocorrência no dataFrame:\n",
    "df_tipos_mais['qtde'].sum() #274414"
   ]
  },
  {
   "cell_type": "code",
   "execution_count": 60,
   "metadata": {},
   "outputs": [],
   "source": [
    "df_tipos_mais.to_csv(nomeArquivoTipoAcidente, sep = ';', encoding='UTF-8')"
   ]
  },
  {
   "cell_type": "code",
   "execution_count": null,
   "metadata": {},
   "outputs": [],
   "source": []
  }
 ],
 "metadata": {
  "kernelspec": {
   "display_name": "Python 3",
   "language": "python",
   "name": "python3"
  },
  "language_info": {
   "codemirror_mode": {
    "name": "ipython",
    "version": 3
   },
   "file_extension": ".py",
   "mimetype": "text/x-python",
   "name": "python",
   "nbconvert_exporter": "python",
   "pygments_lexer": "ipython3",
   "version": "3.8.3"
  }
 },
 "nbformat": 4,
 "nbformat_minor": 4
}
