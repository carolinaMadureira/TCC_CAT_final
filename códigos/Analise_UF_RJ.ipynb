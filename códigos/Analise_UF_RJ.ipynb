{
 "cells": [
  {
   "cell_type": "markdown",
   "metadata": {},
   "source": [
    "# Análise da Ocorrência de CATs por UF:"
   ]
  },
  {
   "cell_type": "raw",
   "metadata": {},
   "source": [
    "Importação das bibliotecas necessárias:"
   ]
  },
  {
   "cell_type": "code",
   "execution_count": 1,
   "metadata": {},
   "outputs": [],
   "source": [
    "#retirar as que não forem usadas\n",
    "import pandas as pd\n",
    "import matplotlib.pyplot as plt\n",
    "%matplotlib inline\n",
    "import math \n",
    "from statsmodels.tsa.seasonal import seasonal_decompose\n",
    "from statsmodels.tsa.stattools import adfuller\n",
    "import warnings\n",
    "from matplotlib.pylab import rcParams\n",
    "from statsmodels.tsa.stattools import adfuller\n",
    "from statsmodels.tsa.arima_model import ARIMA\n",
    "import statsmodels.api as sm"
   ]
  },
  {
   "cell_type": "raw",
   "metadata": {},
   "source": [
    "Leitura dos arquivos que contém os dados das 5 UFs com maior ocorrência de CATs de 1988  a 2020:"
   ]
  },
  {
   "cell_type": "code",
   "execution_count": 2,
   "metadata": {},
   "outputs": [
    {
     "data": {
      "text/html": [
       "<div>\n",
       "<style scoped>\n",
       "    .dataframe tbody tr th:only-of-type {\n",
       "        vertical-align: middle;\n",
       "    }\n",
       "\n",
       "    .dataframe tbody tr th {\n",
       "        vertical-align: top;\n",
       "    }\n",
       "\n",
       "    .dataframe thead th {\n",
       "        text-align: right;\n",
       "    }\n",
       "</style>\n",
       "<table border=\"1\" class=\"dataframe\">\n",
       "  <thead>\n",
       "    <tr style=\"text-align: right;\">\n",
       "      <th></th>\n",
       "      <th>uf</th>\n",
       "      <th>qtde</th>\n",
       "    </tr>\n",
       "  </thead>\n",
       "  <tbody>\n",
       "    <tr>\n",
       "      <th>0</th>\n",
       "      <td>São Paulo</td>\n",
       "      <td>7513480</td>\n",
       "    </tr>\n",
       "    <tr>\n",
       "      <th>1</th>\n",
       "      <td>Minas Gerais</td>\n",
       "      <td>1998656</td>\n",
       "    </tr>\n",
       "    <tr>\n",
       "      <th>2</th>\n",
       "      <td>Rio Grande do Sul</td>\n",
       "      <td>1606137</td>\n",
       "    </tr>\n",
       "    <tr>\n",
       "      <th>3</th>\n",
       "      <td>Paraná</td>\n",
       "      <td>1350352</td>\n",
       "    </tr>\n",
       "    <tr>\n",
       "      <th>4</th>\n",
       "      <td>Rio de Janeiro</td>\n",
       "      <td>1259856</td>\n",
       "    </tr>\n",
       "  </tbody>\n",
       "</table>\n",
       "</div>"
      ],
      "text/plain": [
       "                  uf     qtde\n",
       "0          São Paulo  7513480\n",
       "1       Minas Gerais  1998656\n",
       "2  Rio Grande do Sul  1606137\n",
       "3             Paraná  1350352\n",
       "4     Rio de Janeiro  1259856"
      ]
     },
     "execution_count": 2,
     "metadata": {},
     "output_type": "execute_result"
    }
   ],
   "source": [
    "arquivoUFSomaTotal = 'datasets/result/dados_uf_soma_top.csv'  \n",
    "#colunas: uf | qtde  \n",
    "\n",
    "columns_types = {'uf': str, 'qtde': int}\n",
    "nomes  = ['uf', 'qtde']\n",
    "\n",
    "dados_uf = pd.read_csv(arquivoUFSomaTotal, sep = ';', header=0, names=nomes, dtype=columns_types, encoding='utf-8')\n",
    "df_uf = pd.DataFrame(data = dados_uf, columns=nomes)\n",
    "df_uf.head()"
   ]
  },
  {
   "cell_type": "raw",
   "metadata": {},
   "source": [
    "Verificando informações do DataFrame, como o tipo dos dados do arquivo e a quantidade de registros:"
   ]
  },
  {
   "cell_type": "code",
   "execution_count": 3,
   "metadata": {},
   "outputs": [
    {
     "name": "stdout",
     "output_type": "stream",
     "text": [
      "<class 'pandas.core.frame.DataFrame'>\n",
      "RangeIndex: 5 entries, 0 to 4\n",
      "Data columns (total 2 columns):\n",
      " #   Column  Non-Null Count  Dtype \n",
      "---  ------  --------------  ----- \n",
      " 0   uf      5 non-null      object\n",
      " 1   qtde    5 non-null      int32 \n",
      "dtypes: int32(1), object(1)\n",
      "memory usage: 188.0+ bytes\n"
     ]
    }
   ],
   "source": [
    "df_uf.info()"
   ]
  },
  {
   "cell_type": "raw",
   "metadata": {},
   "source": [
    "Verificando mais informações sobre os valores da série qtde, como o contador de itens, a média dos valores que a compõem, \n",
    "seu desvio padrão, valor mínimo, quartis e valor máximo:"
   ]
  },
  {
   "cell_type": "code",
   "execution_count": 4,
   "metadata": {},
   "outputs": [
    {
     "data": {
      "text/html": [
       "<div>\n",
       "<style scoped>\n",
       "    .dataframe tbody tr th:only-of-type {\n",
       "        vertical-align: middle;\n",
       "    }\n",
       "\n",
       "    .dataframe tbody tr th {\n",
       "        vertical-align: top;\n",
       "    }\n",
       "\n",
       "    .dataframe thead th {\n",
       "        text-align: right;\n",
       "    }\n",
       "</style>\n",
       "<table border=\"1\" class=\"dataframe\">\n",
       "  <thead>\n",
       "    <tr style=\"text-align: right;\">\n",
       "      <th></th>\n",
       "      <th>qtde</th>\n",
       "    </tr>\n",
       "  </thead>\n",
       "  <tbody>\n",
       "    <tr>\n",
       "      <th>count</th>\n",
       "      <td>5.000000e+00</td>\n",
       "    </tr>\n",
       "    <tr>\n",
       "      <th>mean</th>\n",
       "      <td>2.745696e+06</td>\n",
       "    </tr>\n",
       "    <tr>\n",
       "      <th>std</th>\n",
       "      <td>2.680631e+06</td>\n",
       "    </tr>\n",
       "    <tr>\n",
       "      <th>min</th>\n",
       "      <td>1.259856e+06</td>\n",
       "    </tr>\n",
       "    <tr>\n",
       "      <th>25%</th>\n",
       "      <td>1.350352e+06</td>\n",
       "    </tr>\n",
       "    <tr>\n",
       "      <th>50%</th>\n",
       "      <td>1.606137e+06</td>\n",
       "    </tr>\n",
       "    <tr>\n",
       "      <th>75%</th>\n",
       "      <td>1.998656e+06</td>\n",
       "    </tr>\n",
       "    <tr>\n",
       "      <th>max</th>\n",
       "      <td>7.513480e+06</td>\n",
       "    </tr>\n",
       "  </tbody>\n",
       "</table>\n",
       "</div>"
      ],
      "text/plain": [
       "               qtde\n",
       "count  5.000000e+00\n",
       "mean   2.745696e+06\n",
       "std    2.680631e+06\n",
       "min    1.259856e+06\n",
       "25%    1.350352e+06\n",
       "50%    1.606137e+06\n",
       "75%    1.998656e+06\n",
       "max    7.513480e+06"
      ]
     },
     "execution_count": 4,
     "metadata": {},
     "output_type": "execute_result"
    }
   ],
   "source": [
    "df_uf.describe()"
   ]
  },
  {
   "cell_type": "code",
   "execution_count": 5,
   "metadata": {},
   "outputs": [
    {
     "data": {
      "image/png": "[encoded data removed]",
      "text/plain": [
       "<Figure size 720x360 with 1 Axes>"
      ]
     },
     "metadata": {
      "needs_background": "light"
     },
     "output_type": "display_data"
    }
   ],
   "source": [
    "# Criando um gráfico de barras:\n",
    "fig = plt.figure(figsize = (10,5))\n",
    "graf_uf = fig.add_axes([0,0,1,1])\n",
    "graf_uf.barh(df_uf['uf'], df_uf['qtde'], color='red')\n",
    "graf_uf.set_title('UF x Qtde de CATs Registrados de 1988 a 2020', fontsize=15)\n",
    "graf_uf.set_ylabel(\"UF\")\n",
    "graf_uf.set_xlabel(\"Qtde (em milhões)\")\n",
    "\n",
    "plt.show()"
   ]
  },
  {
   "cell_type": "markdown",
   "metadata": {},
   "source": [
    "# Análise dos Dados do RJ:"
   ]
  },
  {
   "cell_type": "code",
   "execution_count": 6,
   "metadata": {},
   "outputs": [
    {
     "data": {
      "text/html": [
       "<div>\n",
       "<style scoped>\n",
       "    .dataframe tbody tr th:only-of-type {\n",
       "        vertical-align: middle;\n",
       "    }\n",
       "\n",
       "    .dataframe tbody tr th {\n",
       "        vertical-align: top;\n",
       "    }\n",
       "\n",
       "    .dataframe thead th {\n",
       "        text-align: right;\n",
       "    }\n",
       "</style>\n",
       "<table border=\"1\" class=\"dataframe\">\n",
       "  <thead>\n",
       "    <tr style=\"text-align: right;\">\n",
       "      <th></th>\n",
       "      <th>uf</th>\n",
       "      <th>ano</th>\n",
       "      <th>qtde</th>\n",
       "    </tr>\n",
       "    <tr>\n",
       "      <th>id</th>\n",
       "      <th></th>\n",
       "      <th></th>\n",
       "      <th></th>\n",
       "    </tr>\n",
       "  </thead>\n",
       "  <tbody>\n",
       "    <tr>\n",
       "      <th>0</th>\n",
       "      <td>Minas Gerais</td>\n",
       "      <td>1988</td>\n",
       "      <td>95802</td>\n",
       "    </tr>\n",
       "    <tr>\n",
       "      <th>1</th>\n",
       "      <td>Minas Gerais</td>\n",
       "      <td>1989</td>\n",
       "      <td>89049</td>\n",
       "    </tr>\n",
       "    <tr>\n",
       "      <th>2</th>\n",
       "      <td>Minas Gerais</td>\n",
       "      <td>1990</td>\n",
       "      <td>67619</td>\n",
       "    </tr>\n",
       "    <tr>\n",
       "      <th>3</th>\n",
       "      <td>Minas Gerais</td>\n",
       "      <td>1991</td>\n",
       "      <td>65891</td>\n",
       "    </tr>\n",
       "    <tr>\n",
       "      <th>4</th>\n",
       "      <td>Minas Gerais</td>\n",
       "      <td>1992</td>\n",
       "      <td>57695</td>\n",
       "    </tr>\n",
       "  </tbody>\n",
       "</table>\n",
       "</div>"
      ],
      "text/plain": [
       "              uf   ano   qtde\n",
       "id                           \n",
       "0   Minas Gerais  1988  95802\n",
       "1   Minas Gerais  1989  89049\n",
       "2   Minas Gerais  1990  67619\n",
       "3   Minas Gerais  1991  65891\n",
       "4   Minas Gerais  1992  57695"
      ]
     },
     "execution_count": 6,
     "metadata": {},
     "output_type": "execute_result"
    }
   ],
   "source": [
    "arquivoUFAnoTop = 'datasets/result/dados_uf_ano_soma_top.csv'  \n",
    "#colunas: uf | ano |qtde  \n",
    "\n",
    "columns_types = {'uf': str, 'ano': int, 'qtde': int}\n",
    "nomes  = ['uf', 'ano', 'qtde']\n",
    "\n",
    "dados_uf_ano = pd.read_csv(arquivoUFAnoTop, sep = ';', header=0, names=nomes, dtype=columns_types, encoding='utf-8')\n",
    "df_uf_ano = pd.DataFrame(data = dados_uf_ano, columns=nomes)\n",
    "df_uf_ano.index.name='id'\n",
    "df_uf_ano.head()"
   ]
  },
  {
   "cell_type": "raw",
   "metadata": {},
   "source": [
    "Mais informações sobre os valores da série qtde, como o contador de itens, a média dos valores que a compõem, \n",
    "seu desvio padrão, valor mínimo, quartis e valor máximo:"
   ]
  },
  {
   "cell_type": "code",
   "execution_count": 7,
   "metadata": {},
   "outputs": [
    {
     "data": {
      "text/html": [
       "<div>\n",
       "<style scoped>\n",
       "    .dataframe tbody tr th:only-of-type {\n",
       "        vertical-align: middle;\n",
       "    }\n",
       "\n",
       "    .dataframe tbody tr th {\n",
       "        vertical-align: top;\n",
       "    }\n",
       "\n",
       "    .dataframe thead th {\n",
       "        text-align: right;\n",
       "    }\n",
       "</style>\n",
       "<table border=\"1\" class=\"dataframe\">\n",
       "  <thead>\n",
       "    <tr style=\"text-align: right;\">\n",
       "      <th></th>\n",
       "      <th>ano</th>\n",
       "      <th>qtde</th>\n",
       "    </tr>\n",
       "  </thead>\n",
       "  <tbody>\n",
       "    <tr>\n",
       "      <th>count</th>\n",
       "      <td>165.000000</td>\n",
       "      <td>165.000000</td>\n",
       "    </tr>\n",
       "    <tr>\n",
       "      <th>mean</th>\n",
       "      <td>2004.000000</td>\n",
       "      <td>83202.915152</td>\n",
       "    </tr>\n",
       "    <tr>\n",
       "      <th>std</th>\n",
       "      <td>9.550891</td>\n",
       "      <td>81125.799905</td>\n",
       "    </tr>\n",
       "    <tr>\n",
       "      <th>min</th>\n",
       "      <td>1988.000000</td>\n",
       "      <td>0.000000</td>\n",
       "    </tr>\n",
       "    <tr>\n",
       "      <th>25%</th>\n",
       "      <td>1996.000000</td>\n",
       "      <td>37574.000000</td>\n",
       "    </tr>\n",
       "    <tr>\n",
       "      <th>50%</th>\n",
       "      <td>2004.000000</td>\n",
       "      <td>52111.000000</td>\n",
       "    </tr>\n",
       "    <tr>\n",
       "      <th>75%</th>\n",
       "      <td>2012.000000</td>\n",
       "      <td>77899.000000</td>\n",
       "    </tr>\n",
       "    <tr>\n",
       "      <th>max</th>\n",
       "      <td>2020.000000</td>\n",
       "      <td>446858.000000</td>\n",
       "    </tr>\n",
       "  </tbody>\n",
       "</table>\n",
       "</div>"
      ],
      "text/plain": [
       "               ano           qtde\n",
       "count   165.000000     165.000000\n",
       "mean   2004.000000   83202.915152\n",
       "std       9.550891   81125.799905\n",
       "min    1988.000000       0.000000\n",
       "25%    1996.000000   37574.000000\n",
       "50%    2004.000000   52111.000000\n",
       "75%    2012.000000   77899.000000\n",
       "max    2020.000000  446858.000000"
      ]
     },
     "execution_count": 7,
     "metadata": {},
     "output_type": "execute_result"
    }
   ],
   "source": [
    "df_uf_ano.describe()"
   ]
  },
  {
   "cell_type": "markdown",
   "metadata": {},
   "source": [
    "Análise da UF de RJ:"
   ]
  },
  {
   "cell_type": "code",
   "execution_count": 8,
   "metadata": {},
   "outputs": [
    {
     "name": "stdout",
     "output_type": "stream",
     "text": [
      "Quantidade de registros para o Rio de Janeiro: 33\n"
     ]
    }
   ],
   "source": [
    "condicao = df_uf_ano['uf'] == 'Rio de Janeiro'\n",
    "df_selecao = df_uf_ano[condicao].copy()\n",
    "print('Quantidade de registros para o Rio de Janeiro: {}'.format(df_selecao.shape[0]))\n",
    "#deverá retornar 33, que é a quantidade de registros de RJ, um para cada ano\n"
   ]
  },
  {
   "cell_type": "code",
   "execution_count": 9,
   "metadata": {},
   "outputs": [
    {
     "data": {
      "text/html": [
       "<div>\n",
       "<style scoped>\n",
       "    .dataframe tbody tr th:only-of-type {\n",
       "        vertical-align: middle;\n",
       "    }\n",
       "\n",
       "    .dataframe tbody tr th {\n",
       "        vertical-align: top;\n",
       "    }\n",
       "\n",
       "    .dataframe thead th {\n",
       "        text-align: right;\n",
       "    }\n",
       "</style>\n",
       "<table border=\"1\" class=\"dataframe\">\n",
       "  <thead>\n",
       "    <tr style=\"text-align: right;\">\n",
       "      <th></th>\n",
       "      <th>uf</th>\n",
       "      <th>ano</th>\n",
       "      <th>qtde</th>\n",
       "    </tr>\n",
       "    <tr>\n",
       "      <th>id</th>\n",
       "      <th></th>\n",
       "      <th></th>\n",
       "      <th></th>\n",
       "    </tr>\n",
       "  </thead>\n",
       "  <tbody>\n",
       "    <tr>\n",
       "      <th>99</th>\n",
       "      <td>Rio de Janeiro</td>\n",
       "      <td>1988</td>\n",
       "      <td>96548</td>\n",
       "    </tr>\n",
       "    <tr>\n",
       "      <th>100</th>\n",
       "      <td>Rio de Janeiro</td>\n",
       "      <td>1989</td>\n",
       "      <td>77241</td>\n",
       "    </tr>\n",
       "    <tr>\n",
       "      <th>101</th>\n",
       "      <td>Rio de Janeiro</td>\n",
       "      <td>1990</td>\n",
       "      <td>57003</td>\n",
       "    </tr>\n",
       "    <tr>\n",
       "      <th>102</th>\n",
       "      <td>Rio de Janeiro</td>\n",
       "      <td>1991</td>\n",
       "      <td>37583</td>\n",
       "    </tr>\n",
       "    <tr>\n",
       "      <th>103</th>\n",
       "      <td>Rio de Janeiro</td>\n",
       "      <td>1992</td>\n",
       "      <td>20863</td>\n",
       "    </tr>\n",
       "  </tbody>\n",
       "</table>\n",
       "</div>"
      ],
      "text/plain": [
       "                 uf   ano   qtde\n",
       "id                              \n",
       "99   Rio de Janeiro  1988  96548\n",
       "100  Rio de Janeiro  1989  77241\n",
       "101  Rio de Janeiro  1990  57003\n",
       "102  Rio de Janeiro  1991  37583\n",
       "103  Rio de Janeiro  1992  20863"
      ]
     },
     "execution_count": 9,
     "metadata": {},
     "output_type": "execute_result"
    }
   ],
   "source": [
    "df_selecao.head()"
   ]
  },
  {
   "cell_type": "code",
   "execution_count": 10,
   "metadata": {},
   "outputs": [
    {
     "data": {
      "image/png": "[encoded data removed]",
      "text/plain": [
       "<Figure size 720x360 with 1 Axes>"
      ]
     },
     "metadata": {
      "needs_background": "light"
     },
     "output_type": "display_data"
    }
   ],
   "source": [
    "x = df_selecao['ano']\n",
    "y = df_selecao['qtde']\n",
    "\n",
    "fig = plt.figure(figsize=(10,5))\n",
    "grafico_rj_ano = fig.add_axes([0, 0, 1, 1])\n",
    "grafico_rj_ano.plot(x, y, color= 'red', marker = 'o')\n",
    "grafico_rj_ano.set_title('RJ: Ano x Qtde de CATs',fontsize=15)\n",
    "grafico_rj_ano.set_ylabel('Qtde')\n",
    "grafico_rj_ano.set_xlabel('Anos')\n",
    "grafico_rj_ano.grid(True)\n",
    "plt.show()"
   ]
  },
  {
   "cell_type": "code",
   "execution_count": 11,
   "metadata": {},
   "outputs": [
    {
     "data": {
      "text/plain": [
       "<AxesSubplot:>"
      ]
     },
     "execution_count": 11,
     "metadata": {},
     "output_type": "execute_result"
    },
    {
     "data": {
      "image/png": "[encoded data removed]",
      "text/plain": [
       "<Figure size 432x288 with 1 Axes>"
      ]
     },
     "metadata": {
      "needs_background": "light"
     },
     "output_type": "display_data"
    }
   ],
   "source": [
    "# Reprentação através de um gráfico bloxplot das quantidades de CATs registradas em RJ entre os anos de 1988 e 2020:\n",
    "df_selecao.boxplot()"
   ]
  },
  {
   "cell_type": "code",
   "execution_count": 12,
   "metadata": {},
   "outputs": [
    {
     "data": {
      "text/html": [
       "<div>\n",
       "<style scoped>\n",
       "    .dataframe tbody tr th:only-of-type {\n",
       "        vertical-align: middle;\n",
       "    }\n",
       "\n",
       "    .dataframe tbody tr th {\n",
       "        vertical-align: top;\n",
       "    }\n",
       "\n",
       "    .dataframe thead th {\n",
       "        text-align: right;\n",
       "    }\n",
       "</style>\n",
       "<table border=\"1\" class=\"dataframe\">\n",
       "  <thead>\n",
       "    <tr style=\"text-align: right;\">\n",
       "      <th></th>\n",
       "      <th>ano</th>\n",
       "      <th>qtde</th>\n",
       "    </tr>\n",
       "  </thead>\n",
       "  <tbody>\n",
       "    <tr>\n",
       "      <th>count</th>\n",
       "      <td>33.00000</td>\n",
       "      <td>33.000000</td>\n",
       "    </tr>\n",
       "    <tr>\n",
       "      <th>mean</th>\n",
       "      <td>2004.00000</td>\n",
       "      <td>38177.454545</td>\n",
       "    </tr>\n",
       "    <tr>\n",
       "      <th>std</th>\n",
       "      <td>9.66954</td>\n",
       "      <td>18838.852614</td>\n",
       "    </tr>\n",
       "    <tr>\n",
       "      <th>min</th>\n",
       "      <td>1988.00000</td>\n",
       "      <td>7057.000000</td>\n",
       "    </tr>\n",
       "    <tr>\n",
       "      <th>25%</th>\n",
       "      <td>1996.00000</td>\n",
       "      <td>24738.000000</td>\n",
       "    </tr>\n",
       "    <tr>\n",
       "      <th>50%</th>\n",
       "      <td>2004.00000</td>\n",
       "      <td>36439.000000</td>\n",
       "    </tr>\n",
       "    <tr>\n",
       "      <th>75%</th>\n",
       "      <td>2012.00000</td>\n",
       "      <td>50228.000000</td>\n",
       "    </tr>\n",
       "    <tr>\n",
       "      <th>max</th>\n",
       "      <td>2020.00000</td>\n",
       "      <td>96548.000000</td>\n",
       "    </tr>\n",
       "  </tbody>\n",
       "</table>\n",
       "</div>"
      ],
      "text/plain": [
       "              ano          qtde\n",
       "count    33.00000     33.000000\n",
       "mean   2004.00000  38177.454545\n",
       "std       9.66954  18838.852614\n",
       "min    1988.00000   7057.000000\n",
       "25%    1996.00000  24738.000000\n",
       "50%    2004.00000  36439.000000\n",
       "75%    2012.00000  50228.000000\n",
       "max    2020.00000  96548.000000"
      ]
     },
     "execution_count": 12,
     "metadata": {},
     "output_type": "execute_result"
    }
   ],
   "source": [
    "df_selecao.describe()"
   ]
  },
  {
   "cell_type": "raw",
   "metadata": {},
   "source": [
    "Foram encontrados valores de outliers; um deles é o valor máximo (96548). Podemos observar que a mediana (38176,7) \n",
    "dos valores de quantidade está mais próxima do limite superior. Ou seja, a distribuição neste conjunto de dados é \n",
    "assimétrica positiva, com a linha da mediana mais próxima do terceiro quartil."
   ]
  },
  {
   "cell_type": "markdown",
   "metadata": {},
   "source": [
    "Vamos analisar melhor, ano a ano, os dados dessas cinco primeiras UFs no ranking da quantidade de CATs, no período pesquisado (1988 a 2020):"
   ]
  },
  {
   "cell_type": "code",
   "execution_count": 13,
   "metadata": {},
   "outputs": [
    {
     "data": {
      "text/plain": [
       "<matplotlib.legend.Legend at 0x1d7610f3f10>"
      ]
     },
     "execution_count": 13,
     "metadata": {},
     "output_type": "execute_result"
    },
    {
     "data": {
      "image/png": "[encoded data removed]",
      "text/plain": [
       "<Figure size 720x360 with 1 Axes>"
      ]
     },
     "metadata": {
      "needs_background": "light"
     },
     "output_type": "display_data"
    }
   ],
   "source": [
    "# Criando um gráfico com múltiplas linhas, para representar as 5 UFs com mais CATs de 1988 a 2020 e suas variações\n",
    "# a partir de: df_uf_ano -> uf | ano | qtde\n",
    "\n",
    "condicaoSP = df_uf_ano['uf'] == 'São Paulo'\n",
    "df_selecaoSP = df_uf_ano[condicaoSP]\n",
    "ySP = df_selecaoSP['qtde']\n",
    "\n",
    "condicaoMG = df_uf_ano['uf'] == 'Minas Gerais'\n",
    "df_selecaoMG = df_uf_ano[condicaoMG]\n",
    "yMG = df_selecaoMG['qtde']\n",
    "\n",
    "condicaoRS = df_uf_ano['uf'] == 'Rio Grande do Sul'\n",
    "df_selecaoRS = df_uf_ano[condicaoRS]\n",
    "yRS = df_selecaoRS['qtde']\n",
    "\n",
    "condicaoPR = df_uf_ano['uf'] == 'Paraná'\n",
    "df_selecaoPR = df_uf_ano[condicaoPR]\n",
    "yPR = df_selecaoPR['qtde']\n",
    "\n",
    "condicaoRJ = df_uf_ano['uf'] == 'Rio de Janeiro'\n",
    "df_selecaoRJ = df_uf_ano[condicaoRJ]\n",
    "yRJ = df_selecaoRJ['qtde']\n",
    "\n",
    "df=pd.DataFrame({'x_values': df_uf_ano['ano'], 'SP': ySP, 'MG': yMG, 'RS': yRS, 'PR': yPR, 'RJ': yRJ})\n",
    "plt.figure(figsize=(10,5))\n",
    "plt.plot( 'x_values', 'SP', data=df, marker='o', color='coral', linewidth=2)\n",
    "plt.plot( 'x_values', 'MG', data=df, marker='o', color='green', linewidth=2)\n",
    "plt.plot( 'x_values', 'RS', data=df, marker='o', color='blue', linewidth=2)\n",
    "plt.plot( 'x_values', 'PR', data=df, marker='o', color='black', linewidth=2)\n",
    "plt.plot( 'x_values', 'RJ', data=df, marker='o', color='red', linewidth=2)\n",
    "\n",
    "plt.title('Quantidade de CATs ao Ano, por UF',fontsize=15)\n",
    "plt.xlabel('Anos',fontsize=15)\n",
    "plt.ylabel('Qtde de CAT',fontsize=15)\n",
    "\n",
    "#plt.legend()\n",
    "plt.legend(['SP', 'MG', 'RS', 'PR', 'RJ'], prop={\"size\":10})"
   ]
  },
  {
   "cell_type": "raw",
   "metadata": {},
   "source": [
    "Podemos observar, no gráfico acima, um grande intervalo entre a série que representa a quantidade de CATs em SP e a quantidade nas demais UFs selecionadas. Além disso, a variação que essa série apresenta é também maior, se comparada à das demais, nas quais os valores das quantidades ano a ano estão mais próximos entre si."
   ]
  },
  {
   "cell_type": "markdown",
   "metadata": {},
   "source": [
    "## Análise da Série Temporal da Quantidade de CATs em RJ:"
   ]
  },
  {
   "cell_type": "raw",
   "metadata": {},
   "source": [
    "A partir dos dados da série que representa a quantidade de CATs registradas ao longo dos anos, podemos estudar a criação de \n",
    "um modelo preditivo (forecasting) para os valores dos anos seguintes."
   ]
  },
  {
   "cell_type": "code",
   "execution_count": 14,
   "metadata": {},
   "outputs": [
    {
     "name": "stdout",
     "output_type": "stream",
     "text": [
      "Tamanho da base: 33\n"
     ]
    }
   ],
   "source": [
    "#Primeiro, vamos dividir os registros em dois grupos: o de treinamento (80%) e o de teste (20%)\n",
    "tamanho = df_selecaoRJ.shape[0]\n",
    "print('Tamanho da base: {}'.format(tamanho))"
   ]
  },
  {
   "cell_type": "code",
   "execution_count": 15,
   "metadata": {},
   "outputs": [
    {
     "name": "stdout",
     "output_type": "stream",
     "text": [
      "Tamanho da base para treinamento: 26 registros\n",
      "Tamanho da base para teste: 7 registros\n"
     ]
    }
   ],
   "source": [
    "treinamento = math.floor(0.8*tamanho)\n",
    "print('Tamanho da base para treinamento: {} registros'.format(treinamento))\n",
    "teste = tamanho - treinamento\n",
    "print('Tamanho da base para teste: {} registros'.format(teste))"
   ]
  },
  {
   "cell_type": "code",
   "execution_count": 16,
   "metadata": {},
   "outputs": [
    {
     "data": {
      "text/html": [
       "<div>\n",
       "<style scoped>\n",
       "    .dataframe tbody tr th:only-of-type {\n",
       "        vertical-align: middle;\n",
       "    }\n",
       "\n",
       "    .dataframe tbody tr th {\n",
       "        vertical-align: top;\n",
       "    }\n",
       "\n",
       "    .dataframe thead th {\n",
       "        text-align: right;\n",
       "    }\n",
       "</style>\n",
       "<table border=\"1\" class=\"dataframe\">\n",
       "  <thead>\n",
       "    <tr style=\"text-align: right;\">\n",
       "      <th></th>\n",
       "      <th>qtde</th>\n",
       "    </tr>\n",
       "    <tr>\n",
       "      <th>anoStr</th>\n",
       "      <th></th>\n",
       "    </tr>\n",
       "  </thead>\n",
       "  <tbody>\n",
       "    <tr>\n",
       "      <th>19881231</th>\n",
       "      <td>96548</td>\n",
       "    </tr>\n",
       "    <tr>\n",
       "      <th>19891231</th>\n",
       "      <td>77241</td>\n",
       "    </tr>\n",
       "    <tr>\n",
       "      <th>19901231</th>\n",
       "      <td>57003</td>\n",
       "    </tr>\n",
       "    <tr>\n",
       "      <th>19911231</th>\n",
       "      <td>37583</td>\n",
       "    </tr>\n",
       "    <tr>\n",
       "      <th>19921231</th>\n",
       "      <td>20863</td>\n",
       "    </tr>\n",
       "    <tr>\n",
       "      <th>19931231</th>\n",
       "      <td>7057</td>\n",
       "    </tr>\n",
       "    <tr>\n",
       "      <th>19941231</th>\n",
       "      <td>13920</td>\n",
       "    </tr>\n",
       "    <tr>\n",
       "      <th>19951231</th>\n",
       "      <td>16172</td>\n",
       "    </tr>\n",
       "    <tr>\n",
       "      <th>19961231</th>\n",
       "      <td>26858</td>\n",
       "    </tr>\n",
       "    <tr>\n",
       "      <th>19971231</th>\n",
       "      <td>25382</td>\n",
       "    </tr>\n",
       "    <tr>\n",
       "      <th>19981231</th>\n",
       "      <td>24738</td>\n",
       "    </tr>\n",
       "    <tr>\n",
       "      <th>19991231</th>\n",
       "      <td>23846</td>\n",
       "    </tr>\n",
       "    <tr>\n",
       "      <th>20001231</th>\n",
       "      <td>22916</td>\n",
       "    </tr>\n",
       "    <tr>\n",
       "      <th>20011231</th>\n",
       "      <td>19313</td>\n",
       "    </tr>\n",
       "    <tr>\n",
       "      <th>20021231</th>\n",
       "      <td>26119</td>\n",
       "    </tr>\n",
       "    <tr>\n",
       "      <th>20031231</th>\n",
       "      <td>26414</td>\n",
       "    </tr>\n",
       "    <tr>\n",
       "      <th>20041231</th>\n",
       "      <td>32225</td>\n",
       "    </tr>\n",
       "    <tr>\n",
       "      <th>20051231</th>\n",
       "      <td>35059</td>\n",
       "    </tr>\n",
       "    <tr>\n",
       "      <th>20061231</th>\n",
       "      <td>36439</td>\n",
       "    </tr>\n",
       "    <tr>\n",
       "      <th>20071231</th>\n",
       "      <td>47930</td>\n",
       "    </tr>\n",
       "    <tr>\n",
       "      <th>20081231</th>\n",
       "      <td>53407</td>\n",
       "    </tr>\n",
       "    <tr>\n",
       "      <th>20091231</th>\n",
       "      <td>50228</td>\n",
       "    </tr>\n",
       "    <tr>\n",
       "      <th>20101231</th>\n",
       "      <td>48365</td>\n",
       "    </tr>\n",
       "    <tr>\n",
       "      <th>20111231</th>\n",
       "      <td>49310</td>\n",
       "    </tr>\n",
       "    <tr>\n",
       "      <th>20121231</th>\n",
       "      <td>52192</td>\n",
       "    </tr>\n",
       "    <tr>\n",
       "      <th>20131231</th>\n",
       "      <td>51471</td>\n",
       "    </tr>\n",
       "  </tbody>\n",
       "</table>\n",
       "</div>"
      ],
      "text/plain": [
       "           qtde\n",
       "anoStr         \n",
       "19881231  96548\n",
       "19891231  77241\n",
       "19901231  57003\n",
       "19911231  37583\n",
       "19921231  20863\n",
       "19931231   7057\n",
       "19941231  13920\n",
       "19951231  16172\n",
       "19961231  26858\n",
       "19971231  25382\n",
       "19981231  24738\n",
       "19991231  23846\n",
       "20001231  22916\n",
       "20011231  19313\n",
       "20021231  26119\n",
       "20031231  26414\n",
       "20041231  32225\n",
       "20051231  35059\n",
       "20061231  36439\n",
       "20071231  47930\n",
       "20081231  53407\n",
       "20091231  50228\n",
       "20101231  48365\n",
       "20111231  49310\n",
       "20121231  52192\n",
       "20131231  51471"
      ]
     },
     "execution_count": 16,
     "metadata": {},
     "output_type": "execute_result"
    }
   ],
   "source": [
    "# anos: de 1988 até 2013\n",
    "df_selecaoRJ.index = range(df_selecao.shape[0])\n",
    "df_treinamento = df_selecaoRJ.iloc[:treinamento, 1:].copy() \n",
    "df_teste = df_selecaoRJ.iloc[treinamento:, 1:].copy()\n",
    "\n",
    "df_treinamento['anoStr'] = df_treinamento['ano'].apply(str)\n",
    "df_treinamento['anoStr'] = df_treinamento['anoStr'].apply(lambda x: x + '1231')\n",
    "\n",
    "df_treinamento.index = df_treinamento['anoStr']\n",
    "df_treinamento.drop(['anoStr'], axis=1, inplace = True)\n",
    "df_treinamento.drop(['ano'], axis=1, inplace = True)\n",
    "\n",
    "df_treinamento.head(30)"
   ]
  },
  {
   "cell_type": "code",
   "execution_count": 17,
   "metadata": {},
   "outputs": [
    {
     "data": {
      "text/plain": [
       "<Figure size 1440x720 with 0 Axes>"
      ]
     },
     "metadata": {},
     "output_type": "display_data"
    },
    {
     "data": {
      "image/png": "[encoded data removed]",
      "text/plain": [
       "<Figure size 432x288 with 4 Axes>"
      ]
     },
     "metadata": {
      "needs_background": "light"
     },
     "output_type": "display_data"
    }
   ],
   "source": [
    "result = seasonal_decompose(df_treinamento, period=5)\n",
    "plt.figure(figsize=(20,10))\n",
    "imagem = result.plot()"
   ]
  },
  {
   "cell_type": "raw",
   "metadata": {},
   "source": [
    "Obs.: Podemos observar que, com o passar dos anos, o ruído vem diminuindo (último gráfico, residual). Encontramos uma\n",
    "    tendência em alguns trechos da série.\n",
    "    "
   ]
  },
  {
   "cell_type": "raw",
   "metadata": {},
   "source": [
    "Com o teste de Dickey-Fuller, constatamos que a série é probabilisticamente estacionária."
   ]
  },
  {
   "cell_type": "code",
   "execution_count": 18,
   "metadata": {},
   "outputs": [
    {
     "name": "stdout",
     "output_type": "stream",
     "text": [
      "ADF Statistic: -3.613435\n",
      "p-value: 0.005509\n",
      "Critical Values:\n",
      "\t1%: -3.724\n",
      "\t5%: -2.986\n",
      "\t10%: -2.633\n"
     ]
    }
   ],
   "source": [
    "result = adfuller(df_treinamento.qtde)\n",
    "print('ADF Statistic: %f' % result[0])\n",
    "print('p-value: %f' % result[1])\n",
    "print('Critical Values:')\n",
    "for key, value in result[4].items():\n",
    "    print('\\t%s: %.3f' % (key, value))"
   ]
  },
  {
   "cell_type": "code",
   "execution_count": 19,
   "metadata": {},
   "outputs": [
    {
     "data": {
      "image/png": "[encoded data removed]",
      "text/plain": [
       "<Figure size 432x288 with 1 Axes>"
      ]
     },
     "metadata": {
      "needs_background": "light"
     },
     "output_type": "display_data"
    }
   ],
   "source": [
    "sm.graphics.tsa.plot_acf(df_treinamento.values.squeeze(), lags=24)\n",
    "plt.show()"
   ]
  },
  {
   "cell_type": "code",
   "execution_count": 20,
   "metadata": {},
   "outputs": [
    {
     "data": {
      "image/png": "[encoded data removed]",
      "text/plain": [
       "<Figure size 432x288 with 1 Axes>"
      ]
     },
     "metadata": {
      "needs_background": "light"
     },
     "output_type": "display_data"
    }
   ],
   "source": [
    "sm.graphics.tsa.plot_pacf(df_treinamento.values.squeeze(), lags=12)\n",
    "plt.show()\n"
   ]
  },
  {
   "cell_type": "code",
   "execution_count": 21,
   "metadata": {},
   "outputs": [],
   "source": [
    "df_treinamento.index = pd.to_datetime(df_treinamento.index, format='%Y%m%d')\n"
   ]
  },
  {
   "cell_type": "code",
   "execution_count": 22,
   "metadata": {},
   "outputs": [
    {
     "name": "stderr",
     "output_type": "stream",
     "text": [
      "c:\\users\\carolina\\appdata\\local\\programs\\python\\python38\\lib\\site-packages\\statsmodels\\tsa\\arima_model.py:472: FutureWarning: \n",
      "statsmodels.tsa.arima_model.ARMA and statsmodels.tsa.arima_model.ARIMA have\n",
      "been deprecated in favor of statsmodels.tsa.arima.model.ARIMA (note the .\n",
      "between arima and model) and\n",
      "statsmodels.tsa.SARIMAX. These will be removed after the 0.12 release.\n",
      "\n",
      "statsmodels.tsa.arima.model.ARIMA makes use of the statespace framework and\n",
      "is both well tested and maintained.\n",
      "\n",
      "To silence this warning and continue using ARMA and ARIMA until they are\n",
      "removed, use:\n",
      "\n",
      "import warnings\n",
      "warnings.filterwarnings('ignore', 'statsmodels.tsa.arima_model.ARMA',\n",
      "                        FutureWarning)\n",
      "warnings.filterwarnings('ignore', 'statsmodels.tsa.arima_model.ARIMA',\n",
      "                        FutureWarning)\n",
      "\n",
      "  warnings.warn(ARIMA_DEPRECATION_WARN, FutureWarning)\n"
     ]
    }
   ],
   "source": [
    "# p = 1  (onde começa)\n",
    "# como não precisamos aplicar a diferenciação, o valor de d = 0\n",
    "# podemos usar q = 2 (moving average window)\n",
    "\n",
    "model = ARIMA(df_treinamento, order=(1,0,1), freq=df_treinamento.index.inferred_freq)\n",
    " "
   ]
  },
  {
   "cell_type": "code",
   "execution_count": 23,
   "metadata": {},
   "outputs": [],
   "source": [
    "model_fit = model.fit()\n"
   ]
  },
  {
   "cell_type": "code",
   "execution_count": 24,
   "metadata": {},
   "outputs": [
    {
     "name": "stdout",
     "output_type": "stream",
     "text": [
      "                              ARMA Model Results                              \n",
      "==============================================================================\n",
      "Dep. Variable:                   qtde   No. Observations:                   26\n",
      "Model:                     ARMA(1, 1)   Log Likelihood                -270.529\n",
      "Method:                       css-mle   S.D. of innovations           7548.472\n",
      "Date:                Sun, 30 May 2021   AIC                            549.058\n",
      "Time:                        21:55:52   BIC                            554.090\n",
      "Sample:                    12-31-1988   HQIC                           550.507\n",
      "                         - 12-31-2013                                         \n",
      "==============================================================================\n",
      "                 coef    std err          z      P>|z|      [0.025      0.975]\n",
      "------------------------------------------------------------------------------\n",
      "const       5.811e+04   2.42e+04      2.401      0.016    1.07e+04    1.06e+05\n",
      "ar.L1.qtde     0.9301      0.070     13.367      0.000       0.794       1.066\n",
      "ma.L1.qtde     0.4629      0.128      3.606      0.000       0.211       0.715\n",
      "                                    Roots                                    \n",
      "=============================================================================\n",
      "                  Real          Imaginary           Modulus         Frequency\n",
      "-----------------------------------------------------------------------------\n",
      "AR.1            1.0752           +0.0000j            1.0752            0.0000\n",
      "MA.1           -2.1602           +0.0000j            2.1602            0.5000\n",
      "-----------------------------------------------------------------------------\n"
     ]
    }
   ],
   "source": [
    "print(model_fit.summary())\n"
   ]
  },
  {
   "cell_type": "code",
   "execution_count": 25,
   "metadata": {},
   "outputs": [
    {
     "data": {
      "image/png": "[encoded data removed]",
      "text/plain": [
       "<Figure size 432x288 with 1 Axes>"
      ]
     },
     "metadata": {
      "needs_background": "light"
     },
     "output_type": "display_data"
    },
    {
     "data": {
      "image/png": "[encoded data removed]",
      "text/plain": [
       "<Figure size 432x288 with 1 Axes>"
      ]
     },
     "metadata": {
      "needs_background": "light"
     },
     "output_type": "display_data"
    },
    {
     "name": "stdout",
     "output_type": "stream",
     "text": [
      "                  0\n",
      "count     26.000000\n",
      "mean    -771.359717\n",
      "std    10783.223563\n",
      "min   -17775.763126\n",
      "25%    -5221.855036\n",
      "50%    -1674.059704\n",
      "75%     1713.584548\n",
      "max    38439.486338\n"
     ]
    }
   ],
   "source": [
    "# Erros Residuais\n",
    "residuals = pd.DataFrame(model_fit.resid)\n",
    "residuals.plot(title='Residuais')\n",
    "plt.show()\n",
    "# density plot of residuals\n",
    "residuals.plot(kind='kde', title='Densidade')\n",
    "plt.show()\n",
    "# summary stats of residuals\n",
    "print(residuals.describe())"
   ]
  },
  {
   "cell_type": "code",
   "execution_count": 26,
   "metadata": {},
   "outputs": [
    {
     "data": {
      "image/png": "[encoded data removed]",
      "text/plain": [
       "<Figure size 432x288 with 1 Axes>"
      ]
     },
     "metadata": {
      "needs_background": "light"
     },
     "output_type": "display_data"
    }
   ],
   "source": [
    "#Comparação entre a série e a predição (forecast)\n",
    "model_fit.plot_predict(dynamic=False)\n",
    "plt.show()"
   ]
  },
  {
   "cell_type": "code",
   "execution_count": null,
   "metadata": {},
   "outputs": [],
   "source": []
  },
  {
   "cell_type": "code",
   "execution_count": null,
   "metadata": {},
   "outputs": [],
   "source": []
  }
 ],
 "metadata": {
  "kernelspec": {
   "display_name": "Python 3",
   "language": "python",
   "name": "python3"
  },
  "language_info": {
   "codemirror_mode": {
    "name": "ipython",
    "version": 3
   },
   "file_extension": ".py",
   "mimetype": "text/x-python",
   "name": "python",
   "nbconvert_exporter": "python",
   "pygments_lexer": "ipython3",
   "version": "3.8.3"
  }
 },
 "nbformat": 4,
 "nbformat_minor": 4
}
