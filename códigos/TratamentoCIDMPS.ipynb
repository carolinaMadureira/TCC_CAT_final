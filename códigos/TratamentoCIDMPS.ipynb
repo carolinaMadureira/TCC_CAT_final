{
 "cells": [
  {
   "cell_type": "code",
   "execution_count": 1,
   "metadata": {},
   "outputs": [],
   "source": [
    "import numpy as np\n",
    "import pandas as pd\n",
    "from datetime import timedelta\n",
    "import math\n",
    "\n",
    "from dateutil.relativedelta import *\n",
    "from datetime import date\n",
    "from datetime import datetime\n",
    "import fprocessamento as fprocess\n",
    "\n",
    "\n",
    "def recortarCID(cidStr):\n",
    "    strSeparada = cidStr.rsplit(\":\")\n",
    "    if len(strSeparada) > 1:\n",
    "        return strSeparada[0]\n",
    "    else:\n",
    "        return cidStr"
   ]
  },
  {
   "cell_type": "code",
   "execution_count": 2,
   "metadata": {},
   "outputs": [
    {
     "data": {
      "text/plain": [
       "50518"
      ]
     },
     "execution_count": 2,
     "metadata": {},
     "output_type": "execute_result"
    }
   ],
   "source": [
    "#ISO-8859-1\n",
    "nomeArquivoOrigemCID = 'datasets/origem/MPS/ACT07.csv'\n",
    "nomeArquivoResultadoCID = 'datasets/result/dados_CID_MPS.csv'\n",
    "\n",
    "columns_types = {'ano': str, 'motivo\"': str, 'cid': str, 'qtde': str, 'situacao': str}\n",
    "\n",
    "nomes  = ['ano', 'motivo', 'cid', 'qtde', 'situacao']\n",
    "\n",
    "dados_originais = pd.read_csv(nomeArquivoOrigemCID, sep = ',', header=0, names=nomes, dtype=columns_types, encoding='ISO-8859-1')\n",
    "\n",
    "df_original = pd.DataFrame(data = dados_originais, columns=nomes)\n",
    "df_original.shape[0] #50518"
   ]
  },
  {
   "cell_type": "code",
   "execution_count": 3,
   "metadata": {},
   "outputs": [
    {
     "data": {
      "text/html": [
       "<div>\n",
       "<style scoped>\n",
       "    .dataframe tbody tr th:only-of-type {\n",
       "        vertical-align: middle;\n",
       "    }\n",
       "\n",
       "    .dataframe tbody tr th {\n",
       "        vertical-align: top;\n",
       "    }\n",
       "\n",
       "    .dataframe thead th {\n",
       "        text-align: right;\n",
       "    }\n",
       "</style>\n",
       "<table border=\"1\" class=\"dataframe\">\n",
       "  <thead>\n",
       "    <tr style=\"text-align: right;\">\n",
       "      <th></th>\n",
       "      <th>ano</th>\n",
       "      <th>motivo</th>\n",
       "      <th>cid</th>\n",
       "      <th>qtde</th>\n",
       "      <th>situacao</th>\n",
       "    </tr>\n",
       "  </thead>\n",
       "  <tbody>\n",
       "    <tr>\n",
       "      <th>0</th>\n",
       "      <td>2000</td>\n",
       "      <td>Típico-Com Cat</td>\n",
       "      <td>998:Outros</td>\n",
       "      <td>47649</td>\n",
       "      <td>Com Cat Registrada</td>\n",
       "    </tr>\n",
       "    <tr>\n",
       "      <th>1</th>\n",
       "      <td>2000</td>\n",
       "      <td>Típico-Com Cat</td>\n",
       "      <td>999:Ignorado</td>\n",
       "      <td>38246</td>\n",
       "      <td>Com Cat Registrada</td>\n",
       "    </tr>\n",
       "    <tr>\n",
       "      <th>2</th>\n",
       "      <td>2000</td>\n",
       "      <td>Típico-Com Cat</td>\n",
       "      <td>S61:Ferim do Punho e da Mao</td>\n",
       "      <td>35606</td>\n",
       "      <td>Com Cat Registrada</td>\n",
       "    </tr>\n",
       "    <tr>\n",
       "      <th>3</th>\n",
       "      <td>2000</td>\n",
       "      <td>Típico-Com Cat</td>\n",
       "      <td>S62:Frat ao Nivel do Punho e da Mao</td>\n",
       "      <td>21042</td>\n",
       "      <td>Com Cat Registrada</td>\n",
       "    </tr>\n",
       "    <tr>\n",
       "      <th>4</th>\n",
       "      <td>2000</td>\n",
       "      <td>Típico-Com Cat</td>\n",
       "      <td>S60:Traum Superf do Punho e da Mao</td>\n",
       "      <td>9811</td>\n",
       "      <td>Com Cat Registrada</td>\n",
       "    </tr>\n",
       "  </tbody>\n",
       "</table>\n",
       "</div>"
      ],
      "text/plain": [
       "    ano          motivo                                  cid   qtde  \\\n",
       "0  2000  Típico-Com Cat                           998:Outros  47649   \n",
       "1  2000  Típico-Com Cat                         999:Ignorado  38246   \n",
       "2  2000  Típico-Com Cat          S61:Ferim do Punho e da Mao  35606   \n",
       "3  2000  Típico-Com Cat  S62:Frat ao Nivel do Punho e da Mao  21042   \n",
       "4  2000  Típico-Com Cat   S60:Traum Superf do Punho e da Mao   9811   \n",
       "\n",
       "             situacao  \n",
       "0  Com Cat Registrada  \n",
       "1  Com Cat Registrada  \n",
       "2  Com Cat Registrada  \n",
       "3  Com Cat Registrada  \n",
       "4  Com Cat Registrada  "
      ]
     },
     "execution_count": 3,
     "metadata": {},
     "output_type": "execute_result"
    }
   ],
   "source": [
    "df_original.head()"
   ]
  },
  {
   "cell_type": "code",
   "execution_count": 4,
   "metadata": {},
   "outputs": [
    {
     "data": {
      "text/plain": [
       "39558"
      ]
     },
     "execution_count": 4,
     "metadata": {},
     "output_type": "execute_result"
    }
   ],
   "source": [
    "fprocess.formatarStr(df_original, ['ano', 'motivo', 'cid', 'qtde', 'situacao'])\n",
    "\n",
    "selecaoRegistrados = df_original['situacao'] == 'Com Cat Registrada'\n",
    "df_original = df_original[selecaoRegistrados]\n",
    "df_original.shape[0] #39558"
   ]
  },
  {
   "cell_type": "code",
   "execution_count": 5,
   "metadata": {},
   "outputs": [
    {
     "data": {
      "text/html": [
       "<div>\n",
       "<style scoped>\n",
       "    .dataframe tbody tr th:only-of-type {\n",
       "        vertical-align: middle;\n",
       "    }\n",
       "\n",
       "    .dataframe tbody tr th {\n",
       "        vertical-align: top;\n",
       "    }\n",
       "\n",
       "    .dataframe thead th {\n",
       "        text-align: right;\n",
       "    }\n",
       "</style>\n",
       "<table border=\"1\" class=\"dataframe\">\n",
       "  <thead>\n",
       "    <tr style=\"text-align: right;\">\n",
       "      <th></th>\n",
       "      <th>ano</th>\n",
       "      <th>cid</th>\n",
       "      <th>qtde</th>\n",
       "    </tr>\n",
       "  </thead>\n",
       "  <tbody>\n",
       "    <tr>\n",
       "      <th>0</th>\n",
       "      <td>2000</td>\n",
       "      <td>998:Outros</td>\n",
       "      <td>47649</td>\n",
       "    </tr>\n",
       "    <tr>\n",
       "      <th>1</th>\n",
       "      <td>2000</td>\n",
       "      <td>999:Ignorado</td>\n",
       "      <td>38246</td>\n",
       "    </tr>\n",
       "    <tr>\n",
       "      <th>2</th>\n",
       "      <td>2000</td>\n",
       "      <td>S61:Ferim do Punho e da Mao</td>\n",
       "      <td>35606</td>\n",
       "    </tr>\n",
       "    <tr>\n",
       "      <th>3</th>\n",
       "      <td>2000</td>\n",
       "      <td>S62:Frat ao Nivel do Punho e da Mao</td>\n",
       "      <td>21042</td>\n",
       "    </tr>\n",
       "    <tr>\n",
       "      <th>4</th>\n",
       "      <td>2000</td>\n",
       "      <td>S60:Traum Superf do Punho e da Mao</td>\n",
       "      <td>9811</td>\n",
       "    </tr>\n",
       "  </tbody>\n",
       "</table>\n",
       "</div>"
      ],
      "text/plain": [
       "    ano                                  cid   qtde\n",
       "0  2000                           998:Outros  47649\n",
       "1  2000                         999:Ignorado  38246\n",
       "2  2000          S61:Ferim do Punho e da Mao  35606\n",
       "3  2000  S62:Frat ao Nivel do Punho e da Mao  21042\n",
       "4  2000   S60:Traum Superf do Punho e da Mao   9811"
      ]
     },
     "execution_count": 5,
     "metadata": {},
     "output_type": "execute_result"
    }
   ],
   "source": [
    "df_original.drop(['motivo','situacao'], axis=1, inplace = True)\n",
    "df_original.head()"
   ]
  },
  {
   "cell_type": "raw",
   "metadata": {},
   "source": [
    "#limpar caracter '-' da coluna ano e converter seu tipo para numérico\n",
    "#retirar última linha, que possui caracter \"-\"\n"
   ]
  },
  {
   "cell_type": "code",
   "execution_count": 6,
   "metadata": {},
   "outputs": [
    {
     "name": "stdout",
     "output_type": "stream",
     "text": [
      "<class 'pandas.core.frame.DataFrame'>\n",
      "Int64Index: 39558 entries, 0 to 49732\n",
      "Data columns (total 3 columns):\n",
      " #   Column  Non-Null Count  Dtype \n",
      "---  ------  --------------  ----- \n",
      " 0   ano     39558 non-null  object\n",
      " 1   cid     39558 non-null  object\n",
      " 2   qtde    39558 non-null  object\n",
      "dtypes: object(3)\n",
      "memory usage: 1.2+ MB\n"
     ]
    }
   ],
   "source": [
    "df_original.info()\n",
    "df_original['ano'] = df_original['ano'].apply(pd.to_numeric)"
   ]
  },
  {
   "cell_type": "code",
   "execution_count": 7,
   "metadata": {},
   "outputs": [
    {
     "name": "stdout",
     "output_type": "stream",
     "text": [
      "<class 'pandas.core.frame.DataFrame'>\n",
      "Int64Index: 39558 entries, 0 to 49732\n",
      "Data columns (total 3 columns):\n",
      " #   Column  Non-Null Count  Dtype \n",
      "---  ------  --------------  ----- \n",
      " 0   ano     39558 non-null  int64 \n",
      " 1   cid     39558 non-null  object\n",
      " 2   qtde    39558 non-null  object\n",
      "dtypes: int64(1), object(2)\n",
      "memory usage: 1.2+ MB\n"
     ]
    }
   ],
   "source": [
    "df_original.info()"
   ]
  },
  {
   "cell_type": "code",
   "execution_count": 8,
   "metadata": {},
   "outputs": [
    {
     "data": {
      "text/plain": [
       "7477"
      ]
     },
     "execution_count": 8,
     "metadata": {},
     "output_type": "execute_result"
    }
   ],
   "source": [
    "selecao2016 = df_original['ano'] >= 2016\n",
    "df_original = df_original[selecao2016]\n",
    "df_original.shape[0] # 7477"
   ]
  },
  {
   "cell_type": "code",
   "execution_count": 9,
   "metadata": {},
   "outputs": [
    {
     "data": {
      "text/html": [
       "<div>\n",
       "<style scoped>\n",
       "    .dataframe tbody tr th:only-of-type {\n",
       "        vertical-align: middle;\n",
       "    }\n",
       "\n",
       "    .dataframe tbody tr th {\n",
       "        vertical-align: top;\n",
       "    }\n",
       "\n",
       "    .dataframe thead th {\n",
       "        text-align: right;\n",
       "    }\n",
       "</style>\n",
       "<table border=\"1\" class=\"dataframe\">\n",
       "  <thead>\n",
       "    <tr style=\"text-align: right;\">\n",
       "      <th></th>\n",
       "      <th>ano</th>\n",
       "      <th>cid</th>\n",
       "      <th>qtde</th>\n",
       "    </tr>\n",
       "  </thead>\n",
       "  <tbody>\n",
       "    <tr>\n",
       "      <th>40526</th>\n",
       "      <td>2016</td>\n",
       "      <td>999:Ignorado</td>\n",
       "      <td>8</td>\n",
       "    </tr>\n",
       "    <tr>\n",
       "      <th>40527</th>\n",
       "      <td>2016</td>\n",
       "      <td>999:Ignorado</td>\n",
       "      <td>65</td>\n",
       "    </tr>\n",
       "    <tr>\n",
       "      <th>40528</th>\n",
       "      <td>2016</td>\n",
       "      <td>999:Ignorado</td>\n",
       "      <td>4</td>\n",
       "    </tr>\n",
       "    <tr>\n",
       "      <th>40529</th>\n",
       "      <td>2016</td>\n",
       "      <td>999:Ignorado</td>\n",
       "      <td>1</td>\n",
       "    </tr>\n",
       "    <tr>\n",
       "      <th>40530</th>\n",
       "      <td>2016</td>\n",
       "      <td>999:Ignorado</td>\n",
       "      <td>4</td>\n",
       "    </tr>\n",
       "  </tbody>\n",
       "</table>\n",
       "</div>"
      ],
      "text/plain": [
       "        ano           cid qtde\n",
       "40526  2016  999:Ignorado    8\n",
       "40527  2016  999:Ignorado   65\n",
       "40528  2016  999:Ignorado    4\n",
       "40529  2016  999:Ignorado    1\n",
       "40530  2016  999:Ignorado    4"
      ]
     },
     "execution_count": 9,
     "metadata": {},
     "output_type": "execute_result"
    }
   ],
   "source": [
    "df_original.head()"
   ]
  },
  {
   "cell_type": "code",
   "execution_count": 10,
   "metadata": {},
   "outputs": [
    {
     "data": {
      "text/plain": [
       "7461"
      ]
     },
     "execution_count": 10,
     "metadata": {},
     "output_type": "execute_result"
    }
   ],
   "source": [
    "#excluir os registros cujo cid foi preenchido com '999:Ignorado'\n",
    "selecaoIgnorado = df_original['cid'] != '999:Ignorado'\n",
    "df_original = df_original[selecaoIgnorado]\n",
    "df_original.shape[0] # 7461"
   ]
  },
  {
   "cell_type": "code",
   "execution_count": 11,
   "metadata": {},
   "outputs": [
    {
     "data": {
      "text/html": [
       "<div>\n",
       "<style scoped>\n",
       "    .dataframe tbody tr th:only-of-type {\n",
       "        vertical-align: middle;\n",
       "    }\n",
       "\n",
       "    .dataframe tbody tr th {\n",
       "        vertical-align: top;\n",
       "    }\n",
       "\n",
       "    .dataframe thead th {\n",
       "        text-align: right;\n",
       "    }\n",
       "</style>\n",
       "<table border=\"1\" class=\"dataframe\">\n",
       "  <thead>\n",
       "    <tr style=\"text-align: right;\">\n",
       "      <th></th>\n",
       "      <th>ano</th>\n",
       "      <th>cid</th>\n",
       "      <th>qtde</th>\n",
       "    </tr>\n",
       "  </thead>\n",
       "  <tbody>\n",
       "    <tr>\n",
       "      <th>40532</th>\n",
       "      <td>2016</td>\n",
       "      <td>A00:Colera</td>\n",
       "      <td>1</td>\n",
       "    </tr>\n",
       "    <tr>\n",
       "      <th>40533</th>\n",
       "      <td>2016</td>\n",
       "      <td>A01:Febres Tifoide e Paratifoide</td>\n",
       "      <td>1</td>\n",
       "    </tr>\n",
       "    <tr>\n",
       "      <th>40534</th>\n",
       "      <td>2016</td>\n",
       "      <td>A02:Outr Infecc p/Salmonella</td>\n",
       "      <td>1</td>\n",
       "    </tr>\n",
       "    <tr>\n",
       "      <th>40535</th>\n",
       "      <td>2016</td>\n",
       "      <td>A04:Outr Infecc Intestinais Bacter</td>\n",
       "      <td>12</td>\n",
       "    </tr>\n",
       "    <tr>\n",
       "      <th>40536</th>\n",
       "      <td>2016</td>\n",
       "      <td>A05:Outr Intox Alimentares Bacter</td>\n",
       "      <td>17</td>\n",
       "    </tr>\n",
       "  </tbody>\n",
       "</table>\n",
       "</div>"
      ],
      "text/plain": [
       "        ano                                 cid qtde\n",
       "40532  2016                          A00:Colera    1\n",
       "40533  2016    A01:Febres Tifoide e Paratifoide    1\n",
       "40534  2016        A02:Outr Infecc p/Salmonella    1\n",
       "40535  2016  A04:Outr Infecc Intestinais Bacter   12\n",
       "40536  2016   A05:Outr Intox Alimentares Bacter   17"
      ]
     },
     "execution_count": 11,
     "metadata": {},
     "output_type": "execute_result"
    }
   ],
   "source": [
    "df_original.head()"
   ]
  },
  {
   "cell_type": "code",
   "execution_count": 12,
   "metadata": {},
   "outputs": [
    {
     "data": {
      "text/html": [
       "<div>\n",
       "<style scoped>\n",
       "    .dataframe tbody tr th:only-of-type {\n",
       "        vertical-align: middle;\n",
       "    }\n",
       "\n",
       "    .dataframe tbody tr th {\n",
       "        vertical-align: top;\n",
       "    }\n",
       "\n",
       "    .dataframe thead th {\n",
       "        text-align: right;\n",
       "    }\n",
       "</style>\n",
       "<table border=\"1\" class=\"dataframe\">\n",
       "  <thead>\n",
       "    <tr style=\"text-align: right;\">\n",
       "      <th></th>\n",
       "      <th>ano</th>\n",
       "      <th>cid</th>\n",
       "      <th>qtde</th>\n",
       "    </tr>\n",
       "    <tr>\n",
       "      <th>id</th>\n",
       "      <th></th>\n",
       "      <th></th>\n",
       "      <th></th>\n",
       "    </tr>\n",
       "  </thead>\n",
       "  <tbody>\n",
       "    <tr>\n",
       "      <th>0</th>\n",
       "      <td>2016</td>\n",
       "      <td>A00</td>\n",
       "      <td>1</td>\n",
       "    </tr>\n",
       "    <tr>\n",
       "      <th>1</th>\n",
       "      <td>2016</td>\n",
       "      <td>A01</td>\n",
       "      <td>1</td>\n",
       "    </tr>\n",
       "    <tr>\n",
       "      <th>2</th>\n",
       "      <td>2016</td>\n",
       "      <td>A02</td>\n",
       "      <td>1</td>\n",
       "    </tr>\n",
       "    <tr>\n",
       "      <th>3</th>\n",
       "      <td>2016</td>\n",
       "      <td>A04</td>\n",
       "      <td>12</td>\n",
       "    </tr>\n",
       "    <tr>\n",
       "      <th>4</th>\n",
       "      <td>2016</td>\n",
       "      <td>A05</td>\n",
       "      <td>17</td>\n",
       "    </tr>\n",
       "    <tr>\n",
       "      <th>5</th>\n",
       "      <td>2016</td>\n",
       "      <td>A06</td>\n",
       "      <td>4</td>\n",
       "    </tr>\n",
       "    <tr>\n",
       "      <th>6</th>\n",
       "      <td>2016</td>\n",
       "      <td>A06</td>\n",
       "      <td>1</td>\n",
       "    </tr>\n",
       "    <tr>\n",
       "      <th>7</th>\n",
       "      <td>2016</td>\n",
       "      <td>A06</td>\n",
       "      <td>1</td>\n",
       "    </tr>\n",
       "    <tr>\n",
       "      <th>8</th>\n",
       "      <td>2016</td>\n",
       "      <td>A07</td>\n",
       "      <td>2</td>\n",
       "    </tr>\n",
       "    <tr>\n",
       "      <th>9</th>\n",
       "      <td>2016</td>\n",
       "      <td>A08</td>\n",
       "      <td>2</td>\n",
       "    </tr>\n",
       "  </tbody>\n",
       "</table>\n",
       "</div>"
      ],
      "text/plain": [
       "     ano  cid qtde\n",
       "id                \n",
       "0   2016  A00    1\n",
       "1   2016  A01    1\n",
       "2   2016  A02    1\n",
       "3   2016  A04   12\n",
       "4   2016  A05   17\n",
       "5   2016  A06    4\n",
       "6   2016  A06    1\n",
       "7   2016  A06    1\n",
       "8   2016  A07    2\n",
       "9   2016  A08    2"
      ]
     },
     "execution_count": 12,
     "metadata": {},
     "output_type": "execute_result"
    }
   ],
   "source": [
    "df_original['cid'] = df_original['cid'].apply(lambda x: recortarCID(x))\n",
    "df_original.index = range(df_original.shape[0])\n",
    "df_original.index.name='id'\n",
    "df_original.head(10)"
   ]
  },
  {
   "cell_type": "code",
   "execution_count": 18,
   "metadata": {},
   "outputs": [],
   "source": [
    "df_original.to_csv(nomeArquivoResultadoCID, sep = ';', encoding='UTF-8')"
   ]
  },
  {
   "cell_type": "code",
   "execution_count": null,
   "metadata": {},
   "outputs": [],
   "source": []
  }
 ],
 "metadata": {
  "kernelspec": {
   "display_name": "Python 3",
   "language": "python",
   "name": "python3"
  },
  "language_info": {
   "codemirror_mode": {
    "name": "ipython",
    "version": 3
   },
   "file_extension": ".py",
   "mimetype": "text/x-python",
   "name": "python",
   "nbconvert_exporter": "python",
   "pygments_lexer": "ipython3",
   "version": "3.8.3"
  }
 },
 "nbformat": 4,
 "nbformat_minor": 4
}
