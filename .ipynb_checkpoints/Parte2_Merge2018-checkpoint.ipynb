{
 "cells": [
  {
   "cell_type": "code",
   "execution_count": 1,
   "metadata": {},
   "outputs": [],
   "source": [
    "import numpy as np\n",
    "import pandas as pd\n",
    "from scipy import special\n",
    "from random import sample\n",
    "import itertools\n",
    "from datetime import timedelta\n",
    "import re"
   ]
  },
  {
   "cell_type": "code",
   "execution_count": 2,
   "metadata": {},
   "outputs": [],
   "source": [
    "#os dados dos dois primeiros trimestres de 2018 não estão disponíveis da mesma forma na plataforma\n",
    "arquivoOrigem = 'datasets/result/dados_cat_2018.csv'\n",
    "\n",
    "nomeArquivoCid = 'datasets/result/2018/dados_cid_2018.csv'\n",
    "nomeArquivoUF = 'datasets/result/2018/dados_uf_2018.csv'\n",
    "nomeArquivoCBO = 'datasets/result/2018/dados_cbo_2018.csv'\n",
    "nomeArquivoAnoMes = 'datasets/result/2018/dados_anoMes_2018.csv'\n",
    "nomeArquivoCNAE = 'datasets/result/2018/dados_cnae_2018.csv'\n",
    "nomeArquivoParte = 'datasets/result/2018/dados_parte_2018.csv'\n",
    "nomeArquivoSexo = 'datasets/result/2018/dados_sexo_2018.csv'\n",
    "nomeArquivoIdade = 'datasets/result/2018/dados_idade_2018.csv'\n",
    "nomeArquivoObitos = 'datasets/result/2018/dados_obitos_2018.csv'\n",
    "nomeArquivoTipoAcidente = 'datasets/result/2018/dados_tipoAcidente_2018.csv'\n",
    "nomeArquivoNatureza = 'datasets/result/2018/dados_natureza_2018.csv'"
   ]
  },
  {
   "cell_type": "code",
   "execution_count": 3,
   "metadata": {},
   "outputs": [],
   "source": [
    "columns_types = {'cbo': int, 'cid': str, 'cnae': int, 'obito': str, 'parte': str, 'sexo': str, \n",
    "                 'tipo_acidente': str, 'uf_emp': str, 'idade': int, 'anoMes': str}\n",
    "\n",
    "nomes  = ['cbo', 'cid', 'cnae', 'obito', 'parte', 'sexo', 'tipo_acidente', 'uf_emp', 'idade', 'anoMes']\n",
    "\n",
    "dados_originais = pd.read_csv(arquivoOrigem, sep = ';', header=0, names=nomes, dtype=columns_types, encoding='utf8')\n",
    "\n",
    "df_original = pd.DataFrame(data = dados_originais)"
   ]
  },
  {
   "cell_type": "code",
   "execution_count": 5,
   "metadata": {},
   "outputs": [
    {
     "data": {
      "text/plain": [
       "241816"
      ]
     },
     "execution_count": 5,
     "metadata": {},
     "output_type": "execute_result"
    }
   ],
   "source": [
    "df_original.index = range(df_original.shape[0])\n",
    "df_original.shape[0]   # -> qtde total de acidentes analisados de 2018, deverá ser igual a 241816"
   ]
  },
  {
   "cell_type": "code",
   "execution_count": 6,
   "metadata": {},
   "outputs": [
    {
     "name": "stdout",
     "output_type": "stream",
     "text": [
      "<class 'pandas.core.frame.DataFrame'>\n",
      "Index: 10 entries, S610 to S611\n",
      "Data columns (total 1 columns):\n",
      " #   Column  Non-Null Count  Dtype\n",
      "---  ------  --------------  -----\n",
      " 0   qtde    10 non-null     int64\n",
      "dtypes: int64(1)\n",
      "memory usage: 160.0+ bytes\n"
     ]
    }
   ],
   "source": [
    "#Análise dos 20 CIDs de maior incidência em 2018:\n",
    "df_cid = pd.DataFrame(df_original['cid'].value_counts())\n",
    "df_cid.rename(columns={\"id\": \"cid\", \"cid\": \"qtde\"}, inplace=True)\n",
    "df_cid_mais = df_cid.head(10).copy()\n",
    "df_cid_mais.index.name='cid'\n",
    "\n",
    "df_cid_mais.info()"
   ]
  },
  {
   "cell_type": "code",
   "execution_count": 7,
   "metadata": {},
   "outputs": [
    {
     "data": {
      "text/html": [
       "<div>\n",
       "<style scoped>\n",
       "    .dataframe tbody tr th:only-of-type {\n",
       "        vertical-align: middle;\n",
       "    }\n",
       "\n",
       "    .dataframe tbody tr th {\n",
       "        vertical-align: top;\n",
       "    }\n",
       "\n",
       "    .dataframe thead th {\n",
       "        text-align: right;\n",
       "    }\n",
       "</style>\n",
       "<table border=\"1\" class=\"dataframe\">\n",
       "  <thead>\n",
       "    <tr style=\"text-align: right;\">\n",
       "      <th></th>\n",
       "      <th>qtde</th>\n",
       "    </tr>\n",
       "    <tr>\n",
       "      <th>cid</th>\n",
       "      <th></th>\n",
       "    </tr>\n",
       "  </thead>\n",
       "  <tbody>\n",
       "    <tr>\n",
       "      <th>S610</th>\n",
       "      <td>14499</td>\n",
       "    </tr>\n",
       "    <tr>\n",
       "      <th>S934</th>\n",
       "      <td>9349</td>\n",
       "    </tr>\n",
       "    <tr>\n",
       "      <th>S626</th>\n",
       "      <td>7158</td>\n",
       "    </tr>\n",
       "    <tr>\n",
       "      <th>Z209</th>\n",
       "      <td>6496</td>\n",
       "    </tr>\n",
       "    <tr>\n",
       "      <th>S800</th>\n",
       "      <td>5376</td>\n",
       "    </tr>\n",
       "    <tr>\n",
       "      <th>S600</th>\n",
       "      <td>5046</td>\n",
       "    </tr>\n",
       "    <tr>\n",
       "      <th>S61</th>\n",
       "      <td>4196</td>\n",
       "    </tr>\n",
       "    <tr>\n",
       "      <th>S602</th>\n",
       "      <td>3431</td>\n",
       "    </tr>\n",
       "    <tr>\n",
       "      <th>T07</th>\n",
       "      <td>3399</td>\n",
       "    </tr>\n",
       "    <tr>\n",
       "      <th>S611</th>\n",
       "      <td>3396</td>\n",
       "    </tr>\n",
       "  </tbody>\n",
       "</table>\n",
       "</div>"
      ],
      "text/plain": [
       "       qtde\n",
       "cid        \n",
       "S610  14499\n",
       "S934   9349\n",
       "S626   7158\n",
       "Z209   6496\n",
       "S800   5376\n",
       "S600   5046\n",
       "S61    4196\n",
       "S602   3431\n",
       "T07    3399\n",
       "S611   3396"
      ]
     },
     "execution_count": 7,
     "metadata": {},
     "output_type": "execute_result"
    }
   ],
   "source": [
    "df_cid_mais.head(10)"
   ]
  },
  {
   "cell_type": "code",
   "execution_count": 8,
   "metadata": {},
   "outputs": [],
   "source": [
    "df_cid_mais.to_csv(nomeArquivoCid, sep = ';', encoding='UTF-8')"
   ]
  },
  {
   "cell_type": "code",
   "execution_count": 10,
   "metadata": {},
   "outputs": [
    {
     "data": {
      "text/plain": [
       "62346"
      ]
     },
     "execution_count": 10,
     "metadata": {},
     "output_type": "execute_result"
    }
   ],
   "source": [
    "#qtde total de casos de ocorrência no dataFrame com os 10 maiores CIDs por ordem de ocorrência em 2018:\n",
    "df_cid_mais['qtde'].sum()  # 62346"
   ]
  },
  {
   "cell_type": "code",
   "execution_count": 11,
   "metadata": {},
   "outputs": [
    {
     "name": "stdout",
     "output_type": "stream",
     "text": [
      "<class 'pandas.core.frame.DataFrame'>\n",
      "Index: 27 entries, São Paulo to Amapá\n",
      "Data columns (total 1 columns):\n",
      " #   Column  Non-Null Count  Dtype\n",
      "---  ------  --------------  -----\n",
      " 0   qtde    27 non-null     int64\n",
      "dtypes: int64(1)\n",
      "memory usage: 432.0+ bytes\n"
     ]
    }
   ],
   "source": [
    "#Análise das 20 UFs de maior incidência de CAT em 2018:\n",
    "df_uf = pd.DataFrame(df_original['uf_emp'].value_counts())\n",
    "df_uf.rename(columns={\"uf_emp\": \"qtde\"}, inplace=True)\n",
    "df_uf_mais = df_uf.head(30).copy()\n",
    "df_uf_mais.index.name='uf_emp'\n",
    "df_uf_mais.info()"
   ]
  },
  {
   "cell_type": "code",
   "execution_count": 12,
   "metadata": {},
   "outputs": [
    {
     "data": {
      "text/html": [
       "<div>\n",
       "<style scoped>\n",
       "    .dataframe tbody tr th:only-of-type {\n",
       "        vertical-align: middle;\n",
       "    }\n",
       "\n",
       "    .dataframe tbody tr th {\n",
       "        vertical-align: top;\n",
       "    }\n",
       "\n",
       "    .dataframe thead th {\n",
       "        text-align: right;\n",
       "    }\n",
       "</style>\n",
       "<table border=\"1\" class=\"dataframe\">\n",
       "  <thead>\n",
       "    <tr style=\"text-align: right;\">\n",
       "      <th></th>\n",
       "      <th>qtde</th>\n",
       "    </tr>\n",
       "    <tr>\n",
       "      <th>uf_emp</th>\n",
       "      <th></th>\n",
       "    </tr>\n",
       "  </thead>\n",
       "  <tbody>\n",
       "    <tr>\n",
       "      <th>São Paulo</th>\n",
       "      <td>90302</td>\n",
       "    </tr>\n",
       "    <tr>\n",
       "      <th>Minas Gerais</th>\n",
       "      <td>24063</td>\n",
       "    </tr>\n",
       "    <tr>\n",
       "      <th>Rio Grande do Sul</th>\n",
       "      <td>19774</td>\n",
       "    </tr>\n",
       "    <tr>\n",
       "      <th>Paraná</th>\n",
       "      <td>19629</td>\n",
       "    </tr>\n",
       "    <tr>\n",
       "      <th>Rio de Janeiro</th>\n",
       "      <td>16096</td>\n",
       "    </tr>\n",
       "    <tr>\n",
       "      <th>Santa Catarina</th>\n",
       "      <td>13996</td>\n",
       "    </tr>\n",
       "    <tr>\n",
       "      <th>Goiás</th>\n",
       "      <td>6858</td>\n",
       "    </tr>\n",
       "    <tr>\n",
       "      <th>Espírito Santo</th>\n",
       "      <td>5721</td>\n",
       "    </tr>\n",
       "    <tr>\n",
       "      <th>Bahia</th>\n",
       "      <td>5570</td>\n",
       "    </tr>\n",
       "    <tr>\n",
       "      <th>Mato Grosso</th>\n",
       "      <td>5276</td>\n",
       "    </tr>\n",
       "    <tr>\n",
       "      <th>Pernambuco</th>\n",
       "      <td>5116</td>\n",
       "    </tr>\n",
       "    <tr>\n",
       "      <th>Ceará</th>\n",
       "      <td>4955</td>\n",
       "    </tr>\n",
       "    <tr>\n",
       "      <th>Mato Grosso do Sul</th>\n",
       "      <td>4214</td>\n",
       "    </tr>\n",
       "    <tr>\n",
       "      <th>Pará</th>\n",
       "      <td>3903</td>\n",
       "    </tr>\n",
       "    <tr>\n",
       "      <th>Distrito Federal</th>\n",
       "      <td>3136</td>\n",
       "    </tr>\n",
       "    <tr>\n",
       "      <th>Amazonas</th>\n",
       "      <td>2275</td>\n",
       "    </tr>\n",
       "    <tr>\n",
       "      <th>Rio Grande do Norte</th>\n",
       "      <td>1851</td>\n",
       "    </tr>\n",
       "    <tr>\n",
       "      <th>Rondônia</th>\n",
       "      <td>1692</td>\n",
       "    </tr>\n",
       "    <tr>\n",
       "      <th>Alagoas</th>\n",
       "      <td>1508</td>\n",
       "    </tr>\n",
       "    <tr>\n",
       "      <th>Maranhão</th>\n",
       "      <td>1410</td>\n",
       "    </tr>\n",
       "    <tr>\n",
       "      <th>Paraíba</th>\n",
       "      <td>1345</td>\n",
       "    </tr>\n",
       "    <tr>\n",
       "      <th>Sergipe</th>\n",
       "      <td>991</td>\n",
       "    </tr>\n",
       "    <tr>\n",
       "      <th>Piauí</th>\n",
       "      <td>674</td>\n",
       "    </tr>\n",
       "    <tr>\n",
       "      <th>Tocantins</th>\n",
       "      <td>667</td>\n",
       "    </tr>\n",
       "    <tr>\n",
       "      <th>Acre</th>\n",
       "      <td>280</td>\n",
       "    </tr>\n",
       "    <tr>\n",
       "      <th>Roraima</th>\n",
       "      <td>272</td>\n",
       "    </tr>\n",
       "    <tr>\n",
       "      <th>Amapá</th>\n",
       "      <td>242</td>\n",
       "    </tr>\n",
       "  </tbody>\n",
       "</table>\n",
       "</div>"
      ],
      "text/plain": [
       "                      qtde\n",
       "uf_emp                    \n",
       "São Paulo            90302\n",
       "Minas Gerais         24063\n",
       "Rio Grande do Sul    19774\n",
       "Paraná               19629\n",
       "Rio de Janeiro       16096\n",
       "Santa Catarina       13996\n",
       "Goiás                 6858\n",
       "Espírito Santo        5721\n",
       "Bahia                 5570\n",
       "Mato Grosso           5276\n",
       "Pernambuco            5116\n",
       "Ceará                 4955\n",
       "Mato Grosso do Sul    4214\n",
       "Pará                  3903\n",
       "Distrito Federal      3136\n",
       "Amazonas              2275\n",
       "Rio Grande do Norte   1851\n",
       "Rondônia              1692\n",
       "Alagoas               1508\n",
       "Maranhão              1410\n",
       "Paraíba               1345\n",
       "Sergipe                991\n",
       "Piauí                  674\n",
       "Tocantins              667\n",
       "Acre                   280\n",
       "Roraima                272\n",
       "Amapá                  242"
      ]
     },
     "execution_count": 12,
     "metadata": {},
     "output_type": "execute_result"
    }
   ],
   "source": [
    "df_uf_mais.head(30)"
   ]
  },
  {
   "cell_type": "code",
   "execution_count": 13,
   "metadata": {},
   "outputs": [
    {
     "data": {
      "text/plain": [
       "241816"
      ]
     },
     "execution_count": 13,
     "metadata": {},
     "output_type": "execute_result"
    }
   ],
   "source": [
    "#qtde total de casos de ocorrência no dataFrame com os UFs por ordem de ocorrência em 2020:\n",
    "df_uf_mais['qtde'].sum() #241810"
   ]
  },
  {
   "cell_type": "code",
   "execution_count": 14,
   "metadata": {},
   "outputs": [],
   "source": [
    "df_uf_mais.to_csv(nomeArquivoUF, sep = ';', encoding='UTF-8')"
   ]
  },
  {
   "cell_type": "code",
   "execution_count": 15,
   "metadata": {},
   "outputs": [
    {
     "name": "stdout",
     "output_type": "stream",
     "text": [
      "<class 'pandas.core.frame.DataFrame'>\n",
      "Int64Index: 10 entries, 322205 to 514205\n",
      "Data columns (total 1 columns):\n",
      " #   Column  Non-Null Count  Dtype\n",
      "---  ------  --------------  -----\n",
      " 0   qtde    10 non-null     int64\n",
      "dtypes: int64(1)\n",
      "memory usage: 160.0 bytes\n"
     ]
    }
   ],
   "source": [
    "#Análise das 20 CBOs de maior incidência de CAT em 2018:\n",
    "df_cbo = pd.DataFrame(df_original['cbo'].value_counts())\n",
    "df_cbo.rename(columns={\"cbo\": \"qtde\"}, inplace=True)\n",
    "df_cbo_mais = df_cbo.head(10).copy()\n",
    "df_cbo_mais.index.name='cbo'\n",
    "df_cbo_mais.info()"
   ]
  },
  {
   "cell_type": "code",
   "execution_count": 16,
   "metadata": {},
   "outputs": [
    {
     "data": {
      "text/html": [
       "<div>\n",
       "<style scoped>\n",
       "    .dataframe tbody tr th:only-of-type {\n",
       "        vertical-align: middle;\n",
       "    }\n",
       "\n",
       "    .dataframe tbody tr th {\n",
       "        vertical-align: top;\n",
       "    }\n",
       "\n",
       "    .dataframe thead th {\n",
       "        text-align: right;\n",
       "    }\n",
       "</style>\n",
       "<table border=\"1\" class=\"dataframe\">\n",
       "  <thead>\n",
       "    <tr style=\"text-align: right;\">\n",
       "      <th></th>\n",
       "      <th>qtde</th>\n",
       "    </tr>\n",
       "    <tr>\n",
       "      <th>cbo</th>\n",
       "      <th></th>\n",
       "    </tr>\n",
       "  </thead>\n",
       "  <tbody>\n",
       "    <tr>\n",
       "      <th>322205</th>\n",
       "      <td>14579</td>\n",
       "    </tr>\n",
       "    <tr>\n",
       "      <th>784205</th>\n",
       "      <td>13985</td>\n",
       "    </tr>\n",
       "    <tr>\n",
       "      <th>514320</th>\n",
       "      <td>9206</td>\n",
       "    </tr>\n",
       "    <tr>\n",
       "      <th>782510</th>\n",
       "      <td>5764</td>\n",
       "    </tr>\n",
       "    <tr>\n",
       "      <th>717020</th>\n",
       "      <td>4685</td>\n",
       "    </tr>\n",
       "    <tr>\n",
       "      <th>521110</th>\n",
       "      <td>4222</td>\n",
       "    </tr>\n",
       "    <tr>\n",
       "      <th>411005</th>\n",
       "      <td>3944</td>\n",
       "    </tr>\n",
       "    <tr>\n",
       "      <th>411010</th>\n",
       "      <td>3551</td>\n",
       "    </tr>\n",
       "    <tr>\n",
       "      <th>521125</th>\n",
       "      <td>3453</td>\n",
       "    </tr>\n",
       "    <tr>\n",
       "      <th>514205</th>\n",
       "      <td>3378</td>\n",
       "    </tr>\n",
       "  </tbody>\n",
       "</table>\n",
       "</div>"
      ],
      "text/plain": [
       "         qtde\n",
       "cbo          \n",
       "322205  14579\n",
       "784205  13985\n",
       "514320   9206\n",
       "782510   5764\n",
       "717020   4685\n",
       "521110   4222\n",
       "411005   3944\n",
       "411010   3551\n",
       "521125   3453\n",
       "514205   3378"
      ]
     },
     "execution_count": 16,
     "metadata": {},
     "output_type": "execute_result"
    }
   ],
   "source": [
    "df_cbo_mais.head(10)"
   ]
  },
  {
   "cell_type": "code",
   "execution_count": 17,
   "metadata": {},
   "outputs": [
    {
     "data": {
      "text/plain": [
       "66767"
      ]
     },
     "execution_count": 17,
     "metadata": {},
     "output_type": "execute_result"
    }
   ],
   "source": [
    "#qtde total de casos de ocorrência no dataFrame com os 20 maiores CBOs por ordem de ocorrência em 2018:\n",
    "df_cbo_mais['qtde'].sum() #66767"
   ]
  },
  {
   "cell_type": "code",
   "execution_count": 18,
   "metadata": {},
   "outputs": [],
   "source": [
    "df_cbo_mais.to_csv(nomeArquivoCBO, sep = ';', encoding='UTF-8')"
   ]
  },
  {
   "cell_type": "code",
   "execution_count": 19,
   "metadata": {},
   "outputs": [
    {
     "data": {
      "text/html": [
       "<div>\n",
       "<style scoped>\n",
       "    .dataframe tbody tr th:only-of-type {\n",
       "        vertical-align: middle;\n",
       "    }\n",
       "\n",
       "    .dataframe tbody tr th {\n",
       "        vertical-align: top;\n",
       "    }\n",
       "\n",
       "    .dataframe thead th {\n",
       "        text-align: right;\n",
       "    }\n",
       "</style>\n",
       "<table border=\"1\" class=\"dataframe\">\n",
       "  <thead>\n",
       "    <tr style=\"text-align: right;\">\n",
       "      <th></th>\n",
       "      <th>qtde</th>\n",
       "    </tr>\n",
       "    <tr>\n",
       "      <th>anoMes</th>\n",
       "      <th></th>\n",
       "    </tr>\n",
       "  </thead>\n",
       "  <tbody>\n",
       "    <tr>\n",
       "      <th>201808</th>\n",
       "      <td>44441</td>\n",
       "    </tr>\n",
       "    <tr>\n",
       "      <th>201810</th>\n",
       "      <td>43450</td>\n",
       "    </tr>\n",
       "    <tr>\n",
       "      <th>201807</th>\n",
       "      <td>40515</td>\n",
       "    </tr>\n",
       "    <tr>\n",
       "      <th>201809</th>\n",
       "      <td>37878</td>\n",
       "    </tr>\n",
       "    <tr>\n",
       "      <th>201811</th>\n",
       "      <td>37547</td>\n",
       "    </tr>\n",
       "    <tr>\n",
       "      <th>201812</th>\n",
       "      <td>27953</td>\n",
       "    </tr>\n",
       "    <tr>\n",
       "      <th>201806</th>\n",
       "      <td>7145</td>\n",
       "    </tr>\n",
       "    <tr>\n",
       "      <th>201805</th>\n",
       "      <td>1174</td>\n",
       "    </tr>\n",
       "    <tr>\n",
       "      <th>201804</th>\n",
       "      <td>670</td>\n",
       "    </tr>\n",
       "    <tr>\n",
       "      <th>201803</th>\n",
       "      <td>498</td>\n",
       "    </tr>\n",
       "    <tr>\n",
       "      <th>201802</th>\n",
       "      <td>295</td>\n",
       "    </tr>\n",
       "    <tr>\n",
       "      <th>201801</th>\n",
       "      <td>250</td>\n",
       "    </tr>\n",
       "  </tbody>\n",
       "</table>\n",
       "</div>"
      ],
      "text/plain": [
       "         qtde\n",
       "anoMes       \n",
       "201808  44441\n",
       "201810  43450\n",
       "201807  40515\n",
       "201809  37878\n",
       "201811  37547\n",
       "201812  27953\n",
       "201806   7145\n",
       "201805   1174\n",
       "201804    670\n",
       "201803    498\n",
       "201802    295\n",
       "201801    250"
      ]
     },
     "execution_count": 19,
     "metadata": {},
     "output_type": "execute_result"
    }
   ],
   "source": [
    "#Análise da incidência dos acidentes em meses de 2018:\n",
    "df_mes = pd.DataFrame(df_original['anoMes'].value_counts())\n",
    "df_mes.rename(columns={\"anoMes\": \"qtde\"}, inplace=True)\n",
    "df_mes_mais = df_mes.head(12).copy()\n",
    "df_mes_mais.index.name='anoMes'\n",
    "\n",
    "df_mes_mais.head(12)"
   ]
  },
  {
   "cell_type": "code",
   "execution_count": 20,
   "metadata": {},
   "outputs": [],
   "source": [
    "df_mes_mais.to_csv(nomeArquivoAnoMes, sep = ';', encoding='UTF-8')"
   ]
  },
  {
   "cell_type": "code",
   "execution_count": 21,
   "metadata": {},
   "outputs": [
    {
     "name": "stdout",
     "output_type": "stream",
     "text": [
      "<class 'pandas.core.frame.DataFrame'>\n",
      "Int64Index: 10 entries, 8610 to 3811\n",
      "Data columns (total 1 columns):\n",
      " #   Column  Non-Null Count  Dtype\n",
      "---  ------  --------------  -----\n",
      " 0   qtde    10 non-null     int64\n",
      "dtypes: int64(1)\n",
      "memory usage: 160.0 bytes\n"
     ]
    }
   ],
   "source": [
    "#Análise da incidência dos acidentes por CNAE:\n",
    "df_cnae = pd.DataFrame(df_original['cnae'].value_counts())\n",
    "df_cnae.rename(columns={\"cnae\": \"qtde\"}, inplace=True)\n",
    "\n",
    "df_cnae_mais = df_cnae.head(10).copy()\n",
    "df_cnae_mais.index.name='cnae'\n",
    "\n",
    "df_cnae_mais.info()"
   ]
  },
  {
   "cell_type": "code",
   "execution_count": 22,
   "metadata": {},
   "outputs": [
    {
     "data": {
      "text/html": [
       "<div>\n",
       "<style scoped>\n",
       "    .dataframe tbody tr th:only-of-type {\n",
       "        vertical-align: middle;\n",
       "    }\n",
       "\n",
       "    .dataframe tbody tr th {\n",
       "        vertical-align: top;\n",
       "    }\n",
       "\n",
       "    .dataframe thead th {\n",
       "        text-align: right;\n",
       "    }\n",
       "</style>\n",
       "<table border=\"1\" class=\"dataframe\">\n",
       "  <thead>\n",
       "    <tr style=\"text-align: right;\">\n",
       "      <th></th>\n",
       "      <th>qtde</th>\n",
       "    </tr>\n",
       "    <tr>\n",
       "      <th>cnae</th>\n",
       "      <th></th>\n",
       "    </tr>\n",
       "  </thead>\n",
       "  <tbody>\n",
       "    <tr>\n",
       "      <th>8610</th>\n",
       "      <td>25755</td>\n",
       "    </tr>\n",
       "    <tr>\n",
       "      <th>4711</th>\n",
       "      <td>9918</td>\n",
       "    </tr>\n",
       "    <tr>\n",
       "      <th>4930</th>\n",
       "      <td>6425</td>\n",
       "    </tr>\n",
       "    <tr>\n",
       "      <th>8411</th>\n",
       "      <td>6193</td>\n",
       "    </tr>\n",
       "    <tr>\n",
       "      <th>1012</th>\n",
       "      <td>5204</td>\n",
       "    </tr>\n",
       "    <tr>\n",
       "      <th>5611</th>\n",
       "      <td>5118</td>\n",
       "    </tr>\n",
       "    <tr>\n",
       "      <th>5310</th>\n",
       "      <td>4536</td>\n",
       "    </tr>\n",
       "    <tr>\n",
       "      <th>4120</th>\n",
       "      <td>4378</td>\n",
       "    </tr>\n",
       "    <tr>\n",
       "      <th>1011</th>\n",
       "      <td>3825</td>\n",
       "    </tr>\n",
       "    <tr>\n",
       "      <th>3811</th>\n",
       "      <td>3636</td>\n",
       "    </tr>\n",
       "  </tbody>\n",
       "</table>\n",
       "</div>"
      ],
      "text/plain": [
       "       qtde\n",
       "cnae       \n",
       "8610  25755\n",
       "4711   9918\n",
       "4930   6425\n",
       "8411   6193\n",
       "1012   5204\n",
       "5611   5118\n",
       "5310   4536\n",
       "4120   4378\n",
       "1011   3825\n",
       "3811   3636"
      ]
     },
     "execution_count": 22,
     "metadata": {},
     "output_type": "execute_result"
    }
   ],
   "source": [
    "df_cnae_mais.head(10)"
   ]
  },
  {
   "cell_type": "code",
   "execution_count": 24,
   "metadata": {},
   "outputs": [
    {
     "data": {
      "text/plain": [
       "74988"
      ]
     },
     "execution_count": 24,
     "metadata": {},
     "output_type": "execute_result"
    }
   ],
   "source": [
    "#qtde total de casos de ocorrência no dataFrame com os 20 maiores CNAEs por ordem de ocorrência em 2018:\n",
    "df_cnae_mais['qtde'].sum() #74988"
   ]
  },
  {
   "cell_type": "code",
   "execution_count": 25,
   "metadata": {},
   "outputs": [],
   "source": [
    "df_cnae_mais.to_csv(nomeArquivoCNAE, sep = ';', encoding='UTF-8')"
   ]
  },
  {
   "cell_type": "code",
   "execution_count": 26,
   "metadata": {},
   "outputs": [
    {
     "name": "stdout",
     "output_type": "stream",
     "text": [
      "<class 'pandas.core.frame.DataFrame'>\n",
      "Index: 10 entries, Dedo to Perna (Entre O Torno\n",
      "Data columns (total 1 columns):\n",
      " #   Column  Non-Null Count  Dtype\n",
      "---  ------  --------------  -----\n",
      " 0   qtde    10 non-null     int64\n",
      "dtypes: int64(1)\n",
      "memory usage: 160.0+ bytes\n"
     ]
    }
   ],
   "source": [
    "#Análise da incidência dos acidentes por parte do corpo atingida:\n",
    "df_parte = pd.DataFrame(df_original['parte'].value_counts())\n",
    "df_parte.rename(columns={\"parte\": \"qtde\"}, inplace=True)\n",
    "\n",
    "df_parte_mais = df_parte.head(10).copy()\n",
    "df_parte_mais.index.name='parte'\n",
    "\n",
    "df_parte_mais.info()"
   ]
  },
  {
   "cell_type": "code",
   "execution_count": 27,
   "metadata": {},
   "outputs": [
    {
     "data": {
      "text/html": [
       "<div>\n",
       "<style scoped>\n",
       "    .dataframe tbody tr th:only-of-type {\n",
       "        vertical-align: middle;\n",
       "    }\n",
       "\n",
       "    .dataframe tbody tr th {\n",
       "        vertical-align: top;\n",
       "    }\n",
       "\n",
       "    .dataframe thead th {\n",
       "        text-align: right;\n",
       "    }\n",
       "</style>\n",
       "<table border=\"1\" class=\"dataframe\">\n",
       "  <thead>\n",
       "    <tr style=\"text-align: right;\">\n",
       "      <th></th>\n",
       "      <th>qtde</th>\n",
       "    </tr>\n",
       "    <tr>\n",
       "      <th>parte</th>\n",
       "      <th></th>\n",
       "    </tr>\n",
       "  </thead>\n",
       "  <tbody>\n",
       "    <tr>\n",
       "      <th>Dedo</th>\n",
       "      <td>56395</td>\n",
       "    </tr>\n",
       "    <tr>\n",
       "      <th>Pe (Exceto Artelhos)</th>\n",
       "      <td>19670</td>\n",
       "    </tr>\n",
       "    <tr>\n",
       "      <th>Mao (Exceto Punho ou</th>\n",
       "      <td>17647</td>\n",
       "    </tr>\n",
       "    <tr>\n",
       "      <th>Joelho</th>\n",
       "      <td>12950</td>\n",
       "    </tr>\n",
       "    <tr>\n",
       "      <th>Partes Multiplas - A</th>\n",
       "      <td>11297</td>\n",
       "    </tr>\n",
       "    <tr>\n",
       "      <th>Articulacao do Torno</th>\n",
       "      <td>10300</td>\n",
       "    </tr>\n",
       "    <tr>\n",
       "      <th>Perna (Do Tornozelo,</th>\n",
       "      <td>8763</td>\n",
       "    </tr>\n",
       "    <tr>\n",
       "      <th>Antebraco (Entre O P</th>\n",
       "      <td>8514</td>\n",
       "    </tr>\n",
       "    <tr>\n",
       "      <th>Ombro</th>\n",
       "      <td>8157</td>\n",
       "    </tr>\n",
       "    <tr>\n",
       "      <th>Perna (Entre O Torno</th>\n",
       "      <td>8149</td>\n",
       "    </tr>\n",
       "  </tbody>\n",
       "</table>\n",
       "</div>"
      ],
      "text/plain": [
       "                       qtde\n",
       "parte                      \n",
       "Dedo                  56395\n",
       "Pe (Exceto Artelhos)  19670\n",
       "Mao (Exceto Punho ou  17647\n",
       "Joelho                12950\n",
       "Partes Multiplas - A  11297\n",
       "Articulacao do Torno  10300\n",
       "Perna (Do Tornozelo,   8763\n",
       "Antebraco (Entre O P   8514\n",
       "Ombro                  8157\n",
       "Perna (Entre O Torno   8149"
      ]
     },
     "execution_count": 27,
     "metadata": {},
     "output_type": "execute_result"
    }
   ],
   "source": [
    "df_parte_mais.head(10)"
   ]
  },
  {
   "cell_type": "code",
   "execution_count": 28,
   "metadata": {},
   "outputs": [
    {
     "data": {
      "text/plain": [
       "161842"
      ]
     },
     "execution_count": 28,
     "metadata": {},
     "output_type": "execute_result"
    }
   ],
   "source": [
    "#qtde total de casos de ocorrência no dataFrame com os 20 maiores CNAEs por ordem de ocorrência em 2018:\n",
    "df_parte_mais['qtde'].sum() #161842"
   ]
  },
  {
   "cell_type": "code",
   "execution_count": 29,
   "metadata": {},
   "outputs": [],
   "source": [
    "df_parte_mais.to_csv(nomeArquivoParte, sep = ';', encoding='UTF-8')"
   ]
  },
  {
   "cell_type": "code",
   "execution_count": 30,
   "metadata": {},
   "outputs": [
    {
     "name": "stdout",
     "output_type": "stream",
     "text": [
      "<class 'pandas.core.frame.DataFrame'>\n",
      "Index: 4 entries, Masculino to Indeterminado\n",
      "Data columns (total 1 columns):\n",
      " #   Column  Non-Null Count  Dtype\n",
      "---  ------  --------------  -----\n",
      " 0   qtde    4 non-null      int64\n",
      "dtypes: int64(1)\n",
      "memory usage: 64.0+ bytes\n"
     ]
    }
   ],
   "source": [
    "#Análise da incidência dos acidentes, separados por sexo (M ou F):\n",
    "df_sexo = pd.DataFrame(df_original['sexo'].value_counts())\n",
    "df_sexo.rename(columns={\"sexo\": \"qtde\"}, inplace=True)\n",
    "\n",
    "df_sexo_mais = df_sexo.head(5).copy()  # pode haver alguma opção para 'não informado'\n",
    "df_sexo_mais.index.name='sexo'\n",
    "\n",
    "df_sexo_mais.info()"
   ]
  },
  {
   "cell_type": "code",
   "execution_count": 31,
   "metadata": {},
   "outputs": [
    {
     "data": {
      "text/html": [
       "<div>\n",
       "<style scoped>\n",
       "    .dataframe tbody tr th:only-of-type {\n",
       "        vertical-align: middle;\n",
       "    }\n",
       "\n",
       "    .dataframe tbody tr th {\n",
       "        vertical-align: top;\n",
       "    }\n",
       "\n",
       "    .dataframe thead th {\n",
       "        text-align: right;\n",
       "    }\n",
       "</style>\n",
       "<table border=\"1\" class=\"dataframe\">\n",
       "  <thead>\n",
       "    <tr style=\"text-align: right;\">\n",
       "      <th></th>\n",
       "      <th>qtde</th>\n",
       "    </tr>\n",
       "    <tr>\n",
       "      <th>sexo</th>\n",
       "      <th></th>\n",
       "    </tr>\n",
       "  </thead>\n",
       "  <tbody>\n",
       "    <tr>\n",
       "      <th>Masculino</th>\n",
       "      <td>160793</td>\n",
       "    </tr>\n",
       "    <tr>\n",
       "      <th>Feminino</th>\n",
       "      <td>81007</td>\n",
       "    </tr>\n",
       "    <tr>\n",
       "      <th>Não Informado</th>\n",
       "      <td>14</td>\n",
       "    </tr>\n",
       "    <tr>\n",
       "      <th>Indeterminado</th>\n",
       "      <td>2</td>\n",
       "    </tr>\n",
       "  </tbody>\n",
       "</table>\n",
       "</div>"
      ],
      "text/plain": [
       "                 qtde\n",
       "sexo                 \n",
       "Masculino      160793\n",
       "Feminino        81007\n",
       "Não Informado      14\n",
       "Indeterminado       2"
      ]
     },
     "execution_count": 31,
     "metadata": {},
     "output_type": "execute_result"
    }
   ],
   "source": [
    "df_sexo_mais.head()"
   ]
  },
  {
   "cell_type": "code",
   "execution_count": 33,
   "metadata": {},
   "outputs": [
    {
     "data": {
      "text/plain": [
       "241816"
      ]
     },
     "execution_count": 33,
     "metadata": {},
     "output_type": "execute_result"
    }
   ],
   "source": [
    "#qtde total de casos de ocorrência no dataFrame com os 20 maiores CNAEs por ordem de ocorrência em 2018:\n",
    "df_sexo_mais['qtde'].sum() #241816"
   ]
  },
  {
   "cell_type": "code",
   "execution_count": 34,
   "metadata": {},
   "outputs": [],
   "source": [
    "df_sexo_mais.to_csv(nomeArquivoSexo, sep = ';', encoding='UTF-8')"
   ]
  },
  {
   "cell_type": "code",
   "execution_count": 35,
   "metadata": {},
   "outputs": [
    {
     "data": {
      "text/plain": [
       "8"
      ]
     },
     "execution_count": 35,
     "metadata": {},
     "output_type": "execute_result"
    }
   ],
   "source": [
    "df_original['idade'].min() #8 ???"
   ]
  },
  {
   "cell_type": "code",
   "execution_count": 36,
   "metadata": {},
   "outputs": [
    {
     "data": {
      "text/plain": [
       "2"
      ]
     },
     "execution_count": 36,
     "metadata": {},
     "output_type": "execute_result"
    }
   ],
   "source": [
    "selecao = df_original['idade'] < 14 # idade mínima para jovem aprendiz é de 14 anos, porém foram encontrados 2 registros < 14\n",
    "df_min = df_original[selecao]\n",
    "df_min.head(10)\n",
    "df_min.shape[0]   "
   ]
  },
  {
   "cell_type": "code",
   "execution_count": 37,
   "metadata": {},
   "outputs": [
    {
     "data": {
      "text/plain": [
       "92"
      ]
     },
     "execution_count": 37,
     "metadata": {},
     "output_type": "execute_result"
    }
   ],
   "source": [
    "df_original['idade'].max()  #92"
   ]
  },
  {
   "cell_type": "code",
   "execution_count": 38,
   "metadata": {},
   "outputs": [],
   "source": [
    "classes = [13, 19, 24, 29, 34, 39, 44, 49, 54, 59, 64, 69, 100]\n",
    "faixas = pd.cut(df_original.idade, classes)"
   ]
  },
  {
   "cell_type": "code",
   "execution_count": 39,
   "metadata": {},
   "outputs": [
    {
     "data": {
      "text/plain": [
       "(29, 34]     40120\n",
       "(24, 29]     38948\n",
       "(34, 39]     37148\n",
       "(19, 24]     35907\n",
       "(39, 44]     28131\n",
       "(44, 49]     21460\n",
       "(49, 54]     16187\n",
       "(54, 59]      9797\n",
       "(13, 19]      8545\n",
       "(59, 64]      4073\n",
       "(64, 69]      1123\n",
       "(69, 100]      375\n",
       "Name: idade, dtype: int64"
      ]
     },
     "execution_count": 39,
     "metadata": {},
     "output_type": "execute_result"
    }
   ],
   "source": [
    "pd.value_counts(faixas)"
   ]
  },
  {
   "cell_type": "code",
   "execution_count": 40,
   "metadata": {},
   "outputs": [
    {
     "data": {
      "text/plain": [
       "30 a 34 anos:     40120\n",
       "25 a 29 anos:     38948\n",
       "35 a 39 anos:     37148\n",
       "20 a 24 anos:     35907\n",
       "40 a 44 anos:     28131\n",
       "45 a 49 anos:     21460\n",
       "50 a 54 anos:     16187\n",
       "55 a 59 anos:      9797\n",
       "14 a 19 anos:      8545\n",
       "60 a 64 anos:      4073\n",
       "65 a 69 anos:      1123\n",
       "70 a 100 anos:      375\n",
       "Name: idade, dtype: int64"
      ]
     },
     "execution_count": 40,
     "metadata": {},
     "output_type": "execute_result"
    }
   ],
   "source": [
    "labels = ['14 a 19 anos: ', '20 a 24 anos:', '25 a 29 anos:', '30 a 34 anos:', '35 a 39 anos:', '40 a 44 anos:', \n",
    "          '45 a 49 anos:', '50 a 54 anos:', '55 a 59 anos:', '60 a 64 anos:', '65 a 69 anos:', '70 a 100 anos:']\n",
    "faixas_labels = pd.cut(df_original.idade, classes, labels = labels)\n",
    "pd.value_counts(faixas_labels)"
   ]
  },
  {
   "cell_type": "code",
   "execution_count": 41,
   "metadata": {},
   "outputs": [],
   "source": [
    "df_faixasEtarias = pd.DataFrame(pd.value_counts(faixas_labels))"
   ]
  },
  {
   "cell_type": "code",
   "execution_count": 42,
   "metadata": {},
   "outputs": [
    {
     "data": {
      "text/html": [
       "<div>\n",
       "<style scoped>\n",
       "    .dataframe tbody tr th:only-of-type {\n",
       "        vertical-align: middle;\n",
       "    }\n",
       "\n",
       "    .dataframe tbody tr th {\n",
       "        vertical-align: top;\n",
       "    }\n",
       "\n",
       "    .dataframe thead th {\n",
       "        text-align: right;\n",
       "    }\n",
       "</style>\n",
       "<table border=\"1\" class=\"dataframe\">\n",
       "  <thead>\n",
       "    <tr style=\"text-align: right;\">\n",
       "      <th></th>\n",
       "      <th>idade</th>\n",
       "    </tr>\n",
       "  </thead>\n",
       "  <tbody>\n",
       "    <tr>\n",
       "      <th>30 a 34 anos:</th>\n",
       "      <td>40120</td>\n",
       "    </tr>\n",
       "    <tr>\n",
       "      <th>25 a 29 anos:</th>\n",
       "      <td>38948</td>\n",
       "    </tr>\n",
       "    <tr>\n",
       "      <th>35 a 39 anos:</th>\n",
       "      <td>37148</td>\n",
       "    </tr>\n",
       "    <tr>\n",
       "      <th>20 a 24 anos:</th>\n",
       "      <td>35907</td>\n",
       "    </tr>\n",
       "    <tr>\n",
       "      <th>40 a 44 anos:</th>\n",
       "      <td>28131</td>\n",
       "    </tr>\n",
       "    <tr>\n",
       "      <th>45 a 49 anos:</th>\n",
       "      <td>21460</td>\n",
       "    </tr>\n",
       "    <tr>\n",
       "      <th>50 a 54 anos:</th>\n",
       "      <td>16187</td>\n",
       "    </tr>\n",
       "    <tr>\n",
       "      <th>55 a 59 anos:</th>\n",
       "      <td>9797</td>\n",
       "    </tr>\n",
       "    <tr>\n",
       "      <th>14 a 19 anos:</th>\n",
       "      <td>8545</td>\n",
       "    </tr>\n",
       "    <tr>\n",
       "      <th>60 a 64 anos:</th>\n",
       "      <td>4073</td>\n",
       "    </tr>\n",
       "  </tbody>\n",
       "</table>\n",
       "</div>"
      ],
      "text/plain": [
       "                idade\n",
       "30 a 34 anos:   40120\n",
       "25 a 29 anos:   38948\n",
       "35 a 39 anos:   37148\n",
       "20 a 24 anos:   35907\n",
       "40 a 44 anos:   28131\n",
       "45 a 49 anos:   21460\n",
       "50 a 54 anos:   16187\n",
       "55 a 59 anos:    9797\n",
       "14 a 19 anos:    8545\n",
       "60 a 64 anos:    4073"
      ]
     },
     "execution_count": 42,
     "metadata": {},
     "output_type": "execute_result"
    }
   ],
   "source": [
    "df_faixasEtarias.head(10)"
   ]
  },
  {
   "cell_type": "code",
   "execution_count": 43,
   "metadata": {},
   "outputs": [],
   "source": [
    "df_faixasEtarias['desc_faixa'] = df_faixasEtarias.index"
   ]
  },
  {
   "cell_type": "code",
   "execution_count": 44,
   "metadata": {},
   "outputs": [
    {
     "data": {
      "text/html": [
       "<div>\n",
       "<style scoped>\n",
       "    .dataframe tbody tr th:only-of-type {\n",
       "        vertical-align: middle;\n",
       "    }\n",
       "\n",
       "    .dataframe tbody tr th {\n",
       "        vertical-align: top;\n",
       "    }\n",
       "\n",
       "    .dataframe thead th {\n",
       "        text-align: right;\n",
       "    }\n",
       "</style>\n",
       "<table border=\"1\" class=\"dataframe\">\n",
       "  <thead>\n",
       "    <tr style=\"text-align: right;\">\n",
       "      <th></th>\n",
       "      <th>idade</th>\n",
       "      <th>desc_faixa</th>\n",
       "    </tr>\n",
       "  </thead>\n",
       "  <tbody>\n",
       "    <tr>\n",
       "      <th>30 a 34 anos:</th>\n",
       "      <td>40120</td>\n",
       "      <td>30 a 34 anos:</td>\n",
       "    </tr>\n",
       "    <tr>\n",
       "      <th>25 a 29 anos:</th>\n",
       "      <td>38948</td>\n",
       "      <td>25 a 29 anos:</td>\n",
       "    </tr>\n",
       "    <tr>\n",
       "      <th>35 a 39 anos:</th>\n",
       "      <td>37148</td>\n",
       "      <td>35 a 39 anos:</td>\n",
       "    </tr>\n",
       "    <tr>\n",
       "      <th>20 a 24 anos:</th>\n",
       "      <td>35907</td>\n",
       "      <td>20 a 24 anos:</td>\n",
       "    </tr>\n",
       "    <tr>\n",
       "      <th>40 a 44 anos:</th>\n",
       "      <td>28131</td>\n",
       "      <td>40 a 44 anos:</td>\n",
       "    </tr>\n",
       "    <tr>\n",
       "      <th>45 a 49 anos:</th>\n",
       "      <td>21460</td>\n",
       "      <td>45 a 49 anos:</td>\n",
       "    </tr>\n",
       "    <tr>\n",
       "      <th>50 a 54 anos:</th>\n",
       "      <td>16187</td>\n",
       "      <td>50 a 54 anos:</td>\n",
       "    </tr>\n",
       "    <tr>\n",
       "      <th>55 a 59 anos:</th>\n",
       "      <td>9797</td>\n",
       "      <td>55 a 59 anos:</td>\n",
       "    </tr>\n",
       "    <tr>\n",
       "      <th>14 a 19 anos:</th>\n",
       "      <td>8545</td>\n",
       "      <td>14 a 19 anos:</td>\n",
       "    </tr>\n",
       "    <tr>\n",
       "      <th>60 a 64 anos:</th>\n",
       "      <td>4073</td>\n",
       "      <td>60 a 64 anos:</td>\n",
       "    </tr>\n",
       "  </tbody>\n",
       "</table>\n",
       "</div>"
      ],
      "text/plain": [
       "                idade      desc_faixa\n",
       "30 a 34 anos:   40120   30 a 34 anos:\n",
       "25 a 29 anos:   38948   25 a 29 anos:\n",
       "35 a 39 anos:   37148   35 a 39 anos:\n",
       "20 a 24 anos:   35907   20 a 24 anos:\n",
       "40 a 44 anos:   28131   40 a 44 anos:\n",
       "45 a 49 anos:   21460   45 a 49 anos:\n",
       "50 a 54 anos:   16187   50 a 54 anos:\n",
       "55 a 59 anos:    9797   55 a 59 anos:\n",
       "14 a 19 anos:    8545  14 a 19 anos: \n",
       "60 a 64 anos:    4073   60 a 64 anos:"
      ]
     },
     "execution_count": 44,
     "metadata": {},
     "output_type": "execute_result"
    }
   ],
   "source": [
    "df_faixasEtarias.head(10)"
   ]
  },
  {
   "cell_type": "code",
   "execution_count": 45,
   "metadata": {},
   "outputs": [
    {
     "data": {
      "text/html": [
       "<div>\n",
       "<style scoped>\n",
       "    .dataframe tbody tr th:only-of-type {\n",
       "        vertical-align: middle;\n",
       "    }\n",
       "\n",
       "    .dataframe tbody tr th {\n",
       "        vertical-align: top;\n",
       "    }\n",
       "\n",
       "    .dataframe thead th {\n",
       "        text-align: right;\n",
       "    }\n",
       "</style>\n",
       "<table border=\"1\" class=\"dataframe\">\n",
       "  <thead>\n",
       "    <tr style=\"text-align: right;\">\n",
       "      <th></th>\n",
       "      <th>qtde</th>\n",
       "      <th>desc_faixa</th>\n",
       "    </tr>\n",
       "    <tr>\n",
       "      <th>id</th>\n",
       "      <th></th>\n",
       "      <th></th>\n",
       "    </tr>\n",
       "  </thead>\n",
       "  <tbody>\n",
       "    <tr>\n",
       "      <th>0</th>\n",
       "      <td>40120</td>\n",
       "      <td>30 a 34 anos:</td>\n",
       "    </tr>\n",
       "    <tr>\n",
       "      <th>1</th>\n",
       "      <td>38948</td>\n",
       "      <td>25 a 29 anos:</td>\n",
       "    </tr>\n",
       "    <tr>\n",
       "      <th>2</th>\n",
       "      <td>37148</td>\n",
       "      <td>35 a 39 anos:</td>\n",
       "    </tr>\n",
       "    <tr>\n",
       "      <th>3</th>\n",
       "      <td>35907</td>\n",
       "      <td>20 a 24 anos:</td>\n",
       "    </tr>\n",
       "    <tr>\n",
       "      <th>4</th>\n",
       "      <td>28131</td>\n",
       "      <td>40 a 44 anos:</td>\n",
       "    </tr>\n",
       "    <tr>\n",
       "      <th>5</th>\n",
       "      <td>21460</td>\n",
       "      <td>45 a 49 anos:</td>\n",
       "    </tr>\n",
       "    <tr>\n",
       "      <th>6</th>\n",
       "      <td>16187</td>\n",
       "      <td>50 a 54 anos:</td>\n",
       "    </tr>\n",
       "    <tr>\n",
       "      <th>7</th>\n",
       "      <td>9797</td>\n",
       "      <td>55 a 59 anos:</td>\n",
       "    </tr>\n",
       "    <tr>\n",
       "      <th>8</th>\n",
       "      <td>8545</td>\n",
       "      <td>14 a 19 anos:</td>\n",
       "    </tr>\n",
       "    <tr>\n",
       "      <th>9</th>\n",
       "      <td>4073</td>\n",
       "      <td>60 a 64 anos:</td>\n",
       "    </tr>\n",
       "  </tbody>\n",
       "</table>\n",
       "</div>"
      ],
      "text/plain": [
       "     qtde      desc_faixa\n",
       "id                       \n",
       "0   40120   30 a 34 anos:\n",
       "1   38948   25 a 29 anos:\n",
       "2   37148   35 a 39 anos:\n",
       "3   35907   20 a 24 anos:\n",
       "4   28131   40 a 44 anos:\n",
       "5   21460   45 a 49 anos:\n",
       "6   16187   50 a 54 anos:\n",
       "7    9797   55 a 59 anos:\n",
       "8    8545  14 a 19 anos: \n",
       "9    4073   60 a 64 anos:"
      ]
     },
     "execution_count": 45,
     "metadata": {},
     "output_type": "execute_result"
    }
   ],
   "source": [
    "df_faixasEtarias.index = range(df_faixasEtarias.shape[0])\n",
    "df_faixasEtarias.index.name = 'id'\n",
    "df_faixasEtarias.rename(columns={\"idade\": \"qtde\"}, inplace=True)\n",
    "df_faixasEtarias.head(10)"
   ]
  },
  {
   "cell_type": "code",
   "execution_count": 46,
   "metadata": {},
   "outputs": [
    {
     "data": {
      "text/plain": [
       "241814"
      ]
     },
     "execution_count": 46,
     "metadata": {},
     "output_type": "execute_result"
    }
   ],
   "source": [
    "df_faixasEtarias.to_csv(nomeArquivoIdade, sep = ';', encoding='UTF-8')\n",
    "df_faixasEtarias['qtde'].sum()"
   ]
  },
  {
   "cell_type": "code",
   "execution_count": 47,
   "metadata": {},
   "outputs": [
    {
     "name": "stdout",
     "output_type": "stream",
     "text": [
      "<class 'pandas.core.frame.DataFrame'>\n",
      "Index: 2 entries, Não to Sim\n",
      "Data columns (total 1 columns):\n",
      " #   Column  Non-Null Count  Dtype\n",
      "---  ------  --------------  -----\n",
      " 0   qtde    2 non-null      int64\n",
      "dtypes: int64(1)\n",
      "memory usage: 32.0+ bytes\n"
     ]
    }
   ],
   "source": [
    "#Análise da incidência de óbitos decorrentes dos acidente:\n",
    "df_obitos = pd.DataFrame(df_original['obito'].value_counts())\n",
    "df_obitos.rename(columns={\"obito\": \"qtde\"}, inplace=True)\n",
    "\n",
    "df_obitos_mais = df_obitos.head(5).copy()  # pode haver alguma opção para 'não informado'\n",
    "df_obitos_mais.index.name='obito'\n",
    "\n",
    "df_obitos_mais.info()"
   ]
  },
  {
   "cell_type": "code",
   "execution_count": 48,
   "metadata": {},
   "outputs": [
    {
     "data": {
      "text/html": [
       "<div>\n",
       "<style scoped>\n",
       "    .dataframe tbody tr th:only-of-type {\n",
       "        vertical-align: middle;\n",
       "    }\n",
       "\n",
       "    .dataframe tbody tr th {\n",
       "        vertical-align: top;\n",
       "    }\n",
       "\n",
       "    .dataframe thead th {\n",
       "        text-align: right;\n",
       "    }\n",
       "</style>\n",
       "<table border=\"1\" class=\"dataframe\">\n",
       "  <thead>\n",
       "    <tr style=\"text-align: right;\">\n",
       "      <th></th>\n",
       "      <th>qtde</th>\n",
       "    </tr>\n",
       "    <tr>\n",
       "      <th>obito</th>\n",
       "      <th></th>\n",
       "    </tr>\n",
       "  </thead>\n",
       "  <tbody>\n",
       "    <tr>\n",
       "      <th>Não</th>\n",
       "      <td>240759</td>\n",
       "    </tr>\n",
       "    <tr>\n",
       "      <th>Sim</th>\n",
       "      <td>1057</td>\n",
       "    </tr>\n",
       "  </tbody>\n",
       "</table>\n",
       "</div>"
      ],
      "text/plain": [
       "         qtde\n",
       "obito        \n",
       "Não    240759\n",
       "Sim      1057"
      ]
     },
     "execution_count": 48,
     "metadata": {},
     "output_type": "execute_result"
    }
   ],
   "source": [
    "df_obitos_mais.head()"
   ]
  },
  {
   "cell_type": "code",
   "execution_count": 50,
   "metadata": {},
   "outputs": [
    {
     "data": {
      "text/plain": [
       "241816"
      ]
     },
     "execution_count": 50,
     "metadata": {},
     "output_type": "execute_result"
    }
   ],
   "source": [
    "#qtde total de casos de ocorrência no dataFrame:\n",
    "df_obitos_mais['qtde'].sum() #241816"
   ]
  },
  {
   "cell_type": "code",
   "execution_count": 51,
   "metadata": {},
   "outputs": [],
   "source": [
    "df_obitos_mais.to_csv(nomeArquivoObitos, sep = ';', encoding='UTF-8')"
   ]
  },
  {
   "cell_type": "code",
   "execution_count": 52,
   "metadata": {},
   "outputs": [
    {
     "name": "stdout",
     "output_type": "stream",
     "text": [
      "<class 'pandas.core.frame.DataFrame'>\n",
      "Index: 4 entries, Típico to Ignorado\n",
      "Data columns (total 1 columns):\n",
      " #   Column  Non-Null Count  Dtype\n",
      "---  ------  --------------  -----\n",
      " 0   qtde    4 non-null      int64\n",
      "dtypes: int64(1)\n",
      "memory usage: 64.0+ bytes\n"
     ]
    }
   ],
   "source": [
    "#Análise da incidência de tipos de acidentes:\n",
    "df_tipos = pd.DataFrame(df_original['tipo_acidente'].value_counts())\n",
    "df_tipos.rename(columns={\"tipo_acidente\": \"qtde\"}, inplace=True)\n",
    "\n",
    "df_tipos_mais = df_tipos.head(20).copy()  # pode haver alguma opção para 'não informado'\n",
    "df_tipos_mais.index.name='tipo_acidente'\n",
    "\n",
    "df_tipos_mais.info()"
   ]
  },
  {
   "cell_type": "code",
   "execution_count": 53,
   "metadata": {},
   "outputs": [
    {
     "data": {
      "text/html": [
       "<div>\n",
       "<style scoped>\n",
       "    .dataframe tbody tr th:only-of-type {\n",
       "        vertical-align: middle;\n",
       "    }\n",
       "\n",
       "    .dataframe tbody tr th {\n",
       "        vertical-align: top;\n",
       "    }\n",
       "\n",
       "    .dataframe thead th {\n",
       "        text-align: right;\n",
       "    }\n",
       "</style>\n",
       "<table border=\"1\" class=\"dataframe\">\n",
       "  <thead>\n",
       "    <tr style=\"text-align: right;\">\n",
       "      <th></th>\n",
       "      <th>qtde</th>\n",
       "    </tr>\n",
       "    <tr>\n",
       "      <th>tipo_acidente</th>\n",
       "      <th></th>\n",
       "    </tr>\n",
       "  </thead>\n",
       "  <tbody>\n",
       "    <tr>\n",
       "      <th>Típico</th>\n",
       "      <td>182058</td>\n",
       "    </tr>\n",
       "    <tr>\n",
       "      <th>Trajeto</th>\n",
       "      <td>54966</td>\n",
       "    </tr>\n",
       "    <tr>\n",
       "      <th>Doença</th>\n",
       "      <td>4786</td>\n",
       "    </tr>\n",
       "    <tr>\n",
       "      <th>Ignorado</th>\n",
       "      <td>6</td>\n",
       "    </tr>\n",
       "  </tbody>\n",
       "</table>\n",
       "</div>"
      ],
      "text/plain": [
       "                 qtde\n",
       "tipo_acidente        \n",
       "Típico         182058\n",
       "Trajeto         54966\n",
       "Doença           4786\n",
       "Ignorado            6"
      ]
     },
     "execution_count": 53,
     "metadata": {},
     "output_type": "execute_result"
    }
   ],
   "source": [
    "df_tipos_mais.head(20)"
   ]
  },
  {
   "cell_type": "code",
   "execution_count": 55,
   "metadata": {},
   "outputs": [
    {
     "data": {
      "text/plain": [
       "241816"
      ]
     },
     "execution_count": 55,
     "metadata": {},
     "output_type": "execute_result"
    }
   ],
   "source": [
    "#qtde total de casos de ocorrência no dataFrame:\n",
    "df_tipos_mais['qtde'].sum() #241816"
   ]
  },
  {
   "cell_type": "code",
   "execution_count": 56,
   "metadata": {},
   "outputs": [],
   "source": [
    "df_tipos_mais.to_csv(nomeArquivoTipoAcidente, sep = ';', encoding='UTF-8')"
   ]
  },
  {
   "cell_type": "code",
   "execution_count": null,
   "metadata": {},
   "outputs": [],
   "source": []
  }
 ],
 "metadata": {
  "kernelspec": {
   "display_name": "Python 3",
   "language": "python",
   "name": "python3"
  },
  "language_info": {
   "codemirror_mode": {
    "name": "ipython",
    "version": 3
   },
   "file_extension": ".py",
   "mimetype": "text/x-python",
   "name": "python",
   "nbconvert_exporter": "python",
   "pygments_lexer": "ipython3",
   "version": "3.8.3"
  }
 },
 "nbformat": 4,
 "nbformat_minor": 4
}
