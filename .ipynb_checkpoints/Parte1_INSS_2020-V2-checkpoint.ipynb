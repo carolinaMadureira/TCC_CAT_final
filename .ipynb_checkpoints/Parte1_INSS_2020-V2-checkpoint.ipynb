{
 "cells": [
  {
   "cell_type": "code",
   "execution_count": 1,
   "metadata": {},
   "outputs": [],
   "source": [
    "import numpy as np\n",
    "import pandas as pd\n",
    "from scipy import special\n",
    "from random import sample\n",
    "import itertools\n",
    "from datetime import timedelta\n",
    "import math\n",
    "import fprocessamento as fprocess\n",
    "from dateutil.relativedelta import *\n",
    "from datetime import date\n",
    "from datetime import datetime"
   ]
  },
  {
   "cell_type": "code",
   "execution_count": 2,
   "metadata": {},
   "outputs": [
    {
     "name": "stdout",
     "output_type": "stream",
     "text": [
      "Qtde de registros no arquivo datasets/origem/INSS/cat-comp01-02-03-2020.csv = 81264\n",
      "Qtde de registros no df_total = 81264\n",
      "Qtde de registros no arquivo datasets/origem/INSS/cat-competencia-04-05-06-2020.csv = 75743\n",
      "Qtde de registros no df_total = 157007\n",
      "Qtde de registros no arquivo datasets/origem/INSS/cat-competencia-07-08-09-2020.csv = 117439\n",
      "Qtde de registros no df_total = 274446\n"
     ]
    }
   ],
   "source": [
    "listaArquivos2020 = ['datasets/origem/INSS/cat-comp01-02-03-2020.csv', 'datasets/origem/INSS/cat-competencia-04-05-06-2020.csv',\n",
    "                     'datasets/origem/INSS/cat-competencia-07-08-09-2020.csv']\n",
    "                     \n",
    "                     \n",
    "nomeArquivoResult2020 = 'datasets/result/dados_cat_2020.csv'\n",
    "nomeArquivoResult2019 = 'datasets/result/dados_cat_2019A.csv'\n",
    "    \n",
    "columns_types = {'agente': str, 'dt_acidente': str, 'cbo': int, 'cbo_desc': str, 'cid': str, 'cid_desc': str, \n",
    "                 'cnae': int, 'cnae_desc': str, 'emitente': str, 'especie': str, 'filiacao': str, \n",
    "                 'obito': str, 'munic_emp': str, 'natureza': str, 'origem': str, 'parte': str, 'sexo': str, \n",
    "                 'tipo_acidente': str, 'uf_acidente': str, 'uf_emp': str, 'dt_afast': str, 'dt_despacho': str, 'dt_acid': str, \n",
    "                 'dt_nasc': str, 'dt_emissao': str}\n",
    "\n",
    "nomes  = ['agente', 'dt_acidente', 'cbo', 'cbo_desc', 'cid', 'cid_desc', 'cnae', 'cnae_desc', 'emitente', 'especie', \n",
    "          'filiacao', 'obito', 'munic_emp', 'natureza', 'origem', 'parte', 'sexo', 'tipo_acidente', 'uf_acidente', 'uf_emp', \n",
    "          'dt_afast', 'dt_despacho', 'dt_acid', 'dt_nasc', 'dt_emissao']\n",
    "\n",
    "df_total = pd.DataFrame()\n",
    "for arq in listaArquivos2020:\n",
    "    try:\n",
    "        dados_originais = pd.read_csv(arq, sep = ';', header=0, names=nomes, dtype=columns_types, encoding='utf-8')        \n",
    "    except:\n",
    "        dados_originais = pd.read_csv(arq, sep = ';', header=0, names=nomes, dtype=columns_types, encoding='iso-8859-1')\n",
    "    finally:\n",
    "        df_item = pd.DataFrame(data = dados_originais, columns=nomes)\n",
    "        print('Qtde de registros no arquivo {} = {}'.format(arq, df_item.shape[0]))\n",
    "        df_total = pd.concat([df_total, df_item], ignore_index= True)\n",
    "        print('Qtde de registros no df_total = {}'.format(df_total.shape[0]))"
   ]
  },
  {
   "cell_type": "code",
   "execution_count": 3,
   "metadata": {},
   "outputs": [],
   "source": [
    "df_cat = pd.DataFrame(df_total[['dt_acidente', 'cbo', 'cid', 'cnae', 'obito', 'parte','sexo', \n",
    "                                'tipo_acidente', 'uf_emp', 'dt_nasc']])\n",
    "\n",
    "fprocess.formatarStr(df_cat, ['dt_acidente', 'cid', 'obito', 'parte', 'sexo', 'tipo_acidente', 'uf_emp', \n",
    "                     'dt_nasc'])\n",
    "\n",
    "df_cat.columns.name = 'caracteristica'\n",
    "df_cat.index.name = \"id\"\n",
    "df_cat.index = range(df_cat.shape[0]) #274446"
   ]
  },
  {
   "cell_type": "code",
   "execution_count": 4,
   "metadata": {},
   "outputs": [
    {
     "data": {
      "text/html": [
       "<div>\n",
       "<style scoped>\n",
       "    .dataframe tbody tr th:only-of-type {\n",
       "        vertical-align: middle;\n",
       "    }\n",
       "\n",
       "    .dataframe tbody tr th {\n",
       "        vertical-align: top;\n",
       "    }\n",
       "\n",
       "    .dataframe thead th {\n",
       "        text-align: right;\n",
       "    }\n",
       "</style>\n",
       "<table border=\"1\" class=\"dataframe\">\n",
       "  <thead>\n",
       "    <tr style=\"text-align: right;\">\n",
       "      <th>caracteristica</th>\n",
       "      <th>dt_acidente</th>\n",
       "      <th>cbo</th>\n",
       "      <th>cid</th>\n",
       "      <th>cnae</th>\n",
       "      <th>obito</th>\n",
       "      <th>parte</th>\n",
       "      <th>sexo</th>\n",
       "      <th>tipo_acidente</th>\n",
       "      <th>uf_emp</th>\n",
       "      <th>dt_nasc</th>\n",
       "    </tr>\n",
       "  </thead>\n",
       "  <tbody>\n",
       "    <tr>\n",
       "      <th>0</th>\n",
       "      <td>2020/01</td>\n",
       "      <td>322230</td>\n",
       "      <td>S610</td>\n",
       "      <td>9491</td>\n",
       "      <td>Não</td>\n",
       "      <td>Dedo</td>\n",
       "      <td>Feminino</td>\n",
       "      <td>Típico</td>\n",
       "      <td>São Paulo</td>\n",
       "      <td>07/09/1977</td>\n",
       "    </tr>\n",
       "    <tr>\n",
       "      <th>1</th>\n",
       "      <td>2020/01</td>\n",
       "      <td>322205</td>\n",
       "      <td>Z209</td>\n",
       "      <td>8610</td>\n",
       "      <td>Não</td>\n",
       "      <td>Dedo</td>\n",
       "      <td>Feminino</td>\n",
       "      <td>Típico</td>\n",
       "      <td>Ceará</td>\n",
       "      <td>27/11/1987</td>\n",
       "    </tr>\n",
       "    <tr>\n",
       "      <th>2</th>\n",
       "      <td>2020/01</td>\n",
       "      <td>322205</td>\n",
       "      <td>Y289</td>\n",
       "      <td>8610</td>\n",
       "      <td>Não</td>\n",
       "      <td>Dedo</td>\n",
       "      <td>Masculino</td>\n",
       "      <td>Típico</td>\n",
       "      <td>São Paulo</td>\n",
       "      <td>03/01/1983</td>\n",
       "    </tr>\n",
       "    <tr>\n",
       "      <th>3</th>\n",
       "      <td>2020/01</td>\n",
       "      <td>314410</td>\n",
       "      <td>S610</td>\n",
       "      <td>1012</td>\n",
       "      <td>Não</td>\n",
       "      <td>Dedo</td>\n",
       "      <td>Masculino</td>\n",
       "      <td>Típico</td>\n",
       "      <td>Santa Catarina</td>\n",
       "      <td>08/10/1988</td>\n",
       "    </tr>\n",
       "    <tr>\n",
       "      <th>4</th>\n",
       "      <td>2020/01</td>\n",
       "      <td>724315</td>\n",
       "      <td>S610</td>\n",
       "      <td>2599</td>\n",
       "      <td>Não</td>\n",
       "      <td>Dedo</td>\n",
       "      <td>Masculino</td>\n",
       "      <td>Típico</td>\n",
       "      <td>Minas Gerais</td>\n",
       "      <td>10/06/1976</td>\n",
       "    </tr>\n",
       "  </tbody>\n",
       "</table>\n",
       "</div>"
      ],
      "text/plain": [
       "caracteristica dt_acidente     cbo   cid  cnae obito parte       sexo  \\\n",
       "0                  2020/01  322230  S610  9491   Não  Dedo   Feminino   \n",
       "1                  2020/01  322205  Z209  8610   Não  Dedo   Feminino   \n",
       "2                  2020/01  322205  Y289  8610   Não  Dedo  Masculino   \n",
       "3                  2020/01  314410  S610  1012   Não  Dedo  Masculino   \n",
       "4                  2020/01  724315  S610  2599   Não  Dedo  Masculino   \n",
       "\n",
       "caracteristica tipo_acidente          uf_emp     dt_nasc  \n",
       "0                     Típico       São Paulo  07/09/1977  \n",
       "1                     Típico           Ceará  27/11/1987  \n",
       "2                     Típico       São Paulo  03/01/1983  \n",
       "3                     Típico  Santa Catarina  08/10/1988  \n",
       "4                     Típico    Minas Gerais  10/06/1976  "
      ]
     },
     "execution_count": 4,
     "metadata": {},
     "output_type": "execute_result"
    }
   ],
   "source": [
    "df_cat.head()"
   ]
  },
  {
   "cell_type": "raw",
   "metadata": {},
   "source": [
    "Verificar se há campos nulos ou com valores inválidos para a análise:"
   ]
  },
  {
   "cell_type": "code",
   "execution_count": 5,
   "metadata": {},
   "outputs": [
    {
     "name": "stdout",
     "output_type": "stream",
     "text": [
      "<class 'pandas.core.frame.DataFrame'>\n",
      "RangeIndex: 274446 entries, 0 to 274445\n",
      "Data columns (total 10 columns):\n",
      " #   Column         Non-Null Count   Dtype \n",
      "---  ------         --------------   ----- \n",
      " 0   dt_acidente    274446 non-null  object\n",
      " 1   cbo            274446 non-null  int32 \n",
      " 2   cid            274446 non-null  object\n",
      " 3   cnae           274446 non-null  int32 \n",
      " 4   obito          274446 non-null  object\n",
      " 5   parte          274446 non-null  object\n",
      " 6   sexo           274446 non-null  object\n",
      " 7   tipo_acidente  274446 non-null  object\n",
      " 8   uf_emp         274446 non-null  object\n",
      " 9   dt_nasc        274323 non-null  object\n",
      "dtypes: int32(2), object(8)\n",
      "memory usage: 18.8+ MB\n"
     ]
    }
   ],
   "source": [
    "df_cat.info()"
   ]
  },
  {
   "cell_type": "raw",
   "metadata": {},
   "source": [
    "Encontramos valores nulos no campo dt_nasc. Vamos verificar, depois, se há valores inválidos também..."
   ]
  },
  {
   "cell_type": "raw",
   "metadata": {},
   "source": [
    "Seguindo com a limpeza de dados, vamos verificar se há valores inválidos (\"{ñ class}\") nas demais colunas:"
   ]
  },
  {
   "cell_type": "code",
   "execution_count": 6,
   "metadata": {},
   "outputs": [
    {
     "name": "stdout",
     "output_type": "stream",
     "text": [
      "Dados ausentes, por coluna: \n",
      "inválidos em cbo: 0\n",
      "inválidos em cid: 0\n",
      "inválidos em cnae: 0\n",
      "inválidos em obito: 0\n",
      "inválidos em parte: 449\n",
      "inválidos em sexo: 0\n",
      "inválidos em tipo_acidente: 0\n",
      "inválidos em uf_emp: 0\n",
      "inválidos em dt_nasc: 0\n"
     ]
    }
   ],
   "source": [
    "fprocess.verificarStrInvalida(df_cat, ['cbo', 'cid', 'cnae', 'obito', 'parte', 'sexo', 'tipo_acidente', 'uf_emp', 'dt_nasc'],\n",
    "                              '{ñ class}')"
   ]
  },
  {
   "cell_type": "raw",
   "metadata": {},
   "source": [
    "Vamos adotar estratégias diferentes para resolver o problema de valores nulos/inválidos, de acordo com a coluna.\n",
    "Para a coluna \"parte\", não há uma forma razoável de preencher esses valores, então, dependendo da quantidade de registros com esse campo inválido, podemos optar por apagar os registros correspondentes ou deixá-los para uma análise posterior. \n",
    "Já a coluna \"dt_nasc\" posteriormente, de outra forma...  \n",
    "\n",
    "O campo dt_acidente deveria conter apenas caracteres numéricos ou '/'. Vamos verificar..."
   ]
  },
  {
   "cell_type": "code",
   "execution_count": 7,
   "metadata": {},
   "outputs": [
    {
     "name": "stdout",
     "output_type": "stream",
     "text": [
      "Qtde de registros com dt_acidente fora do padrão: 7\n"
     ]
    }
   ],
   "source": [
    "condicao = df_cat['dt_acidente'].str.match('^[0-9/]+$') == False\n",
    "df_itensInvalidos = df_cat[condicao].copy()\n",
    "print('Qtde de registros com dt_acidente fora do padrão: {}'.format(df_itensInvalidos.shape[0]))"
   ]
  },
  {
   "cell_type": "raw",
   "metadata": {},
   "source": [
    "Como a dt_acidente se trata de um campo importante na análise em questão, é preferível excluir os registros com um valor\n",
    "inválido neste campo:"
   ]
  },
  {
   "cell_type": "code",
   "execution_count": 8,
   "metadata": {},
   "outputs": [
    {
     "name": "stdout",
     "output_type": "stream",
     "text": [
      "Qtde de registros que sobraram: 274439\n"
     ]
    }
   ],
   "source": [
    "df_cat.drop(df_itensInvalidos.index, inplace=True)\n",
    "print('Qtde de registros que sobraram: {}'.format(df_cat.shape[0]))  #274439"
   ]
  },
  {
   "cell_type": "raw",
   "metadata": {},
   "source": [
    "Vamos criar uma coluna \"idade\", derivada de \"dt_nasc\", para auxiliar na análise das idades dos trabalhadores:"
   ]
  },
  {
   "cell_type": "code",
   "execution_count": 9,
   "metadata": {},
   "outputs": [],
   "source": [
    "df_cat.fillna(0, inplace = True)\n",
    "df_cat['idade']= df_cat.apply(lambda row: fprocess.calcularIdade(row.dt_nasc,row.dt_acidente), axis = 1)"
   ]
  },
  {
   "cell_type": "code",
   "execution_count": 10,
   "metadata": {},
   "outputs": [
    {
     "data": {
      "text/html": [
       "<div>\n",
       "<style scoped>\n",
       "    .dataframe tbody tr th:only-of-type {\n",
       "        vertical-align: middle;\n",
       "    }\n",
       "\n",
       "    .dataframe tbody tr th {\n",
       "        vertical-align: top;\n",
       "    }\n",
       "\n",
       "    .dataframe thead th {\n",
       "        text-align: right;\n",
       "    }\n",
       "</style>\n",
       "<table border=\"1\" class=\"dataframe\">\n",
       "  <thead>\n",
       "    <tr style=\"text-align: right;\">\n",
       "      <th>caracteristica</th>\n",
       "      <th>dt_acidente</th>\n",
       "      <th>cbo</th>\n",
       "      <th>cid</th>\n",
       "      <th>cnae</th>\n",
       "      <th>obito</th>\n",
       "      <th>parte</th>\n",
       "      <th>sexo</th>\n",
       "      <th>tipo_acidente</th>\n",
       "      <th>uf_emp</th>\n",
       "      <th>dt_nasc</th>\n",
       "      <th>idade</th>\n",
       "    </tr>\n",
       "  </thead>\n",
       "  <tbody>\n",
       "    <tr>\n",
       "      <th>0</th>\n",
       "      <td>2020/01</td>\n",
       "      <td>322230</td>\n",
       "      <td>S610</td>\n",
       "      <td>9491</td>\n",
       "      <td>Não</td>\n",
       "      <td>Dedo</td>\n",
       "      <td>Feminino</td>\n",
       "      <td>Típico</td>\n",
       "      <td>São Paulo</td>\n",
       "      <td>07/09/1977</td>\n",
       "      <td>42.0</td>\n",
       "    </tr>\n",
       "    <tr>\n",
       "      <th>1</th>\n",
       "      <td>2020/01</td>\n",
       "      <td>322205</td>\n",
       "      <td>Z209</td>\n",
       "      <td>8610</td>\n",
       "      <td>Não</td>\n",
       "      <td>Dedo</td>\n",
       "      <td>Feminino</td>\n",
       "      <td>Típico</td>\n",
       "      <td>Ceará</td>\n",
       "      <td>27/11/1987</td>\n",
       "      <td>32.0</td>\n",
       "    </tr>\n",
       "    <tr>\n",
       "      <th>2</th>\n",
       "      <td>2020/01</td>\n",
       "      <td>322205</td>\n",
       "      <td>Y289</td>\n",
       "      <td>8610</td>\n",
       "      <td>Não</td>\n",
       "      <td>Dedo</td>\n",
       "      <td>Masculino</td>\n",
       "      <td>Típico</td>\n",
       "      <td>São Paulo</td>\n",
       "      <td>03/01/1983</td>\n",
       "      <td>36.0</td>\n",
       "    </tr>\n",
       "    <tr>\n",
       "      <th>3</th>\n",
       "      <td>2020/01</td>\n",
       "      <td>314410</td>\n",
       "      <td>S610</td>\n",
       "      <td>1012</td>\n",
       "      <td>Não</td>\n",
       "      <td>Dedo</td>\n",
       "      <td>Masculino</td>\n",
       "      <td>Típico</td>\n",
       "      <td>Santa Catarina</td>\n",
       "      <td>08/10/1988</td>\n",
       "      <td>31.0</td>\n",
       "    </tr>\n",
       "    <tr>\n",
       "      <th>4</th>\n",
       "      <td>2020/01</td>\n",
       "      <td>724315</td>\n",
       "      <td>S610</td>\n",
       "      <td>2599</td>\n",
       "      <td>Não</td>\n",
       "      <td>Dedo</td>\n",
       "      <td>Masculino</td>\n",
       "      <td>Típico</td>\n",
       "      <td>Minas Gerais</td>\n",
       "      <td>10/06/1976</td>\n",
       "      <td>43.0</td>\n",
       "    </tr>\n",
       "  </tbody>\n",
       "</table>\n",
       "</div>"
      ],
      "text/plain": [
       "caracteristica dt_acidente     cbo   cid  cnae obito parte       sexo  \\\n",
       "0                  2020/01  322230  S610  9491   Não  Dedo   Feminino   \n",
       "1                  2020/01  322205  Z209  8610   Não  Dedo   Feminino   \n",
       "2                  2020/01  322205  Y289  8610   Não  Dedo  Masculino   \n",
       "3                  2020/01  314410  S610  1012   Não  Dedo  Masculino   \n",
       "4                  2020/01  724315  S610  2599   Não  Dedo  Masculino   \n",
       "\n",
       "caracteristica tipo_acidente          uf_emp     dt_nasc  idade  \n",
       "0                     Típico       São Paulo  07/09/1977   42.0  \n",
       "1                     Típico           Ceará  27/11/1987   32.0  \n",
       "2                     Típico       São Paulo  03/01/1983   36.0  \n",
       "3                     Típico  Santa Catarina  08/10/1988   31.0  \n",
       "4                     Típico    Minas Gerais  10/06/1976   43.0  "
      ]
     },
     "execution_count": 10,
     "metadata": {},
     "output_type": "execute_result"
    }
   ],
   "source": [
    "df_cat.head()"
   ]
  },
  {
   "cell_type": "raw",
   "metadata": {},
   "source": [
    "Verificar se há registros com valor nulo na coluna \"idade\" (caso o cálculo da idade não tenha sido possível, por causa\n",
    "de valores inválidos na coluna \"dt_nasc\"):"
   ]
  },
  {
   "cell_type": "code",
   "execution_count": 11,
   "metadata": {},
   "outputs": [
    {
     "name": "stdout",
     "output_type": "stream",
     "text": [
      "Qtde de registros com valor nulo de idade: 171\n"
     ]
    }
   ],
   "source": [
    "nulos = df_cat[df_cat['idade'].isnull()].shape[0]\n",
    "print('Qtde de registros com valor nulo de idade: {}'.format(nulos))  #171"
   ]
  },
  {
   "cell_type": "code",
   "execution_count": 12,
   "metadata": {},
   "outputs": [
    {
     "data": {
      "text/html": [
       "<div>\n",
       "<style scoped>\n",
       "    .dataframe tbody tr th:only-of-type {\n",
       "        vertical-align: middle;\n",
       "    }\n",
       "\n",
       "    .dataframe tbody tr th {\n",
       "        vertical-align: top;\n",
       "    }\n",
       "\n",
       "    .dataframe thead th {\n",
       "        text-align: right;\n",
       "    }\n",
       "</style>\n",
       "<table border=\"1\" class=\"dataframe\">\n",
       "  <thead>\n",
       "    <tr style=\"text-align: right;\">\n",
       "      <th>caracteristica</th>\n",
       "      <th>dt_acidente</th>\n",
       "      <th>cbo</th>\n",
       "      <th>cid</th>\n",
       "      <th>cnae</th>\n",
       "      <th>obito</th>\n",
       "      <th>parte</th>\n",
       "      <th>sexo</th>\n",
       "      <th>tipo_acidente</th>\n",
       "      <th>uf_emp</th>\n",
       "      <th>dt_nasc</th>\n",
       "      <th>idade</th>\n",
       "    </tr>\n",
       "  </thead>\n",
       "  <tbody>\n",
       "    <tr>\n",
       "      <th>365</th>\n",
       "      <td>2020/01</td>\n",
       "      <td>223505</td>\n",
       "      <td>Z209</td>\n",
       "      <td>8610</td>\n",
       "      <td>Não</td>\n",
       "      <td>Face, Partes Multipl</td>\n",
       "      <td>Não Informado</td>\n",
       "      <td>Típico</td>\n",
       "      <td>São Paulo</td>\n",
       "      <td>00/00/0000</td>\n",
       "      <td>NaN</td>\n",
       "    </tr>\n",
       "    <tr>\n",
       "      <th>488</th>\n",
       "      <td>2020/01</td>\n",
       "      <td>322205</td>\n",
       "      <td>Y699</td>\n",
       "      <td>8610</td>\n",
       "      <td>Não</td>\n",
       "      <td>Olho (Inclusive Nerv</td>\n",
       "      <td>Não Informado</td>\n",
       "      <td>Típico</td>\n",
       "      <td>Goiás</td>\n",
       "      <td>00/00/0000</td>\n",
       "      <td>NaN</td>\n",
       "    </tr>\n",
       "    <tr>\n",
       "      <th>2486</th>\n",
       "      <td>2020/01</td>\n",
       "      <td>514320</td>\n",
       "      <td>S434</td>\n",
       "      <td>5611</td>\n",
       "      <td>Não</td>\n",
       "      <td>Ombro</td>\n",
       "      <td>Não Informado</td>\n",
       "      <td>Típico</td>\n",
       "      <td>São Paulo</td>\n",
       "      <td>00/00/0000</td>\n",
       "      <td>NaN</td>\n",
       "    </tr>\n",
       "    <tr>\n",
       "      <th>6045</th>\n",
       "      <td>2020/01</td>\n",
       "      <td>784205</td>\n",
       "      <td>S681</td>\n",
       "      <td>3299</td>\n",
       "      <td>Não</td>\n",
       "      <td>Dedo</td>\n",
       "      <td>Não Informado</td>\n",
       "      <td>Típico</td>\n",
       "      <td>São Paulo</td>\n",
       "      <td>00/00/0000</td>\n",
       "      <td>NaN</td>\n",
       "    </tr>\n",
       "    <tr>\n",
       "      <th>6391</th>\n",
       "      <td>2020/01</td>\n",
       "      <td>324205</td>\n",
       "      <td>Y881</td>\n",
       "      <td>8640</td>\n",
       "      <td>Não</td>\n",
       "      <td>Mao (Exceto Punho ou</td>\n",
       "      <td>Não Informado</td>\n",
       "      <td>Típico</td>\n",
       "      <td>São Paulo</td>\n",
       "      <td>00/00/0000</td>\n",
       "      <td>NaN</td>\n",
       "    </tr>\n",
       "  </tbody>\n",
       "</table>\n",
       "</div>"
      ],
      "text/plain": [
       "caracteristica dt_acidente     cbo   cid  cnae obito                 parte  \\\n",
       "365                2020/01  223505  Z209  8610   Não  Face, Partes Multipl   \n",
       "488                2020/01  322205  Y699  8610   Não  Olho (Inclusive Nerv   \n",
       "2486               2020/01  514320  S434  5611   Não                 Ombro   \n",
       "6045               2020/01  784205  S681  3299   Não                  Dedo   \n",
       "6391               2020/01  324205  Y881  8640   Não  Mao (Exceto Punho ou   \n",
       "\n",
       "caracteristica           sexo tipo_acidente     uf_emp     dt_nasc  idade  \n",
       "365             Não Informado        Típico  São Paulo  00/00/0000    NaN  \n",
       "488             Não Informado        Típico      Goiás  00/00/0000    NaN  \n",
       "2486            Não Informado        Típico  São Paulo  00/00/0000    NaN  \n",
       "6045            Não Informado        Típico  São Paulo  00/00/0000    NaN  \n",
       "6391            Não Informado        Típico  São Paulo  00/00/0000    NaN  "
      ]
     },
     "execution_count": 12,
     "metadata": {},
     "output_type": "execute_result"
    }
   ],
   "source": [
    "#Verificando o que há nesses registros em que não foi possível calcular a idade...\n",
    "df_cat[df_cat['idade'].isnull()].head()"
   ]
  },
  {
   "cell_type": "raw",
   "metadata": {},
   "source": [
    "Para resolver esse problema de registros com valores nulos na coluna \"idade\", podemos substituir esses valores nulos \n",
    "pela média de idade dos registros desse arquivo. Dessa forma, o registro não é perdido e o valor usado não fica fora \n",
    "da faixa, nem altera muito nossa análise final.\n",
    "\n",
    "Qual será a média de idade dos registros desse arquivo?"
   ]
  },
  {
   "cell_type": "code",
   "execution_count": 13,
   "metadata": {},
   "outputs": [
    {
     "name": "stdout",
     "output_type": "stream",
     "text": [
      "Média de idade dos registros = 35\n"
     ]
    }
   ],
   "source": [
    "mediaIdades = math.floor(df_cat['idade'].mean())\n",
    "print('Média de idade dos registros = {}'.format(mediaIdades))"
   ]
  },
  {
   "cell_type": "raw",
   "metadata": {},
   "source": [
    "Substituindo os valores nulos na coluna \"idade\" pela média e verificando novamente o estado dos campos do dataFrame..."
   ]
  },
  {
   "cell_type": "code",
   "execution_count": 14,
   "metadata": {},
   "outputs": [
    {
     "data": {
      "text/plain": [
       "caracteristica\n",
       "dt_acidente      0\n",
       "cbo              0\n",
       "cid              0\n",
       "cnae             0\n",
       "obito            0\n",
       "parte            0\n",
       "sexo             0\n",
       "tipo_acidente    0\n",
       "uf_emp           0\n",
       "dt_nasc          0\n",
       "idade            0\n",
       "dtype: int64"
      ]
     },
     "execution_count": 14,
     "metadata": {},
     "output_type": "execute_result"
    }
   ],
   "source": [
    "df_cat.fillna(mediaIdades, inplace=True)\n",
    "\n",
    "df_cat.isnull().sum()"
   ]
  },
  {
   "cell_type": "code",
   "execution_count": 15,
   "metadata": {},
   "outputs": [
    {
     "data": {
      "text/html": [
       "<div>\n",
       "<style scoped>\n",
       "    .dataframe tbody tr th:only-of-type {\n",
       "        vertical-align: middle;\n",
       "    }\n",
       "\n",
       "    .dataframe tbody tr th {\n",
       "        vertical-align: top;\n",
       "    }\n",
       "\n",
       "    .dataframe thead th {\n",
       "        text-align: right;\n",
       "    }\n",
       "</style>\n",
       "<table border=\"1\" class=\"dataframe\">\n",
       "  <thead>\n",
       "    <tr style=\"text-align: right;\">\n",
       "      <th>caracteristica</th>\n",
       "      <th>cbo</th>\n",
       "      <th>cid</th>\n",
       "      <th>cnae</th>\n",
       "      <th>obito</th>\n",
       "      <th>parte</th>\n",
       "      <th>sexo</th>\n",
       "      <th>tipo_acidente</th>\n",
       "      <th>uf_emp</th>\n",
       "      <th>dt_nasc</th>\n",
       "      <th>idade</th>\n",
       "      <th>anoMes</th>\n",
       "    </tr>\n",
       "  </thead>\n",
       "  <tbody>\n",
       "    <tr>\n",
       "      <th>0</th>\n",
       "      <td>322230</td>\n",
       "      <td>S610</td>\n",
       "      <td>9491</td>\n",
       "      <td>Não</td>\n",
       "      <td>Dedo</td>\n",
       "      <td>Feminino</td>\n",
       "      <td>Típico</td>\n",
       "      <td>São Paulo</td>\n",
       "      <td>07/09/1977</td>\n",
       "      <td>42.0</td>\n",
       "      <td>202001</td>\n",
       "    </tr>\n",
       "    <tr>\n",
       "      <th>1</th>\n",
       "      <td>322205</td>\n",
       "      <td>Z209</td>\n",
       "      <td>8610</td>\n",
       "      <td>Não</td>\n",
       "      <td>Dedo</td>\n",
       "      <td>Feminino</td>\n",
       "      <td>Típico</td>\n",
       "      <td>Ceará</td>\n",
       "      <td>27/11/1987</td>\n",
       "      <td>32.0</td>\n",
       "      <td>202001</td>\n",
       "    </tr>\n",
       "    <tr>\n",
       "      <th>2</th>\n",
       "      <td>322205</td>\n",
       "      <td>Y289</td>\n",
       "      <td>8610</td>\n",
       "      <td>Não</td>\n",
       "      <td>Dedo</td>\n",
       "      <td>Masculino</td>\n",
       "      <td>Típico</td>\n",
       "      <td>São Paulo</td>\n",
       "      <td>03/01/1983</td>\n",
       "      <td>36.0</td>\n",
       "      <td>202001</td>\n",
       "    </tr>\n",
       "    <tr>\n",
       "      <th>3</th>\n",
       "      <td>314410</td>\n",
       "      <td>S610</td>\n",
       "      <td>1012</td>\n",
       "      <td>Não</td>\n",
       "      <td>Dedo</td>\n",
       "      <td>Masculino</td>\n",
       "      <td>Típico</td>\n",
       "      <td>Santa Catarina</td>\n",
       "      <td>08/10/1988</td>\n",
       "      <td>31.0</td>\n",
       "      <td>202001</td>\n",
       "    </tr>\n",
       "    <tr>\n",
       "      <th>4</th>\n",
       "      <td>724315</td>\n",
       "      <td>S610</td>\n",
       "      <td>2599</td>\n",
       "      <td>Não</td>\n",
       "      <td>Dedo</td>\n",
       "      <td>Masculino</td>\n",
       "      <td>Típico</td>\n",
       "      <td>Minas Gerais</td>\n",
       "      <td>10/06/1976</td>\n",
       "      <td>43.0</td>\n",
       "      <td>202001</td>\n",
       "    </tr>\n",
       "  </tbody>\n",
       "</table>\n",
       "</div>"
      ],
      "text/plain": [
       "caracteristica     cbo   cid  cnae obito parte       sexo tipo_acidente  \\\n",
       "0               322230  S610  9491   Não  Dedo   Feminino        Típico   \n",
       "1               322205  Z209  8610   Não  Dedo   Feminino        Típico   \n",
       "2               322205  Y289  8610   Não  Dedo  Masculino        Típico   \n",
       "3               314410  S610  1012   Não  Dedo  Masculino        Típico   \n",
       "4               724315  S610  2599   Não  Dedo  Masculino        Típico   \n",
       "\n",
       "caracteristica          uf_emp     dt_nasc  idade  anoMes  \n",
       "0                    São Paulo  07/09/1977   42.0  202001  \n",
       "1                        Ceará  27/11/1987   32.0  202001  \n",
       "2                    São Paulo  03/01/1983   36.0  202001  \n",
       "3               Santa Catarina  08/10/1988   31.0  202001  \n",
       "4                 Minas Gerais  10/06/1976   43.0  202001  "
      ]
     },
     "execution_count": 15,
     "metadata": {},
     "output_type": "execute_result"
    }
   ],
   "source": [
    "'''Não precisamos da data exata do acidente, apenas do mês e do ano, então podemos manipular a columa dt_acidente \n",
    "para obter uma nova coluna anoMes e, depois apagar a primeira (dt_acidente)'''\n",
    "\n",
    "df_cat['anoMes'] = df_cat['dt_acidente'].apply(lambda x: fprocess.calcularAnoMes(x))\n",
    "df_cat.drop(['dt_acidente'], axis=1, inplace = True)\n",
    "df_cat.head()"
   ]
  },
  {
   "cell_type": "raw",
   "metadata": {},
   "source": [
    "Verificando se há valores com caracteres que não sejam numéricos na coluna anoMes:"
   ]
  },
  {
   "cell_type": "code",
   "execution_count": 16,
   "metadata": {},
   "outputs": [
    {
     "name": "stdout",
     "output_type": "stream",
     "text": [
      "Qtde de registros apagados: 0\n"
     ]
    }
   ],
   "source": [
    "condicao = df_cat['anoMes'].str.match('^[0-9]+$') == False\n",
    "df_itensInvalidos = df_cat[condicao].copy()\n",
    "print('Qtde de registros com anoMes inválido: {}'.format(df_itensInvalidos.index.shape[0]))"
   ]
  },
  {
   "cell_type": "code",
   "execution_count": null,
   "metadata": {},
   "outputs": [],
   "source": [
    "#apagando os registros com anoMes inválido, se houverem:\n",
    "df_cat.drop(df_itensInvalidos.index, inplace=True)\n",
    "print('Qtde de registros que sobraram: {}'.format(df_cat.shape[0]))"
   ]
  },
  {
   "cell_type": "code",
   "execution_count": 17,
   "metadata": {},
   "outputs": [
    {
     "data": {
      "text/html": [
       "<div>\n",
       "<style scoped>\n",
       "    .dataframe tbody tr th:only-of-type {\n",
       "        vertical-align: middle;\n",
       "    }\n",
       "\n",
       "    .dataframe tbody tr th {\n",
       "        vertical-align: top;\n",
       "    }\n",
       "\n",
       "    .dataframe thead th {\n",
       "        text-align: right;\n",
       "    }\n",
       "</style>\n",
       "<table border=\"1\" class=\"dataframe\">\n",
       "  <thead>\n",
       "    <tr style=\"text-align: right;\">\n",
       "      <th>caracteristica</th>\n",
       "      <th>cbo</th>\n",
       "      <th>cid</th>\n",
       "      <th>cnae</th>\n",
       "      <th>obito</th>\n",
       "      <th>parte</th>\n",
       "      <th>sexo</th>\n",
       "      <th>tipo_acidente</th>\n",
       "      <th>uf_emp</th>\n",
       "      <th>dt_nasc</th>\n",
       "      <th>idade</th>\n",
       "      <th>anoMes</th>\n",
       "    </tr>\n",
       "  </thead>\n",
       "  <tbody>\n",
       "    <tr>\n",
       "      <th>0</th>\n",
       "      <td>322230</td>\n",
       "      <td>S610</td>\n",
       "      <td>9491</td>\n",
       "      <td>Não</td>\n",
       "      <td>Dedo</td>\n",
       "      <td>Feminino</td>\n",
       "      <td>Típico</td>\n",
       "      <td>São Paulo</td>\n",
       "      <td>07/09/1977</td>\n",
       "      <td>42.0</td>\n",
       "      <td>202001</td>\n",
       "    </tr>\n",
       "    <tr>\n",
       "      <th>1</th>\n",
       "      <td>322205</td>\n",
       "      <td>Z209</td>\n",
       "      <td>8610</td>\n",
       "      <td>Não</td>\n",
       "      <td>Dedo</td>\n",
       "      <td>Feminino</td>\n",
       "      <td>Típico</td>\n",
       "      <td>Ceará</td>\n",
       "      <td>27/11/1987</td>\n",
       "      <td>32.0</td>\n",
       "      <td>202001</td>\n",
       "    </tr>\n",
       "    <tr>\n",
       "      <th>2</th>\n",
       "      <td>322205</td>\n",
       "      <td>Y289</td>\n",
       "      <td>8610</td>\n",
       "      <td>Não</td>\n",
       "      <td>Dedo</td>\n",
       "      <td>Masculino</td>\n",
       "      <td>Típico</td>\n",
       "      <td>São Paulo</td>\n",
       "      <td>03/01/1983</td>\n",
       "      <td>36.0</td>\n",
       "      <td>202001</td>\n",
       "    </tr>\n",
       "    <tr>\n",
       "      <th>3</th>\n",
       "      <td>314410</td>\n",
       "      <td>S610</td>\n",
       "      <td>1012</td>\n",
       "      <td>Não</td>\n",
       "      <td>Dedo</td>\n",
       "      <td>Masculino</td>\n",
       "      <td>Típico</td>\n",
       "      <td>Santa Catarina</td>\n",
       "      <td>08/10/1988</td>\n",
       "      <td>31.0</td>\n",
       "      <td>202001</td>\n",
       "    </tr>\n",
       "    <tr>\n",
       "      <th>4</th>\n",
       "      <td>724315</td>\n",
       "      <td>S610</td>\n",
       "      <td>2599</td>\n",
       "      <td>Não</td>\n",
       "      <td>Dedo</td>\n",
       "      <td>Masculino</td>\n",
       "      <td>Típico</td>\n",
       "      <td>Minas Gerais</td>\n",
       "      <td>10/06/1976</td>\n",
       "      <td>43.0</td>\n",
       "      <td>202001</td>\n",
       "    </tr>\n",
       "  </tbody>\n",
       "</table>\n",
       "</div>"
      ],
      "text/plain": [
       "caracteristica     cbo   cid  cnae obito parte       sexo tipo_acidente  \\\n",
       "0               322230  S610  9491   Não  Dedo   Feminino        Típico   \n",
       "1               322205  Z209  8610   Não  Dedo   Feminino        Típico   \n",
       "2               322205  Y289  8610   Não  Dedo  Masculino        Típico   \n",
       "3               314410  S610  1012   Não  Dedo  Masculino        Típico   \n",
       "4               724315  S610  2599   Não  Dedo  Masculino        Típico   \n",
       "\n",
       "caracteristica          uf_emp     dt_nasc  idade  anoMes  \n",
       "0                    São Paulo  07/09/1977   42.0  202001  \n",
       "1                        Ceará  27/11/1987   32.0  202001  \n",
       "2                    São Paulo  03/01/1983   36.0  202001  \n",
       "3               Santa Catarina  08/10/1988   31.0  202001  \n",
       "4                 Minas Gerais  10/06/1976   43.0  202001  "
      ]
     },
     "execution_count": 17,
     "metadata": {},
     "output_type": "execute_result"
    }
   ],
   "source": [
    "#ordenando novamente os índices do dataFrame\n",
    "df_cat.index = range(df_cat.shape[0])\n",
    "df_cat.head()"
   ]
  },
  {
   "cell_type": "code",
   "execution_count": 18,
   "metadata": {},
   "outputs": [
    {
     "data": {
      "text/html": [
       "<div>\n",
       "<style scoped>\n",
       "    .dataframe tbody tr th:only-of-type {\n",
       "        vertical-align: middle;\n",
       "    }\n",
       "\n",
       "    .dataframe tbody tr th {\n",
       "        vertical-align: top;\n",
       "    }\n",
       "\n",
       "    .dataframe thead th {\n",
       "        text-align: right;\n",
       "    }\n",
       "</style>\n",
       "<table border=\"1\" class=\"dataframe\">\n",
       "  <thead>\n",
       "    <tr style=\"text-align: right;\">\n",
       "      <th>caracteristica</th>\n",
       "      <th>cbo</th>\n",
       "      <th>cid</th>\n",
       "      <th>cnae</th>\n",
       "      <th>obito</th>\n",
       "      <th>parte</th>\n",
       "      <th>sexo</th>\n",
       "      <th>tipo_acidente</th>\n",
       "      <th>uf_emp</th>\n",
       "      <th>idade</th>\n",
       "      <th>anoMes</th>\n",
       "    </tr>\n",
       "  </thead>\n",
       "  <tbody>\n",
       "    <tr>\n",
       "      <th>0</th>\n",
       "      <td>322230</td>\n",
       "      <td>S610</td>\n",
       "      <td>9491</td>\n",
       "      <td>Não</td>\n",
       "      <td>Dedo</td>\n",
       "      <td>Feminino</td>\n",
       "      <td>Típico</td>\n",
       "      <td>São Paulo</td>\n",
       "      <td>42.0</td>\n",
       "      <td>202001</td>\n",
       "    </tr>\n",
       "    <tr>\n",
       "      <th>1</th>\n",
       "      <td>322205</td>\n",
       "      <td>Z209</td>\n",
       "      <td>8610</td>\n",
       "      <td>Não</td>\n",
       "      <td>Dedo</td>\n",
       "      <td>Feminino</td>\n",
       "      <td>Típico</td>\n",
       "      <td>Ceará</td>\n",
       "      <td>32.0</td>\n",
       "      <td>202001</td>\n",
       "    </tr>\n",
       "    <tr>\n",
       "      <th>2</th>\n",
       "      <td>322205</td>\n",
       "      <td>Y289</td>\n",
       "      <td>8610</td>\n",
       "      <td>Não</td>\n",
       "      <td>Dedo</td>\n",
       "      <td>Masculino</td>\n",
       "      <td>Típico</td>\n",
       "      <td>São Paulo</td>\n",
       "      <td>36.0</td>\n",
       "      <td>202001</td>\n",
       "    </tr>\n",
       "    <tr>\n",
       "      <th>3</th>\n",
       "      <td>314410</td>\n",
       "      <td>S610</td>\n",
       "      <td>1012</td>\n",
       "      <td>Não</td>\n",
       "      <td>Dedo</td>\n",
       "      <td>Masculino</td>\n",
       "      <td>Típico</td>\n",
       "      <td>Santa Catarina</td>\n",
       "      <td>31.0</td>\n",
       "      <td>202001</td>\n",
       "    </tr>\n",
       "    <tr>\n",
       "      <th>4</th>\n",
       "      <td>724315</td>\n",
       "      <td>S610</td>\n",
       "      <td>2599</td>\n",
       "      <td>Não</td>\n",
       "      <td>Dedo</td>\n",
       "      <td>Masculino</td>\n",
       "      <td>Típico</td>\n",
       "      <td>Minas Gerais</td>\n",
       "      <td>43.0</td>\n",
       "      <td>202001</td>\n",
       "    </tr>\n",
       "  </tbody>\n",
       "</table>\n",
       "</div>"
      ],
      "text/plain": [
       "caracteristica     cbo   cid  cnae obito parte       sexo tipo_acidente  \\\n",
       "0               322230  S610  9491   Não  Dedo   Feminino        Típico   \n",
       "1               322205  Z209  8610   Não  Dedo   Feminino        Típico   \n",
       "2               322205  Y289  8610   Não  Dedo  Masculino        Típico   \n",
       "3               314410  S610  1012   Não  Dedo  Masculino        Típico   \n",
       "4               724315  S610  2599   Não  Dedo  Masculino        Típico   \n",
       "\n",
       "caracteristica          uf_emp  idade  anoMes  \n",
       "0                    São Paulo   42.0  202001  \n",
       "1                        Ceará   32.0  202001  \n",
       "2                    São Paulo   36.0  202001  \n",
       "3               Santa Catarina   31.0  202001  \n",
       "4                 Minas Gerais   43.0  202001  "
      ]
     },
     "execution_count": 18,
     "metadata": {},
     "output_type": "execute_result"
    }
   ],
   "source": [
    "#apagando a coluna \"dt_nasc\", que não é mais necessária\n",
    "df_cat.drop(['dt_nasc'], axis=1, inplace = True)\n",
    "df_cat.head()"
   ]
  },
  {
   "cell_type": "code",
   "execution_count": 19,
   "metadata": {},
   "outputs": [
    {
     "data": {
      "text/plain": [
       "274414"
      ]
     },
     "execution_count": 19,
     "metadata": {},
     "output_type": "execute_result"
    }
   ],
   "source": [
    "#separando os acidentes que aconteceram em 2019 dos que aconteceram em 2018:\n",
    "condicao2020 = df_cat['anoMes'].str.match('^2020[0-9]+') == True\n",
    "df_cat2020 = df_cat[condicao2020].copy()\n",
    "df_cat2020.shape[0] #deverá ser igual a 273965"
   ]
  },
  {
   "cell_type": "code",
   "execution_count": 20,
   "metadata": {},
   "outputs": [
    {
     "data": {
      "text/plain": [
       "25"
      ]
     },
     "execution_count": 20,
     "metadata": {},
     "output_type": "execute_result"
    }
   ],
   "source": [
    "condicao2019 = df_cat['anoMes'].str.match('^2019[0-9]+') == True\n",
    "df_cat2019 = df_cat[condicao2019].copy()\n",
    "df_cat2019.shape[0] #deverá ser igual a 25"
   ]
  },
  {
   "cell_type": "code",
   "execution_count": 21,
   "metadata": {},
   "outputs": [],
   "source": [
    "df_cat2020.to_csv(nomeArquivoResult2020, sep = ';', index=False, encoding='utf-8')"
   ]
  },
  {
   "cell_type": "code",
   "execution_count": 22,
   "metadata": {},
   "outputs": [],
   "source": [
    "if(df_cat2019.shape[0] > 0):\n",
    "    df_cat2019.to_csv(nomeArquivoResult2019, sep = ';', index=False, encoding='UTF-8')"
   ]
  }
 ],
 "metadata": {
  "kernelspec": {
   "display_name": "Python 3",
   "language": "python",
   "name": "python3"
  },
  "language_info": {
   "codemirror_mode": {
    "name": "ipython",
    "version": 3
   },
   "file_extension": ".py",
   "mimetype": "text/x-python",
   "name": "python",
   "nbconvert_exporter": "python",
   "pygments_lexer": "ipython3",
   "version": "3.8.3"
  }
 },
 "nbformat": 4,
 "nbformat_minor": 4
}
