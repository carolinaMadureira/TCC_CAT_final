{
 "cells": [
  {
   "cell_type": "code",
   "execution_count": 1,
   "metadata": {},
   "outputs": [],
   "source": [
    "import numpy as np\n",
    "import pandas as pd\n"
   ]
  },
  {
   "cell_type": "code",
   "execution_count": 2,
   "metadata": {},
   "outputs": [],
   "source": [
    "nomeArquivoAntigos = 'datasets/result/dados_UF_MPS_totalAno.csv'\n",
    "nomeArquivo2018 = 'datasets/result/2018/dados_uf_2018.csv'\n",
    "nomeArquivo2019 = 'datasets/result/2019/dados_uf_2019.csv'\n",
    "nomeArquivo2020 = 'datasets/result/2020/dados_uf_2020.csv'\n",
    "nomeArquivoUFSomaAno = 'datasets/result/dados_uf_ano_soma.csv'  # uf | ano | qtde\n",
    "nomeArquivoUFSomaTotal = 'datasets/result/dados_uf_total.csv'   # uf | qtde\n",
    "nomeArquivoUFSomaAnoTop = 'datasets/result/dados_uf_ano_soma_top.csv'   # uf | ano| qtde  somente das 5 UFs com maior qtde de cat\n",
    "nomeArquivoUFSomaTop = 'datasets/result/dados_uf_soma_top.csv'   # uf | qtde  somente das 5 UFs com maior qtde de cat"
   ]
  },
  {
   "cell_type": "code",
   "execution_count": 3,
   "metadata": {},
   "outputs": [
    {
     "name": "stdout",
     "output_type": "stream",
     "text": [
      "<class 'pandas.core.frame.DataFrame'>\n",
      "Int64Index: 816 entries, 0 to 815\n",
      "Data columns (total 3 columns):\n",
      " #   Column  Non-Null Count  Dtype \n",
      "---  ------  --------------  ----- \n",
      " 0   uf      816 non-null    object\n",
      " 1   ano     816 non-null    int64 \n",
      " 2   qtde    816 non-null    int64 \n",
      "dtypes: int64(2), object(1)\n",
      "memory usage: 25.5+ KB\n"
     ]
    }
   ],
   "source": [
    "columns_types = {'uf': str, 'ano': str, 'qtde': str}\n",
    "nomes  = ['uf', 'ano', 'qtde']\n",
    "\n",
    "dados_antigos = pd.read_csv(nomeArquivoAntigos, sep = ';', header=0, names=nomes, dtype=columns_types, encoding='utf-8')\n",
    "\n",
    "df_antigo = pd.DataFrame(data = dados_antigos, columns=nomes)\n",
    "df_antigo.shape[0] #816\n",
    "\n",
    "df_antigo['ano'] = df_antigo['ano'].apply(pd.to_numeric)\n",
    "df_antigo['qtde'] = df_antigo['qtde'].apply(pd.to_numeric)\n",
    "df_antigo.info()"
   ]
  },
  {
   "cell_type": "code",
   "execution_count": 4,
   "metadata": {},
   "outputs": [
    {
     "data": {
      "text/plain": [
       "27"
      ]
     },
     "execution_count": 4,
     "metadata": {},
     "output_type": "execute_result"
    }
   ],
   "source": [
    "columns_types = {'uf': str, 'qtde': str}\n",
    "nomes  = ['uf', 'qtde']\n",
    "\n",
    "dados2018 = pd.read_csv(nomeArquivo2018, sep = ';', header=0, names=nomes, dtype=columns_types, encoding='utf-8')\n",
    "\n",
    "df2018 = pd.DataFrame(data = dados2018, columns=nomes)\n",
    "df2018=df2018.assign(ano=2018)\n",
    "\n",
    "df2018['qtde'] = df2018['qtde'].apply(pd.to_numeric)\n",
    "\n",
    "df2018.shape[0] #27"
   ]
  },
  {
   "cell_type": "code",
   "execution_count": 5,
   "metadata": {},
   "outputs": [
    {
     "data": {
      "text/html": [
       "<div>\n",
       "<style scoped>\n",
       "    .dataframe tbody tr th:only-of-type {\n",
       "        vertical-align: middle;\n",
       "    }\n",
       "\n",
       "    .dataframe tbody tr th {\n",
       "        vertical-align: top;\n",
       "    }\n",
       "\n",
       "    .dataframe thead th {\n",
       "        text-align: right;\n",
       "    }\n",
       "</style>\n",
       "<table border=\"1\" class=\"dataframe\">\n",
       "  <thead>\n",
       "    <tr style=\"text-align: right;\">\n",
       "      <th></th>\n",
       "      <th>uf</th>\n",
       "      <th>qtde</th>\n",
       "      <th>ano</th>\n",
       "    </tr>\n",
       "  </thead>\n",
       "  <tbody>\n",
       "    <tr>\n",
       "      <th>0</th>\n",
       "      <td>São Paulo</td>\n",
       "      <td>177376</td>\n",
       "      <td>2019</td>\n",
       "    </tr>\n",
       "    <tr>\n",
       "      <th>1</th>\n",
       "      <td>Minas Gerais</td>\n",
       "      <td>48751</td>\n",
       "      <td>2019</td>\n",
       "    </tr>\n",
       "    <tr>\n",
       "      <th>2</th>\n",
       "      <td>Rio Grande do Sul</td>\n",
       "      <td>38714</td>\n",
       "      <td>2019</td>\n",
       "    </tr>\n",
       "    <tr>\n",
       "      <th>3</th>\n",
       "      <td>Paraná</td>\n",
       "      <td>38094</td>\n",
       "      <td>2019</td>\n",
       "    </tr>\n",
       "    <tr>\n",
       "      <th>4</th>\n",
       "      <td>Rio de Janeiro</td>\n",
       "      <td>31722</td>\n",
       "      <td>2019</td>\n",
       "    </tr>\n",
       "  </tbody>\n",
       "</table>\n",
       "</div>"
      ],
      "text/plain": [
       "                  uf    qtde   ano\n",
       "0          São Paulo  177376  2019\n",
       "1       Minas Gerais   48751  2019\n",
       "2  Rio Grande do Sul   38714  2019\n",
       "3             Paraná   38094  2019\n",
       "4     Rio de Janeiro   31722  2019"
      ]
     },
     "execution_count": 5,
     "metadata": {},
     "output_type": "execute_result"
    }
   ],
   "source": [
    "columns_types = {'uf': str, 'qtde': str}\n",
    "nomes  = ['uf', 'qtde']\n",
    "\n",
    "dados2019 = pd.read_csv(nomeArquivo2019, sep = ';', header=0, names=nomes, dtype=columns_types, encoding='utf-8')\n",
    "\n",
    "df2019 = pd.DataFrame(data = dados2019, columns=nomes)\n",
    "df2019 = df2019.assign(ano=2019)\n",
    "df2019['qtde'] = df2019['qtde'].apply(pd.to_numeric)\n",
    "\n",
    "df2019.shape[0] #27\n",
    "df2019.head()"
   ]
  },
  {
   "cell_type": "code",
   "execution_count": 6,
   "metadata": {},
   "outputs": [
    {
     "data": {
      "text/plain": [
       "27"
      ]
     },
     "execution_count": 6,
     "metadata": {},
     "output_type": "execute_result"
    }
   ],
   "source": [
    "columns_types = {'uf': str, 'qtde': str}\n",
    "nomes  = ['uf', 'qtde']\n",
    "\n",
    "dados2020 = pd.read_csv(nomeArquivo2020, sep = ';', header=0, names=nomes, dtype=columns_types, encoding='utf-8')\n",
    "\n",
    "df2020 = pd.DataFrame(data = dados2020, columns=nomes)\n",
    "df2020=df2020.assign(ano=2020)\n",
    "df2020['qtde'] = df2020['qtde'].apply(pd.to_numeric)\n",
    "\n",
    "df2020.shape[0] #27"
   ]
  },
  {
   "cell_type": "code",
   "execution_count": 7,
   "metadata": {},
   "outputs": [
    {
     "data": {
      "text/plain": [
       "870"
      ]
     },
     "execution_count": 7,
     "metadata": {},
     "output_type": "execute_result"
    }
   ],
   "source": [
    "df_result = pd.concat([df_antigo, df2018, df2019, df2020], ignore_index= True)\n",
    "# passo necessário para somar os valores de 2018 que estavam em arquivos separados\n",
    "df_result = pd.DataFrame(df_result.groupby(['uf', 'ano'], as_index=False)['qtde'].sum())\n",
    "df_result.index = range(df_result.shape[0])\n",
    "df_result.shape[0] #870"
   ]
  },
  {
   "cell_type": "code",
   "execution_count": 8,
   "metadata": {},
   "outputs": [],
   "source": [
    "df_result.to_csv(nomeArquivoUFSomaAno, sep = ';', index=False, encoding='UTF-8')"
   ]
  },
  {
   "cell_type": "code",
   "execution_count": 9,
   "metadata": {},
   "outputs": [
    {
     "data": {
      "text/html": [
       "<div>\n",
       "<style scoped>\n",
       "    .dataframe tbody tr th:only-of-type {\n",
       "        vertical-align: middle;\n",
       "    }\n",
       "\n",
       "    .dataframe tbody tr th {\n",
       "        vertical-align: top;\n",
       "    }\n",
       "\n",
       "    .dataframe thead th {\n",
       "        text-align: right;\n",
       "    }\n",
       "</style>\n",
       "<table border=\"1\" class=\"dataframe\">\n",
       "  <thead>\n",
       "    <tr style=\"text-align: right;\">\n",
       "      <th></th>\n",
       "      <th>uf</th>\n",
       "      <th>qtde</th>\n",
       "    </tr>\n",
       "  </thead>\n",
       "  <tbody>\n",
       "    <tr>\n",
       "      <th>0</th>\n",
       "      <td>São Paulo</td>\n",
       "      <td>7513480</td>\n",
       "    </tr>\n",
       "    <tr>\n",
       "      <th>1</th>\n",
       "      <td>Minas Gerais</td>\n",
       "      <td>1998656</td>\n",
       "    </tr>\n",
       "    <tr>\n",
       "      <th>2</th>\n",
       "      <td>Rio Grande do Sul</td>\n",
       "      <td>1606137</td>\n",
       "    </tr>\n",
       "    <tr>\n",
       "      <th>3</th>\n",
       "      <td>Paraná</td>\n",
       "      <td>1350352</td>\n",
       "    </tr>\n",
       "    <tr>\n",
       "      <th>4</th>\n",
       "      <td>Rio de Janeiro</td>\n",
       "      <td>1259856</td>\n",
       "    </tr>\n",
       "    <tr>\n",
       "      <th>5</th>\n",
       "      <td>Santa Catarina</td>\n",
       "      <td>1159450</td>\n",
       "    </tr>\n",
       "    <tr>\n",
       "      <th>6</th>\n",
       "      <td>Bahia</td>\n",
       "      <td>494785</td>\n",
       "    </tr>\n",
       "    <tr>\n",
       "      <th>7</th>\n",
       "      <td>Pernambuco</td>\n",
       "      <td>404135</td>\n",
       "    </tr>\n",
       "    <tr>\n",
       "      <th>8</th>\n",
       "      <td>Goiás</td>\n",
       "      <td>397585</td>\n",
       "    </tr>\n",
       "    <tr>\n",
       "      <th>9</th>\n",
       "      <td>Espírito Santo</td>\n",
       "      <td>339577</td>\n",
       "    </tr>\n",
       "    <tr>\n",
       "      <th>10</th>\n",
       "      <td>Pará</td>\n",
       "      <td>262536</td>\n",
       "    </tr>\n",
       "    <tr>\n",
       "      <th>11</th>\n",
       "      <td>Mato Grosso</td>\n",
       "      <td>244773</td>\n",
       "    </tr>\n",
       "    <tr>\n",
       "      <th>12</th>\n",
       "      <td>Ceará</td>\n",
       "      <td>241334</td>\n",
       "    </tr>\n",
       "    <tr>\n",
       "      <th>13</th>\n",
       "      <td>Mato Grosso do Sul</td>\n",
       "      <td>217536</td>\n",
       "    </tr>\n",
       "    <tr>\n",
       "      <th>14</th>\n",
       "      <td>Distrito Federal</td>\n",
       "      <td>184853</td>\n",
       "    </tr>\n",
       "    <tr>\n",
       "      <th>15</th>\n",
       "      <td>Amazonas</td>\n",
       "      <td>173389</td>\n",
       "    </tr>\n",
       "    <tr>\n",
       "      <th>16</th>\n",
       "      <td>Alagoas</td>\n",
       "      <td>146267</td>\n",
       "    </tr>\n",
       "    <tr>\n",
       "      <th>17</th>\n",
       "      <td>Rio Grande do Norte</td>\n",
       "      <td>131960</td>\n",
       "    </tr>\n",
       "    <tr>\n",
       "      <th>18</th>\n",
       "      <td>Maranhão</td>\n",
       "      <td>103212</td>\n",
       "    </tr>\n",
       "    <tr>\n",
       "      <th>19</th>\n",
       "      <td>Paraíba</td>\n",
       "      <td>90856</td>\n",
       "    </tr>\n",
       "    <tr>\n",
       "      <th>20</th>\n",
       "      <td>Rondônia</td>\n",
       "      <td>90682</td>\n",
       "    </tr>\n",
       "    <tr>\n",
       "      <th>21</th>\n",
       "      <td>Sergipe</td>\n",
       "      <td>77625</td>\n",
       "    </tr>\n",
       "    <tr>\n",
       "      <th>22</th>\n",
       "      <td>Piauí</td>\n",
       "      <td>56621</td>\n",
       "    </tr>\n",
       "    <tr>\n",
       "      <th>23</th>\n",
       "      <td>Tocantins</td>\n",
       "      <td>34786</td>\n",
       "    </tr>\n",
       "    <tr>\n",
       "      <th>24</th>\n",
       "      <td>Acre</td>\n",
       "      <td>16954</td>\n",
       "    </tr>\n",
       "    <tr>\n",
       "      <th>25</th>\n",
       "      <td>Amapá</td>\n",
       "      <td>12888</td>\n",
       "    </tr>\n",
       "    <tr>\n",
       "      <th>26</th>\n",
       "      <td>Roraima</td>\n",
       "      <td>10085</td>\n",
       "    </tr>\n",
       "  </tbody>\n",
       "</table>\n",
       "</div>"
      ],
      "text/plain": [
       "                     uf     qtde\n",
       "0             São Paulo  7513480\n",
       "1          Minas Gerais  1998656\n",
       "2     Rio Grande do Sul  1606137\n",
       "3                Paraná  1350352\n",
       "4        Rio de Janeiro  1259856\n",
       "5        Santa Catarina  1159450\n",
       "6                 Bahia   494785\n",
       "7            Pernambuco   404135\n",
       "8                 Goiás   397585\n",
       "9        Espírito Santo   339577\n",
       "10                 Pará   262536\n",
       "11          Mato Grosso   244773\n",
       "12                Ceará   241334\n",
       "13   Mato Grosso do Sul   217536\n",
       "14     Distrito Federal   184853\n",
       "15             Amazonas   173389\n",
       "16              Alagoas   146267\n",
       "17  Rio Grande do Norte   131960\n",
       "18             Maranhão   103212\n",
       "19              Paraíba    90856\n",
       "20             Rondônia    90682\n",
       "21              Sergipe    77625\n",
       "22                Piauí    56621\n",
       "23            Tocantins    34786\n",
       "24                 Acre    16954\n",
       "25                Amapá    12888\n",
       "26              Roraima    10085"
      ]
     },
     "execution_count": 9,
     "metadata": {},
     "output_type": "execute_result"
    }
   ],
   "source": [
    "#nomeArquivoUFSomaTotal\n",
    "df_uf = pd.DataFrame(df_result.groupby(['uf'], as_index=False)['qtde'].sum())\n",
    "df_uf = df_uf.sort_values(['qtde'], ascending = False)\n",
    "df_uf.index = range(df_uf.shape[0])\n",
    "\n",
    "df_uf.head(40)"
   ]
  },
  {
   "cell_type": "code",
   "execution_count": 10,
   "metadata": {},
   "outputs": [],
   "source": [
    "df_uf.to_csv(nomeArquivoUFSomaTotal, sep = ';', index=False, encoding='UTF-8')"
   ]
  },
  {
   "cell_type": "code",
   "execution_count": 11,
   "metadata": {},
   "outputs": [],
   "source": [
    "df_uf_soma_top = df_uf[0:5].copy()\n",
    "df_uf_soma_top.to_csv(nomeArquivoUFSomaTop, sep = ';', index=False, encoding='UTF-8')"
   ]
  },
  {
   "cell_type": "code",
   "execution_count": 12,
   "metadata": {},
   "outputs": [
    {
     "data": {
      "text/plain": [
       "0            São Paulo\n",
       "1         Minas Gerais\n",
       "2    Rio Grande do Sul\n",
       "3               Paraná\n",
       "4       Rio de Janeiro\n",
       "Name: uf, dtype: object"
      ]
     },
     "execution_count": 12,
     "metadata": {},
     "output_type": "execute_result"
    }
   ],
   "source": [
    "#selecionar as 5 UFs com maior quantidade de CATs \n",
    "df_top = df_uf[0:5]\n",
    "lista_uf = df_top['uf']\n",
    "lista_uf.head()"
   ]
  },
  {
   "cell_type": "code",
   "execution_count": 13,
   "metadata": {},
   "outputs": [
    {
     "data": {
      "text/plain": [
       "165"
      ]
     },
     "execution_count": 13,
     "metadata": {},
     "output_type": "execute_result"
    }
   ],
   "source": [
    "#selecionar as 5 UFs com maior quantidade de CATs no df de soma_ano:\n",
    "df_soma_ano = df_result.copy()\n",
    "condicao = df_soma_ano['uf'].isin(lista_uf)\n",
    "df_soma_ano = df_soma_ano[condicao].copy()\n",
    "df_soma_ano.index = range(df_soma_ano.shape[0])\n",
    "df_soma_ano.shape[0] # 33 anos x 5 UFs = 165\n"
   ]
  },
  {
   "cell_type": "code",
   "execution_count": 14,
   "metadata": {},
   "outputs": [
    {
     "data": {
      "text/html": [
       "<div>\n",
       "<style scoped>\n",
       "    .dataframe tbody tr th:only-of-type {\n",
       "        vertical-align: middle;\n",
       "    }\n",
       "\n",
       "    .dataframe tbody tr th {\n",
       "        vertical-align: top;\n",
       "    }\n",
       "\n",
       "    .dataframe thead th {\n",
       "        text-align: right;\n",
       "    }\n",
       "</style>\n",
       "<table border=\"1\" class=\"dataframe\">\n",
       "  <thead>\n",
       "    <tr style=\"text-align: right;\">\n",
       "      <th></th>\n",
       "      <th>uf</th>\n",
       "      <th>ano</th>\n",
       "      <th>qtde</th>\n",
       "    </tr>\n",
       "  </thead>\n",
       "  <tbody>\n",
       "    <tr>\n",
       "      <th>0</th>\n",
       "      <td>Minas Gerais</td>\n",
       "      <td>1988</td>\n",
       "      <td>95802</td>\n",
       "    </tr>\n",
       "    <tr>\n",
       "      <th>1</th>\n",
       "      <td>Minas Gerais</td>\n",
       "      <td>1989</td>\n",
       "      <td>89049</td>\n",
       "    </tr>\n",
       "    <tr>\n",
       "      <th>2</th>\n",
       "      <td>Minas Gerais</td>\n",
       "      <td>1990</td>\n",
       "      <td>67619</td>\n",
       "    </tr>\n",
       "    <tr>\n",
       "      <th>3</th>\n",
       "      <td>Minas Gerais</td>\n",
       "      <td>1991</td>\n",
       "      <td>65891</td>\n",
       "    </tr>\n",
       "    <tr>\n",
       "      <th>4</th>\n",
       "      <td>Minas Gerais</td>\n",
       "      <td>1992</td>\n",
       "      <td>57695</td>\n",
       "    </tr>\n",
       "  </tbody>\n",
       "</table>\n",
       "</div>"
      ],
      "text/plain": [
       "             uf   ano   qtde\n",
       "0  Minas Gerais  1988  95802\n",
       "1  Minas Gerais  1989  89049\n",
       "2  Minas Gerais  1990  67619\n",
       "3  Minas Gerais  1991  65891\n",
       "4  Minas Gerais  1992  57695"
      ]
     },
     "execution_count": 14,
     "metadata": {},
     "output_type": "execute_result"
    }
   ],
   "source": [
    "df_soma_ano.head()"
   ]
  },
  {
   "cell_type": "code",
   "execution_count": 15,
   "metadata": {},
   "outputs": [],
   "source": [
    "df_soma_ano.to_csv(nomeArquivoUFSomaAnoTop, sep = ';', index=False, encoding='UTF-8')"
   ]
  },
  {
   "cell_type": "code",
   "execution_count": 16,
   "metadata": {},
   "outputs": [
    {
     "data": {
      "text/html": [
       "<div>\n",
       "<style scoped>\n",
       "    .dataframe tbody tr th:only-of-type {\n",
       "        vertical-align: middle;\n",
       "    }\n",
       "\n",
       "    .dataframe tbody tr th {\n",
       "        vertical-align: top;\n",
       "    }\n",
       "\n",
       "    .dataframe thead th {\n",
       "        text-align: right;\n",
       "    }\n",
       "</style>\n",
       "<table border=\"1\" class=\"dataframe\">\n",
       "  <thead>\n",
       "    <tr style=\"text-align: right;\">\n",
       "      <th></th>\n",
       "      <th>ano</th>\n",
       "      <th>qtde</th>\n",
       "    </tr>\n",
       "  </thead>\n",
       "  <tbody>\n",
       "    <tr>\n",
       "      <th>count</th>\n",
       "      <td>165.000000</td>\n",
       "      <td>165.000000</td>\n",
       "    </tr>\n",
       "    <tr>\n",
       "      <th>mean</th>\n",
       "      <td>2004.000000</td>\n",
       "      <td>83202.915152</td>\n",
       "    </tr>\n",
       "    <tr>\n",
       "      <th>std</th>\n",
       "      <td>9.550891</td>\n",
       "      <td>81125.799905</td>\n",
       "    </tr>\n",
       "    <tr>\n",
       "      <th>min</th>\n",
       "      <td>1988.000000</td>\n",
       "      <td>0.000000</td>\n",
       "    </tr>\n",
       "    <tr>\n",
       "      <th>25%</th>\n",
       "      <td>1996.000000</td>\n",
       "      <td>37574.000000</td>\n",
       "    </tr>\n",
       "    <tr>\n",
       "      <th>50%</th>\n",
       "      <td>2004.000000</td>\n",
       "      <td>52111.000000</td>\n",
       "    </tr>\n",
       "    <tr>\n",
       "      <th>75%</th>\n",
       "      <td>2012.000000</td>\n",
       "      <td>77899.000000</td>\n",
       "    </tr>\n",
       "    <tr>\n",
       "      <th>max</th>\n",
       "      <td>2020.000000</td>\n",
       "      <td>446858.000000</td>\n",
       "    </tr>\n",
       "  </tbody>\n",
       "</table>\n",
       "</div>"
      ],
      "text/plain": [
       "               ano           qtde\n",
       "count   165.000000     165.000000\n",
       "mean   2004.000000   83202.915152\n",
       "std       9.550891   81125.799905\n",
       "min    1988.000000       0.000000\n",
       "25%    1996.000000   37574.000000\n",
       "50%    2004.000000   52111.000000\n",
       "75%    2012.000000   77899.000000\n",
       "max    2020.000000  446858.000000"
      ]
     },
     "execution_count": 16,
     "metadata": {},
     "output_type": "execute_result"
    }
   ],
   "source": [
    "df_soma_ano.describe()"
   ]
  },
  {
   "cell_type": "code",
   "execution_count": null,
   "metadata": {},
   "outputs": [],
   "source": []
  },
  {
   "cell_type": "code",
   "execution_count": null,
   "metadata": {},
   "outputs": [],
   "source": []
  }
 ],
 "metadata": {
  "kernelspec": {
   "display_name": "Python 3",
   "language": "python",
   "name": "python3"
  },
  "language_info": {
   "codemirror_mode": {
    "name": "ipython",
    "version": 3
   },
   "file_extension": ".py",
   "mimetype": "text/x-python",
   "name": "python",
   "nbconvert_exporter": "python",
   "pygments_lexer": "ipython3",
   "version": "3.8.3"
  }
 },
 "nbformat": 4,
 "nbformat_minor": 4
}
